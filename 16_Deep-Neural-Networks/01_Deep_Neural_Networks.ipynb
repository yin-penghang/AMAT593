{
  "cells": [
    {
      "cell_type": "markdown",
      "metadata": {
        "id": "view-in-github",
        "colab_type": "text"
      },
      "source": [
        "<a href=\"https://colab.research.google.com/github/yin-penghang/AMAT593/blob/main/16_Deep-Neural-Networks/01_Deep_Neural_Networks.ipynb\" target=\"_parent\"><img src=\"https://colab.research.google.com/assets/colab-badge.svg\" alt=\"Open In Colab\"/></a>"
      ]
    },
    {
      "cell_type": "markdown",
      "metadata": {
        "id": "_8M_4Cor4H2s"
      },
      "source": [
        "<a href=\"https://colab.research.google.com/github/yin-penghang/AMAT593/blob/main/16_Deep-Neural-Networks/01_Deep%20Neural%20Networks.ipynb\"><img align=\"left\" src=\"https://colab.research.google.com/assets/colab-badge.svg\" alt=\"Open in Colab\" title=\"Open and Execute in Google Colaboratory\"></a>"
      ]
    },
    {
      "cell_type": "markdown",
      "metadata": {
        "id": "uK-UfbhA0pK5"
      },
      "source": [
        "# Deep Neural Networks\n",
        "\n",
        "The code for network training should be executed within Google's [Colab Notebook](https://colab.research.google.com/github/yin-penghang/AMAT593/blob/main/16_Deep-Neural-Networks/01_Deep%20Neural%20Networks.ipynb) using GPU.\n",
        "\n",
        "## Basics \n",
        "\n",
        "In deep learning, we take deep neural networks as the model architecture. The word \"deep\" in \"deep learning\" refers to the number of layers through which the data is transformed. Deep learning architectures such as convolutional neural networks, recurrent neural networks and transformers have been applied to fields including computer vision, speech recognition, sentiment analysis, machine translation, bioinformatics, drug design, medical image analysis, material inspection and board game programs, where they have produced results comparable to and in some cases surpassing human expert performance.\n",
        "\n",
        "### Why GPU For Deep Learning \n",
        "\n",
        "A CPU in general completes its task in a **sequential** manner, whereas a GPU is the able to process a large number of simple calculations **in parallel**, which makes it very suitable for computing matrix multiplications and convolutions in deep learning.\n",
        "\n",
        "### Deep Learning Libraries and Platforms\n",
        "\n",
        "There are a number of open-source deep learning libraries and platforms available. Among them, [PyTorch](https://pytorch.org/) by Facebook and [TensorFlow](https://www.tensorflow.org/) by Google are the most popular for academic and research activities.\n",
        "\n",
        "We will use TensorFlow for lecturing. We will also need **Keras**, which is a high-level neural network library that runs on top of TensorFlow. \n",
        "\n",
        "You need to install Python dependecies ``tensorflow`` and ``keras`` for deep learning:\n",
        "- ``pip install tensorflow``\n",
        "- ``pip install keras``\n",
        "\n",
        "Building neural network models is like playing Lego, deep learning libraries provide the modules of different types of layers — Lego blocks  — to construct network architectures in a flexible way. They also include various convenient utility functions such as metrics as well as optimizers, making deep learning easy to train and deploy."
      ]
    },
    {
      "cell_type": "markdown",
      "metadata": {
        "id": "geM8VqIH3N2F"
      },
      "source": [
        "## Enabling GPU in Colab Notebook\n",
        "\n",
        "GPUs can process data several orders of magnitude faster than a CPU due to **massive parallelism**, although GPUs are not as versatile as CPUs. \n",
        "\n",
        "However, setting up a GPU so that it is ready for deep learning can be painful, as it requires the installation of several open-source softwares whose respective versions need to be compatible. **We can skip the software requirement if using GPU-enbaled Colab Notebook.**\n",
        "\n",
        "First, you'll need to enable GPU for the notebook:\n",
        "\n",
        "- Navigate to Edit→Notebook Settings\n",
        "- select GPU from the Hardware Accelerator drop-down\n",
        "\n",
        "Next, we'll confirm that we can connect to the GPU with tensorflow:"
      ]
    },
    {
      "cell_type": "code",
      "source": [
        "import tensorflow as tf\n",
        "import timeit"
      ],
      "metadata": {
        "id": "6NsnSvoDIqXj"
      },
      "execution_count": null,
      "outputs": []
    },
    {
      "cell_type": "code",
      "execution_count": null,
      "metadata": {
        "colab": {
          "base_uri": "https://localhost:8080/"
        },
        "id": "0Rdr6gTC1ctW",
        "outputId": "7654df09-ad69-4de7-b02e-e86045607346"
      },
      "outputs": [
        {
          "output_type": "stream",
          "name": "stdout",
          "text": [
            "Found GPU at: /device:GPU:0\n"
          ]
        }
      ],
      "source": [
        "device_name = tf.test.gpu_device_name()\n",
        "if device_name != '/device:GPU:0':\n",
        "  raise SystemError('GPU device not found')\n",
        "print('Found GPU at: {}'.format(device_name))"
      ]
    },
    {
      "cell_type": "markdown",
      "metadata": {
        "id": "uTQlUqK87B9j"
      },
      "source": [
        "### Observe TensorFlow speedup on GPU relative to CPU\n",
        "\n",
        "This example constructs a typical convolutional layer over a\n",
        "random image and manually places the resulting ops on either the CPU or the GPU to compare execution speed."
      ]
    },
    {
      "cell_type": "code",
      "execution_count": null,
      "metadata": {
        "colab": {
          "base_uri": "https://localhost:8080/"
        },
        "id": "-8xvcQHY7RQ-",
        "outputId": "7d9d6aba-ce57-4a68-e4a6-528abccd56c8"
      },
      "outputs": [
        {
          "output_type": "stream",
          "name": "stdout",
          "text": [
            "Time (s) to convolve 32x7x7x3 filter over random 100x100x100x3 images (batch size x height x width x channel).\n",
            "\n",
            " CPU time (s):\n",
            "4.381552384000031\n",
            "\n",
            " GPU time (s):\n",
            "0.09837672099996553\n",
            "\n",
            " GPU speedup over CPU: 44x\n"
          ]
        }
      ],
      "source": [
        "device_name = tf.test.gpu_device_name()\n",
        "if device_name != '/device:GPU:0':\n",
        "  print(\n",
        "      '\\n\\nThis error most likely means that this notebook is not '\n",
        "      'configured to use a GPU.  Change this in Notebook Settings via the '\n",
        "      'command palette (cmd/ctrl-shift-P) or the Edit menu.\\n\\n')\n",
        "  raise SystemError('GPU device not found')\n",
        "\n",
        "def cpu():\n",
        "  with tf.device('/cpu:0'):\n",
        "    random_image_cpu = tf.random.normal((100, 100, 100, 3))\n",
        "    net_cpu = tf.keras.layers.Conv2D(32, 7)(random_image_cpu)\n",
        "    return tf.math.reduce_sum(net_cpu)\n",
        "\n",
        "def gpu():\n",
        "  with tf.device('/device:GPU:0'):\n",
        "    random_image_gpu = tf.random.normal((100, 100, 100, 3))\n",
        "    net_gpu = tf.keras.layers.Conv2D(32, 7)(random_image_gpu)\n",
        "    return tf.math.reduce_sum(net_gpu)\n",
        "  \n",
        "# We run each op once to warm up\n",
        "cpu()\n",
        "gpu()\n",
        "\n",
        "# Run the op several times.\n",
        "print('Time (s) to convolve 32x7x7x3 filter over random 100x100x100x3 images '\n",
        "      '(batch size x height x width x channel).')\n",
        "print('\\n CPU time (s):')\n",
        "cpu_time = timeit.timeit('cpu()', number=10, setup=\"from __main__ import cpu\")\n",
        "print(cpu_time)\n",
        "print('\\n GPU time (s):')\n",
        "gpu_time = timeit.timeit('gpu()', number=10, setup=\"from __main__ import gpu\")\n",
        "print(gpu_time)\n",
        "print('\\n GPU speedup over CPU: {}x'.format(int(cpu_time/gpu_time)))"
      ]
    },
    {
      "cell_type": "markdown",
      "metadata": {
        "id": "n8E7UOzPvJc9"
      },
      "source": [
        "## Deep Learning with Local GPU\n",
        "\n",
        "There are limitations of using Colab's GPU for deep learning. For example, the GPU allocation per non-paid user is restricted to maximum 12 hours at a time. The next time you can use it will probably be after 12 hours or once another user has given up GPU ability. \n",
        "\n",
        "If you have a bare machine with an **NVIDIA** GPU card available, you may want to set up your own computers to be deep learning ready. The main reason that you need an NVIDIA GPU is because of [CUDA](https://en.wikipedia.org/wiki/CUDA). CUDA is a proprietary programming framework developed by NVIDIA that facilitates massive parallelization of computing tasks using the cores in an NVIDIA GPU. You'll also need to install [cuDNN](https://developer.nvidia.com/cudnn), a GPU-accelerated library of primitives for deep neural networks built using CUDA.\n",
        "\n",
        "Please check out [this article](https://spltech.co.uk/building-my-first-pc-for-deep-learning/) for details. "
      ]
    },
    {
      "cell_type": "markdown",
      "metadata": {
        "id": "gKKnoFPL4IAr"
      },
      "source": [
        "## MNIST Data preparation\n",
        "\n",
        "Load MNIST dataset from Keras and Preprocess"
      ]
    },
    {
      "cell_type": "code",
      "execution_count": null,
      "metadata": {
        "id": "r0FigdiN2I_n"
      },
      "outputs": [],
      "source": [
        "from keras.datasets import mnist\n",
        "from keras.utils import np_utils\n",
        "import matplotlib.pyplot as plt"
      ]
    },
    {
      "cell_type": "markdown",
      "metadata": {
        "id": "uphD4Cr34IAr"
      },
      "source": [
        "load (download if needed) the MNIST dataset"
      ]
    },
    {
      "cell_type": "code",
      "execution_count": null,
      "metadata": {
        "colab": {
          "base_uri": "https://localhost:8080/"
        },
        "id": "uG9yc0x62_5g",
        "outputId": "be15edee-8949-4d97-8bfb-060412698ef2"
      },
      "outputs": [
        {
          "output_type": "stream",
          "name": "stdout",
          "text": [
            "Downloading data from https://storage.googleapis.com/tensorflow/tf-keras-datasets/mnist.npz\n",
            "11490434/11490434 [==============================] - 1s 0us/step\n"
          ]
        }
      ],
      "source": [
        "(X_train, y_train), (X_test, y_test) = mnist.load_data()"
      ]
    },
    {
      "cell_type": "code",
      "execution_count": null,
      "metadata": {
        "colab": {
          "base_uri": "https://localhost:8080/"
        },
        "id": "dM1WDqQPBz1E",
        "outputId": "fe177ad1-15dc-4a82-a53b-09858fff8263"
      },
      "outputs": [
        {
          "output_type": "stream",
          "name": "stdout",
          "text": [
            "(60000, 28, 28)\n",
            "(60000,)\n"
          ]
        },
        {
          "output_type": "execute_result",
          "data": {
            "text/plain": [
              "(None, None)"
            ]
          },
          "metadata": {},
          "execution_count": 6
        }
      ],
      "source": [
        "print(X_train.shape), print(y_train.shape)"
      ]
    },
    {
      "cell_type": "code",
      "execution_count": null,
      "metadata": {
        "colab": {
          "base_uri": "https://localhost:8080/"
        },
        "id": "HuzoiVEoIIqM",
        "outputId": "497b9943-7144-45d1-85e9-0876b1c745f4"
      },
      "outputs": [
        {
          "output_type": "stream",
          "name": "stdout",
          "text": [
            "(10000, 28, 28)\n",
            "(10000,)\n"
          ]
        },
        {
          "output_type": "execute_result",
          "data": {
            "text/plain": [
              "(None, None)"
            ]
          },
          "metadata": {},
          "execution_count": 7
        }
      ],
      "source": [
        "print(X_test.shape), print(y_test.shape)"
      ]
    },
    {
      "cell_type": "markdown",
      "metadata": {
        "id": "NtCnUiAnTQHk"
      },
      "source": [
        "Plot 4 images as gray scale"
      ]
    },
    {
      "cell_type": "code",
      "execution_count": null,
      "metadata": {
        "colab": {
          "base_uri": "https://localhost:8080/",
          "height": 268
        },
        "id": "oiz67TOB3ABV",
        "outputId": "99bbabd8-4ab4-4d77-8033-1e77cdd690e9"
      },
      "outputs": [
        {
          "output_type": "display_data",
          "data": {
            "text/plain": [
              "<Figure size 432x288 with 4 Axes>"
            ],
            "image/png": "[encoded data removed]"
          },
          "metadata": {
            "needs_background": "light"
          }
        }
      ],
      "source": [
        "for i in range(4):\n",
        "    plt.subplot(2,2,i+1)\n",
        "    plt.imshow(X_train[i], cmap=plt.get_cmap('gray'))"
      ]
    },
    {
      "cell_type": "markdown",
      "metadata": {
        "id": "pQ94rPQX4IAu"
      },
      "source": [
        "## Warmup Example 1 : Logistic Regression\n",
        "\n",
        "To use logistic regression model, we will need to first flatten out the image samples into vectors. \n",
        "\n",
        "<img src='https://github.com/yin-penghang/AMAT593/blob/main/figs/16_MNIST_LR.png?raw=1' width = '800'>"
      ]
    },
    {
      "cell_type": "markdown",
      "metadata": {
        "id": "AV99b76kFAEG"
      },
      "source": [
        "Flatten 28x28 images to a 784 vector for each image"
      ]
    },
    {
      "cell_type": "code",
      "execution_count": null,
      "metadata": {
        "id": "hKJXlCni31hm"
      },
      "outputs": [],
      "source": [
        "num_pixels = X_train.shape[1] * X_train.shape[2]\n",
        "X_train = X_train.reshape((X_train.shape[0], num_pixels)).astype('float32')\n",
        "X_test = X_test.reshape((X_test.shape[0], num_pixels)).astype('float32')"
      ]
    },
    {
      "cell_type": "markdown",
      "metadata": {
        "id": "rjsKUQixE6In"
      },
      "source": [
        "Normalize inputs from 0-255 to 0-1"
      ]
    },
    {
      "cell_type": "code",
      "execution_count": null,
      "metadata": {
        "id": "iWYubs7G31Uc"
      },
      "outputs": [],
      "source": [
        "X_tr = X_train / 255\n",
        "X_te = X_test / 255"
      ]
    },
    {
      "cell_type": "markdown",
      "metadata": {
        "id": "Tw9_K3xQFHDN"
      },
      "source": [
        "Encode one-hot labels which are 10-D vectors, e.g., \n",
        "- digit 0 -> label (1,0,0,...,0)\n",
        "- digit 1 -> label (0,1,0,...,0)\n",
        "- digit 2 -> label (0,0,1,...,0)\n",
        "- ...\n",
        "- digit 9 -> label (0,0,0,...,1)"
      ]
    },
    {
      "cell_type": "code",
      "execution_count": null,
      "metadata": {
        "colab": {
          "base_uri": "https://localhost:8080/"
        },
        "id": "COH8ejau4qm8",
        "outputId": "0a9f65ca-23bb-4aa4-b8d5-e80dfce059aa"
      },
      "outputs": [
        {
          "output_type": "stream",
          "name": "stdout",
          "text": [
            "(60000, 10)\n"
          ]
        }
      ],
      "source": [
        "y_tr = np_utils.to_categorical(y_train,10)\n",
        "y_te = np_utils.to_categorical(y_test,10)\n",
        "num_classes = y_te.shape[1]\n",
        "\n",
        "print(y_tr.shape)"
      ]
    },
    {
      "cell_type": "markdown",
      "metadata": {
        "id": "RCkF0rag4IAv"
      },
      "source": [
        "### Implementation\n",
        "\n",
        "Create a new instance of a model object using the Keras **`Sequential` API**.\n",
        "The core idea of `Sequential` API is simply arranging the Keras layers in a sequential order. Most of the neural networks has layers in sequential order and the data flows from one layer to another layer in the given order until the data finally reaches the output layer.\n",
        "\n",
        "Specifically, we add a dense layer (fully-connected layer), followed by softmax function that normalizes outputs into probabilities which sum to one. We use ``categorical_crossentropy`` cross-entropy loss and ``adam`` optimization algorithm. \n",
        "\n",
        "Another popular way to create models in Keras is the **functional API** which is more flexible than `Sequential` API. The functional API can handle models with non-linear topology, shared layers, and multiple inputs or outputs.\n",
        "\n",
        "\n",
        "[Adam](https://arxiv.org/pdf/1412.6980.pdf) is a SGD variant with adaptive learning rate for each individual parameter. It is an viable alternative to Nesterov accelerated SGD and has gained much popularity in deep learning, because it requires only **minimum tuning of learning rate and other algorithmic hyper-parameters**."
      ]
    },
    {
      "cell_type": "code",
      "execution_count": null,
      "metadata": {
        "id": "ToZgrGOn31pd"
      },
      "outputs": [],
      "source": [
        "from keras.models import Sequential\n",
        "from keras.layers import Dense"
      ]
    },
    {
      "cell_type": "markdown",
      "source": [
        "Use `Sequential` API: "
      ],
      "metadata": {
        "id": "p3ME-cl6-nvx"
      }
    },
    {
      "cell_type": "code",
      "execution_count": null,
      "metadata": {
        "id": "ZKC9pJiw4IAv"
      },
      "outputs": [],
      "source": [
        "def logit_model():\n",
        "  # create model\n",
        "  model = Sequential()\n",
        "  # Fully-connected Layer with Softmax output\n",
        "  model.add(Dense(units = num_classes, activation='softmax'))\n",
        "  # Compile model with corss entropy loss and Adam optimizer\n",
        "  model.compile(loss='categorical_crossentropy', optimizer='Adam', metrics=['accuracy'])\n",
        "  return model"
      ]
    },
    {
      "cell_type": "markdown",
      "source": [
        "If we use the functional API, it will be like:"
      ],
      "metadata": {
        "id": "d5QCwZCb_0zM"
      }
    },
    {
      "cell_type": "code",
      "source": [
        "from keras.models import Model\n",
        "from keras.layers import Input"
      ],
      "metadata": {
        "id": "DPHvcBiWBICK"
      },
      "execution_count": null,
      "outputs": []
    },
    {
      "cell_type": "code",
      "source": [
        "def logit_model():\n",
        "  # Input layer\n",
        "  input = Input(shape = (num_pixels,))\n",
        "  # Fully-connected Layer with Softmax output\n",
        "  output = Dense(units = num_classes, activation='softmax')(input)\n",
        "\n",
        "  model = Model(inputs = input, outputs = output)\n",
        "  # Compile model with corss entropy loss and Adam optimizer\n",
        "  model.compile(loss='categorical_crossentropy', optimizer='Adam', metrics=['accuracy'])\n",
        "  return model"
      ],
      "metadata": {
        "id": "wRcMGM3KAHMf"
      },
      "execution_count": null,
      "outputs": []
    },
    {
      "cell_type": "markdown",
      "metadata": {
        "id": "16iSRLNIxzP5"
      },
      "source": [
        "### Model Validation:\n",
        "\n",
        "* `ModelCheckpoint` callback will ensure that the weights of model with the best validation accuracy is saved for the run for us to use later.  \n",
        "* use `EarlyStopping` callback to interrupt training when the validation accuracy\n",
        "is not improving for `patience=7` consecutive epochs.\n"
      ]
    },
    {
      "cell_type": "code",
      "execution_count": null,
      "metadata": {
        "id": "UM5c_6vFvygB"
      },
      "outputs": [],
      "source": [
        "from keras.callbacks import EarlyStopping, ModelCheckpoint"
      ]
    },
    {
      "cell_type": "code",
      "execution_count": null,
      "metadata": {
        "id": "-7iUx4qXvJdD"
      },
      "outputs": [],
      "source": [
        "path_checkpoint = \"logit_checkpoint.h5\"\n",
        "es_callback = EarlyStopping(monitor=\"val_accuracy\", patience=7)\n",
        "\n",
        "modelckpt_callback = ModelCheckpoint(\n",
        "    monitor=\"val_accuracy\",\n",
        "    filepath=path_checkpoint,\n",
        "    verbose=1,\n",
        "    save_weights_only=True,\n",
        "    save_best_only=True,\n",
        ")"
      ]
    },
    {
      "cell_type": "code",
      "execution_count": null,
      "metadata": {
        "colab": {
          "base_uri": "https://localhost:8080/"
        },
        "id": "9R6nWAC44IAw",
        "outputId": "ba299ca8-235c-4100-8760-95c85a83d0e6",
        "scrolled": false
      },
      "outputs": [
        {
          "output_type": "stream",
          "name": "stdout",
          "text": [
            "Epoch 1/40\n",
            "\n",
            "Epoch 1: val_accuracy improved from -inf to 0.90380, saving model to logit_checkpoint.h5\n",
            "600/600 - 4s - loss: 0.6260 - accuracy: 0.8456 - val_loss: 0.3621 - val_accuracy: 0.9038 - 4s/epoch - 6ms/step\n",
            "Epoch 2/40\n",
            "\n",
            "Epoch 2: val_accuracy improved from 0.90380 to 0.91440, saving model to logit_checkpoint.h5\n",
            "600/600 - 1s - loss: 0.3453 - accuracy: 0.9058 - val_loss: 0.3098 - val_accuracy: 0.9144 - 1s/epoch - 2ms/step\n",
            "Epoch 3/40\n",
            "\n",
            "Epoch 3: val_accuracy improved from 0.91440 to 0.91910, saving model to logit_checkpoint.h5\n",
            "600/600 - 1s - loss: 0.3091 - accuracy: 0.9147 - val_loss: 0.2883 - val_accuracy: 0.9191 - 1s/epoch - 2ms/step\n",
            "Epoch 4/40\n",
            "\n",
            "Epoch 4: val_accuracy improved from 0.91910 to 0.92220, saving model to logit_checkpoint.h5\n",
            "600/600 - 1s - loss: 0.2924 - accuracy: 0.9186 - val_loss: 0.2813 - val_accuracy: 0.9222 - 1s/epoch - 2ms/step\n",
            "Epoch 5/40\n",
            "\n",
            "Epoch 5: val_accuracy improved from 0.92220 to 0.92370, saving model to logit_checkpoint.h5\n",
            "600/600 - 1s - loss: 0.2817 - accuracy: 0.9215 - val_loss: 0.2746 - val_accuracy: 0.9237 - 1s/epoch - 2ms/step\n",
            "Epoch 6/40\n",
            "\n",
            "Epoch 6: val_accuracy improved from 0.92370 to 0.92460, saving model to logit_checkpoint.h5\n",
            "600/600 - 1s - loss: 0.2747 - accuracy: 0.9234 - val_loss: 0.2711 - val_accuracy: 0.9246 - 1s/epoch - 2ms/step\n",
            "Epoch 7/40\n",
            "\n",
            "Epoch 7: val_accuracy improved from 0.92460 to 0.92540, saving model to logit_checkpoint.h5\n",
            "600/600 - 1s - loss: 0.2694 - accuracy: 0.9250 - val_loss: 0.2698 - val_accuracy: 0.9254 - 1s/epoch - 2ms/step\n",
            "Epoch 8/40\n",
            "\n",
            "Epoch 8: val_accuracy did not improve from 0.92540\n",
            "600/600 - 2s - loss: 0.2653 - accuracy: 0.9267 - val_loss: 0.2678 - val_accuracy: 0.9254 - 2s/epoch - 3ms/step\n",
            "Epoch 9/40\n",
            "\n",
            "Epoch 9: val_accuracy did not improve from 0.92540\n",
            "600/600 - 2s - loss: 0.2618 - accuracy: 0.9273 - val_loss: 0.2687 - val_accuracy: 0.9253 - 2s/epoch - 3ms/step\n",
            "Epoch 10/40\n",
            "\n",
            "Epoch 10: val_accuracy improved from 0.92540 to 0.92560, saving model to logit_checkpoint.h5\n",
            "600/600 - 1s - loss: 0.2590 - accuracy: 0.9282 - val_loss: 0.2676 - val_accuracy: 0.9256 - 1s/epoch - 2ms/step\n",
            "Epoch 11/40\n",
            "\n",
            "Epoch 11: val_accuracy improved from 0.92560 to 0.92610, saving model to logit_checkpoint.h5\n",
            "600/600 - 1s - loss: 0.2568 - accuracy: 0.9292 - val_loss: 0.2651 - val_accuracy: 0.9261 - 1s/epoch - 2ms/step\n",
            "Epoch 12/40\n",
            "\n",
            "Epoch 12: val_accuracy did not improve from 0.92610\n",
            "600/600 - 2s - loss: 0.2547 - accuracy: 0.9294 - val_loss: 0.2657 - val_accuracy: 0.9256 - 2s/epoch - 3ms/step\n",
            "Epoch 13/40\n",
            "\n",
            "Epoch 13: val_accuracy did not improve from 0.92610\n",
            "600/600 - 1s - loss: 0.2531 - accuracy: 0.9300 - val_loss: 0.2686 - val_accuracy: 0.9261 - 1s/epoch - 2ms/step\n",
            "Epoch 14/40\n",
            "\n",
            "Epoch 14: val_accuracy improved from 0.92610 to 0.92720, saving model to logit_checkpoint.h5\n",
            "600/600 - 1s - loss: 0.2514 - accuracy: 0.9299 - val_loss: 0.2636 - val_accuracy: 0.9272 - 1s/epoch - 2ms/step\n",
            "Epoch 15/40\n",
            "\n",
            "Epoch 15: val_accuracy improved from 0.92720 to 0.92740, saving model to logit_checkpoint.h5\n",
            "600/600 - 1s - loss: 0.2498 - accuracy: 0.9311 - val_loss: 0.2628 - val_accuracy: 0.9274 - 1s/epoch - 2ms/step\n",
            "Epoch 16/40\n",
            "\n",
            "Epoch 16: val_accuracy improved from 0.92740 to 0.92830, saving model to logit_checkpoint.h5\n",
            "600/600 - 1s - loss: 0.2485 - accuracy: 0.9312 - val_loss: 0.2615 - val_accuracy: 0.9283 - 1s/epoch - 2ms/step\n",
            "Epoch 17/40\n",
            "\n",
            "Epoch 17: val_accuracy did not improve from 0.92830\n",
            "600/600 - 2s - loss: 0.2472 - accuracy: 0.9321 - val_loss: 0.2638 - val_accuracy: 0.9282 - 2s/epoch - 3ms/step\n",
            "Epoch 18/40\n",
            "\n",
            "Epoch 18: val_accuracy did not improve from 0.92830\n",
            "600/600 - 1s - loss: 0.2461 - accuracy: 0.9324 - val_loss: 0.2639 - val_accuracy: 0.9273 - 1s/epoch - 2ms/step\n",
            "Epoch 19/40\n",
            "\n",
            "Epoch 19: val_accuracy did not improve from 0.92830\n",
            "600/600 - 1s - loss: 0.2451 - accuracy: 0.9325 - val_loss: 0.2624 - val_accuracy: 0.9272 - 1s/epoch - 2ms/step\n",
            "Epoch 20/40\n",
            "\n",
            "Epoch 20: val_accuracy did not improve from 0.92830\n",
            "600/600 - 1s - loss: 0.2443 - accuracy: 0.9326 - val_loss: 0.2645 - val_accuracy: 0.9272 - 1s/epoch - 2ms/step\n",
            "Epoch 21/40\n",
            "\n",
            "Epoch 21: val_accuracy did not improve from 0.92830\n",
            "600/600 - 1s - loss: 0.2432 - accuracy: 0.9334 - val_loss: 0.2614 - val_accuracy: 0.9272 - 1s/epoch - 2ms/step\n",
            "Epoch 22/40\n",
            "\n",
            "Epoch 22: val_accuracy did not improve from 0.92830\n",
            "600/600 - 2s - loss: 0.2426 - accuracy: 0.9333 - val_loss: 0.2636 - val_accuracy: 0.9274 - 2s/epoch - 3ms/step\n",
            "Epoch 23/40\n",
            "\n",
            "Epoch 23: val_accuracy did not improve from 0.92830\n",
            "600/600 - 1s - loss: 0.2414 - accuracy: 0.9334 - val_loss: 0.2645 - val_accuracy: 0.9269 - 1s/epoch - 2ms/step\n"
          ]
        },
        {
          "output_type": "execute_result",
          "data": {
            "text/plain": [
              "<keras.callbacks.History at 0x7f8a0c3f8370>"
            ]
          },
          "metadata": {},
          "execution_count": 23
        }
      ],
      "source": [
        "# build the model\n",
        "model = logit_model()\n",
        "# Fit the model\n",
        "model.fit(X_tr, y_tr, validation_data=(X_te, y_te), \n",
        "          epochs=40, batch_size=100, \n",
        "          callbacks=[es_callback, modelckpt_callback], \n",
        "          verbose=2)"
      ]
    },
    {
      "cell_type": "markdown",
      "metadata": {
        "id": "2ONFjMgyr5Da"
      },
      "source": [
        "### Save and Load the Trained Model\n",
        "\n",
        "It is very convenient to save the trained neural network model. You can load it whenever needed for prediction.\n",
        "\n",
        "The model consists of multiple components:\n",
        "\n",
        "* the architecture, or configuration, which specifies what layers the model contain, and how they're connected.\n",
        "\n",
        "* a set of weights values (the \"state of the model\").\n",
        "\n",
        "* an optimizer (defined by compiling the model).\n",
        "\n",
        "* a set of losses and metrics (defined by compiling the model or calling add_loss() or add_metric()).\n",
        "\n",
        "There are two formats you can use to save an entire model to disk: the TensorFlow **SavedModel** format, and the older Keras **H5 format**. **SavedModel** format is the default when you use ``model.save()``."
      ]
    },
    {
      "cell_type": "markdown",
      "metadata": {
        "id": "n2o72DYEydjP"
      },
      "source": [
        "Chekc the validation accuracy of the checkpointed model by loading the saved weights."
      ]
    },
    {
      "cell_type": "code",
      "execution_count": null,
      "metadata": {
        "id": "ma2nrf44943T"
      },
      "outputs": [],
      "source": [
        "model.save('logit')"
      ]
    },
    {
      "cell_type": "code",
      "execution_count": null,
      "metadata": {
        "colab": {
          "base_uri": "https://localhost:8080/"
        },
        "id": "BYW-6f46wOpD",
        "outputId": "c697a6fb-7591-4f74-99b7-c0541cf06cc9"
      },
      "outputs": [
        {
          "output_type": "stream",
          "name": "stdout",
          "text": [
            "\n",
            " Best validation accuracy: 92.69%\n"
          ]
        }
      ],
      "source": [
        "# load the saved weights \n",
        "model.load_weights('logit')\n",
        "scores = model.evaluate(X_te, y_te, verbose=0)\n",
        "print(\"\\n Best validation accuracy: %.2f%%\" % (scores[1]*100))"
      ]
    },
    {
      "cell_type": "markdown",
      "metadata": {
        "id": "Plr5jmgE4IAw"
      },
      "source": [
        "**We can check the total number of trainable parameters in the model**:"
      ]
    },
    {
      "cell_type": "code",
      "execution_count": null,
      "metadata": {
        "colab": {
          "base_uri": "https://localhost:8080/"
        },
        "id": "NE1qBIIp4IAw",
        "outputId": "4621b057-3480-483d-b85b-ff4f8cd81007"
      },
      "outputs": [
        {
          "name": "stdout",
          "output_type": "stream",
          "text": [
            "Model: \"sequential_6\"\n",
            "_________________________________________________________________\n",
            "Layer (type)                 Output Shape              Param #   \n",
            "=================================================================\n",
            "dense_8 (Dense)              (None, 10)                7850      \n",
            "=================================================================\n",
            "Total params: 7,850\n",
            "Trainable params: 7,850\n",
            "Non-trainable params: 0\n",
            "_________________________________________________________________\n"
          ]
        }
      ],
      "source": [
        "model.summary()"
      ]
    },
    {
      "cell_type": "markdown",
      "metadata": {
        "id": "jQOBaKW673rE"
      },
      "source": [
        "## Warmup Example 2 : Two-Layer Networks\n",
        "\n",
        "We can view logistic regression model as a **one-dense-layer network** with 784x10 weight matrix. Next, we aim to improve the prediction accuracy, adding one more dense layer with a nonlinear activation layer (applied **entry-wise**), so-called **rectified linear units (ReLU)** \n",
        "\n",
        "$$\n",
        "\\sigma(x) = \\max(x,0)\n",
        "$$ \n",
        "\n",
        "to increase the model capacity/complexity. \n",
        "\n",
        "<img src='https://github.com/yin-penghang/AMAT593/blob/main/figs/16_ReLU.png?raw=1'>\n",
        "\n",
        "However, adding dense layers will result in **tremendous growth of the number of model parameters.** "
      ]
    },
    {
      "cell_type": "markdown",
      "metadata": {
        "id": "L45G6Jg18_3g"
      },
      "source": [
        "**Define Two-Layer Model**\n",
        "\n",
        "Create a new instance of a model object using sequential model API. Then add two Dense linear layers, one ReLU activation layer, and Softmax output layer to the architecture. Finally, compile the model with the ``categorical_crossentropy`` loss function and ``adam`` optimization algorithm. When compiling the model, add ``metrics=[‘accuracy’]`` to calculate the accuracy of the model."
      ]
    },
    {
      "cell_type": "code",
      "execution_count": null,
      "metadata": {
        "id": "zZHo_tiR41t3"
      },
      "outputs": [],
      "source": [
        "def two_layer_model():\n",
        "  # create model\n",
        "  model = Sequential()\n",
        "  # Fully-connected Layer with ReLU activation\n",
        "  model.add(Dense(units = num_pixels, activation='relu'))\n",
        "  # Fully-connected Layer with Softmax output\n",
        "  model.add(Dense(units = num_classes, activation='softmax'))\n",
        "  # Compile model with corss entropy loss and Adam optimizer\n",
        "  model.compile(loss='categorical_crossentropy', optimizer='adam', metrics=['accuracy'])\n",
        "  return model"
      ]
    },
    {
      "cell_type": "markdown",
      "metadata": {
        "id": "1h_y2H0r1wiN"
      },
      "source": [
        "Set up the callbacks for checkpoint and early stopping"
      ]
    },
    {
      "cell_type": "code",
      "execution_count": null,
      "metadata": {
        "id": "-AjzQDu5ztPE"
      },
      "outputs": [],
      "source": [
        "path_checkpoint = \"2layer_checkpoint.h5\"\n",
        "es_callback = EarlyStopping(monitor=\"val_accuracy\", patience=7)\n",
        "\n",
        "modelckpt_callback = ModelCheckpoint(\n",
        "    monitor=\"val_accuracy\",\n",
        "    filepath=path_checkpoint,\n",
        "    verbose=1,\n",
        "    save_weights_only=True,\n",
        "    save_best_only=True,\n",
        ")"
      ]
    },
    {
      "cell_type": "markdown",
      "metadata": {
        "id": "fYRIJguJGb5s"
      },
      "source": [
        "Build, train, and evaluate the model"
      ]
    },
    {
      "cell_type": "code",
      "execution_count": null,
      "metadata": {
        "colab": {
          "base_uri": "https://localhost:8080/"
        },
        "id": "ZVOGXIzl46FC",
        "outputId": "2ab5e7df-2eab-4c60-8ba7-b89eb4c904da"
      },
      "outputs": [
        {
          "name": "stdout",
          "output_type": "stream",
          "text": [
            "Epoch 1/50\n",
            "600/600 - 2s - loss: 0.2308 - accuracy: 0.9334 - val_loss: 0.1094 - val_accuracy: 0.9672\n",
            "\n",
            "Epoch 00001: val_accuracy improved from -inf to 0.96720, saving model to 2layer_checkpoint.h5\n",
            "Epoch 2/50\n",
            "600/600 - 1s - loss: 0.0900 - accuracy: 0.9733 - val_loss: 0.0834 - val_accuracy: 0.9738\n",
            "\n",
            "Epoch 00002: val_accuracy improved from 0.96720 to 0.97380, saving model to 2layer_checkpoint.h5\n",
            "Epoch 3/50\n",
            "600/600 - 1s - loss: 0.0568 - accuracy: 0.9826 - val_loss: 0.0679 - val_accuracy: 0.9782\n",
            "\n",
            "Epoch 00003: val_accuracy improved from 0.97380 to 0.97820, saving model to 2layer_checkpoint.h5\n",
            "Epoch 4/50\n",
            "600/600 - 2s - loss: 0.0386 - accuracy: 0.9887 - val_loss: 0.0650 - val_accuracy: 0.9787\n",
            "\n",
            "Epoch 00004: val_accuracy improved from 0.97820 to 0.97870, saving model to 2layer_checkpoint.h5\n",
            "Epoch 5/50\n",
            "600/600 - 2s - loss: 0.0294 - accuracy: 0.9913 - val_loss: 0.0586 - val_accuracy: 0.9825\n",
            "\n",
            "Epoch 00005: val_accuracy improved from 0.97870 to 0.98250, saving model to 2layer_checkpoint.h5\n",
            "Epoch 6/50\n",
            "600/600 - 1s - loss: 0.0200 - accuracy: 0.9942 - val_loss: 0.0584 - val_accuracy: 0.9814\n",
            "\n",
            "Epoch 00006: val_accuracy did not improve from 0.98250\n",
            "Epoch 7/50\n",
            "600/600 - 1s - loss: 0.0154 - accuracy: 0.9955 - val_loss: 0.0646 - val_accuracy: 0.9795\n",
            "\n",
            "Epoch 00007: val_accuracy did not improve from 0.98250\n",
            "Epoch 8/50\n",
            "600/600 - 1s - loss: 0.0126 - accuracy: 0.9961 - val_loss: 0.0766 - val_accuracy: 0.9777\n",
            "\n",
            "Epoch 00008: val_accuracy did not improve from 0.98250\n",
            "Epoch 9/50\n",
            "600/600 - 1s - loss: 0.0099 - accuracy: 0.9969 - val_loss: 0.0690 - val_accuracy: 0.9808\n",
            "\n",
            "Epoch 00009: val_accuracy did not improve from 0.98250\n",
            "Epoch 10/50\n",
            "600/600 - 2s - loss: 0.0082 - accuracy: 0.9978 - val_loss: 0.0702 - val_accuracy: 0.9811\n",
            "\n",
            "Epoch 00010: val_accuracy did not improve from 0.98250\n",
            "Epoch 11/50\n",
            "600/600 - 1s - loss: 0.0059 - accuracy: 0.9985 - val_loss: 0.0649 - val_accuracy: 0.9828\n",
            "\n",
            "Epoch 00011: val_accuracy improved from 0.98250 to 0.98280, saving model to 2layer_checkpoint.h5\n",
            "Epoch 12/50\n",
            "600/600 - 2s - loss: 0.0084 - accuracy: 0.9973 - val_loss: 0.0740 - val_accuracy: 0.9814\n",
            "\n",
            "Epoch 00012: val_accuracy did not improve from 0.98280\n",
            "Epoch 13/50\n",
            "600/600 - 1s - loss: 0.0064 - accuracy: 0.9981 - val_loss: 0.0745 - val_accuracy: 0.9822\n",
            "\n",
            "Epoch 00013: val_accuracy did not improve from 0.98280\n",
            "Epoch 14/50\n",
            "600/600 - 1s - loss: 0.0083 - accuracy: 0.9976 - val_loss: 0.0690 - val_accuracy: 0.9831\n",
            "\n",
            "Epoch 00014: val_accuracy improved from 0.98280 to 0.98310, saving model to 2layer_checkpoint.h5\n",
            "Epoch 15/50\n",
            "600/600 - 1s - loss: 0.0037 - accuracy: 0.9990 - val_loss: 0.0708 - val_accuracy: 0.9841\n",
            "\n",
            "Epoch 00015: val_accuracy improved from 0.98310 to 0.98410, saving model to 2layer_checkpoint.h5\n",
            "Epoch 16/50\n",
            "600/600 - 2s - loss: 0.0048 - accuracy: 0.9986 - val_loss: 0.1006 - val_accuracy: 0.9772\n",
            "\n",
            "Epoch 00016: val_accuracy did not improve from 0.98410\n",
            "Epoch 17/50\n",
            "600/600 - 2s - loss: 0.0073 - accuracy: 0.9976 - val_loss: 0.0762 - val_accuracy: 0.9828\n",
            "\n",
            "Epoch 00017: val_accuracy did not improve from 0.98410\n",
            "Epoch 18/50\n",
            "600/600 - 2s - loss: 0.0030 - accuracy: 0.9992 - val_loss: 0.0782 - val_accuracy: 0.9834\n",
            "\n",
            "Epoch 00018: val_accuracy did not improve from 0.98410\n",
            "Epoch 19/50\n",
            "600/600 - 1s - loss: 0.0030 - accuracy: 0.9992 - val_loss: 0.0823 - val_accuracy: 0.9823\n",
            "\n",
            "Epoch 00019: val_accuracy did not improve from 0.98410\n",
            "Epoch 20/50\n",
            "600/600 - 2s - loss: 0.0077 - accuracy: 0.9976 - val_loss: 0.0735 - val_accuracy: 0.9839\n",
            "\n",
            "Epoch 00020: val_accuracy did not improve from 0.98410\n",
            "Epoch 21/50\n",
            "600/600 - 2s - loss: 8.6521e-04 - accuracy: 0.9999 - val_loss: 0.0737 - val_accuracy: 0.9843\n",
            "\n",
            "Epoch 00021: val_accuracy improved from 0.98410 to 0.98430, saving model to 2layer_checkpoint.h5\n",
            "Epoch 22/50\n",
            "600/600 - 1s - loss: 2.7830e-04 - accuracy: 1.0000 - val_loss: 0.0714 - val_accuracy: 0.9849\n",
            "\n",
            "Epoch 00022: val_accuracy improved from 0.98430 to 0.98490, saving model to 2layer_checkpoint.h5\n",
            "Epoch 23/50\n",
            "600/600 - 2s - loss: 9.8290e-05 - accuracy: 1.0000 - val_loss: 0.0732 - val_accuracy: 0.9849\n",
            "\n",
            "Epoch 00023: val_accuracy did not improve from 0.98490\n",
            "Epoch 24/50\n",
            "600/600 - 1s - loss: 6.1541e-05 - accuracy: 1.0000 - val_loss: 0.0736 - val_accuracy: 0.9848\n",
            "\n",
            "Epoch 00024: val_accuracy did not improve from 0.98490\n",
            "Epoch 25/50\n",
            "600/600 - 2s - loss: 4.8387e-05 - accuracy: 1.0000 - val_loss: 0.0745 - val_accuracy: 0.9848\n",
            "\n",
            "Epoch 00025: val_accuracy did not improve from 0.98490\n",
            "Epoch 26/50\n",
            "600/600 - 1s - loss: 3.8969e-05 - accuracy: 1.0000 - val_loss: 0.0756 - val_accuracy: 0.9847\n",
            "\n",
            "Epoch 00026: val_accuracy did not improve from 0.98490\n",
            "Epoch 27/50\n",
            "600/600 - 2s - loss: 3.1995e-05 - accuracy: 1.0000 - val_loss: 0.0766 - val_accuracy: 0.9848\n",
            "\n",
            "Epoch 00027: val_accuracy did not improve from 0.98490\n",
            "Epoch 28/50\n",
            "600/600 - 2s - loss: 2.6725e-05 - accuracy: 1.0000 - val_loss: 0.0772 - val_accuracy: 0.9849\n",
            "\n",
            "Epoch 00028: val_accuracy did not improve from 0.98490\n",
            "Epoch 29/50\n",
            "600/600 - 2s - loss: 2.3194e-05 - accuracy: 1.0000 - val_loss: 0.0781 - val_accuracy: 0.9852\n",
            "\n",
            "Epoch 00029: val_accuracy improved from 0.98490 to 0.98520, saving model to 2layer_checkpoint.h5\n",
            "Epoch 30/50\n",
            "600/600 - 1s - loss: 0.0157 - accuracy: 0.9960 - val_loss: 0.1122 - val_accuracy: 0.9781\n",
            "\n",
            "Epoch 00030: val_accuracy did not improve from 0.98520\n",
            "Epoch 31/50\n",
            "600/600 - 1s - loss: 0.0104 - accuracy: 0.9966 - val_loss: 0.0808 - val_accuracy: 0.9830\n",
            "\n",
            "Epoch 00031: val_accuracy did not improve from 0.98520\n",
            "Epoch 32/50\n",
            "600/600 - 1s - loss: 0.0015 - accuracy: 0.9996 - val_loss: 0.0779 - val_accuracy: 0.9837\n",
            "\n",
            "Epoch 00032: val_accuracy did not improve from 0.98520\n",
            "Epoch 33/50\n",
            "600/600 - 2s - loss: 3.6269e-04 - accuracy: 1.0000 - val_loss: 0.0799 - val_accuracy: 0.9842\n",
            "\n",
            "Epoch 00033: val_accuracy did not improve from 0.98520\n",
            "Epoch 34/50\n",
            "600/600 - 2s - loss: 1.2146e-04 - accuracy: 1.0000 - val_loss: 0.0783 - val_accuracy: 0.9846\n",
            "\n",
            "Epoch 00034: val_accuracy did not improve from 0.98520\n",
            "Epoch 35/50\n",
            "600/600 - 1s - loss: 7.1750e-05 - accuracy: 1.0000 - val_loss: 0.0787 - val_accuracy: 0.9846\n",
            "\n",
            "Epoch 00035: val_accuracy did not improve from 0.98520\n",
            "Epoch 36/50\n",
            "600/600 - 2s - loss: 4.6166e-05 - accuracy: 1.0000 - val_loss: 0.0787 - val_accuracy: 0.9847\n",
            "\n",
            "Epoch 00036: val_accuracy did not improve from 0.98520\n"
          ]
        },
        {
          "data": {
            "text/plain": [
              "<keras.callbacks.History at 0x7feb6009ee50>"
            ]
          },
          "execution_count": 21,
          "metadata": {},
          "output_type": "execute_result"
        }
      ],
      "source": [
        "# build the model\n",
        "model = two_layer_model()\n",
        "# Fit the model\n",
        "# Fit the model\n",
        "model.fit(X_tr, y_tr, validation_data=(X_te, y_te), \n",
        "          epochs=50, batch_size=100, \n",
        "          callbacks=[es_callback, modelckpt_callback], \n",
        "          verbose=2)"
      ]
    },
    {
      "cell_type": "markdown",
      "metadata": {
        "id": "oQR_bu7U943V"
      },
      "source": [
        "**Load the model directly from checkpoint:**"
      ]
    },
    {
      "cell_type": "code",
      "execution_count": null,
      "metadata": {
        "colab": {
          "base_uri": "https://localhost:8080/"
        },
        "id": "71F3auwG0B20",
        "outputId": "6ad8a5db-9f5c-4ea0-8618-06b99ecfb9ef"
      },
      "outputs": [
        {
          "name": "stdout",
          "output_type": "stream",
          "text": [
            "\n",
            " Best validation accuracy: 98.52%\n"
          ]
        }
      ],
      "source": [
        "# load the saved weights \n",
        "model.load_weights(path_checkpoint)\n",
        "scores = model.evaluate(X_te, y_te, verbose=0)\n",
        "print(\"\\n Best validation accuracy: %.2f%%\" % (scores[1]*100))"
      ]
    },
    {
      "cell_type": "markdown",
      "metadata": {
        "id": "JA-O37s0r5DX"
      },
      "source": [
        "The two-dense-layer network has 623,290 trainable parameters:"
      ]
    },
    {
      "cell_type": "code",
      "execution_count": null,
      "metadata": {
        "colab": {
          "base_uri": "https://localhost:8080/"
        },
        "id": "aa5fx1-C4IAy",
        "outputId": "32c2d322-ec37-4157-833a-9b23936bcbcd",
        "scrolled": true
      },
      "outputs": [
        {
          "name": "stdout",
          "output_type": "stream",
          "text": [
            "Model: \"sequential_1\"\n",
            "_________________________________________________________________\n",
            "Layer (type)                 Output Shape              Param #   \n",
            "=================================================================\n",
            "dense_1 (Dense)              (None, 784)               615440    \n",
            "_________________________________________________________________\n",
            "dense_2 (Dense)              (None, 10)                7850      \n",
            "=================================================================\n",
            "Total params: 623,290\n",
            "Trainable params: 623,290\n",
            "Non-trainable params: 0\n",
            "_________________________________________________________________\n"
          ]
        }
      ],
      "source": [
        "model.summary()"
      ]
    },
    {
      "cell_type": "markdown",
      "metadata": {
        "id": "8GZ370z56MOC"
      },
      "source": [
        "## MNIST Classification with LeNet-5\n",
        "\n",
        "LeNet-5 architecture was proposed by [LeCun et al.](http://vision.stanford.edu/cs598_spring07/papers/Lecun98.pdf) in 1998. It has 5 linear layers including 3 convolutional layers and 2 dense layers. \n",
        "\n",
        "\n",
        "<img src = '../figs/16_lenet5.png'>\n",
        "\n",
        "The original LeNet-5 architecture:\n",
        "\n",
        "* pad each images with zeros and increase size to 32x32\n",
        "\n",
        "* convolutional layer $C_1$ with 6 filters of size 5x5, followed by tanh activation layer. **output dimension = 28x28x6**\n",
        "\n",
        "* 2x2 average pooling layer $S_2$ for subsampling. **output dimension = 14x14x6**\n",
        "\n",
        "* convolutional layer $C_3$ with 16 filters of size 6x5x5, followed by tanh activation layer. **output dimension = 10x10x16**\n",
        "\n",
        "* 2x2 average pooling layer $S_4$ for subsampling. **output dimension = 5x5x16**\n",
        "\n",
        "* convolutional layer $C_5$ with 120 filters of size 16x5x5, followed by tanh activation layer. **output dimension = 1x1x120**\n",
        "\n",
        "* flatten out the 120x1x1 tensor into 120-D vector.\n",
        "\n",
        "* dense layer of 84x120 weight matrix.  **output dimension = 84**\n",
        "\n",
        "* dense layer of 10x84 weight matrix.  **output dimension = 10**\n",
        "\n",
        "* softmax layer\n",
        "\n",
        "\n",
        "Convolutional neural networks have the following merits:\n",
        "\n",
        "* Convolutional layers use **weight sharing** and subsampling (known as **pooling**), leading to compact model sizes. \n",
        "\n",
        "* Convolutional neural networks are very good feature extractors. They outperform dense neural networks on conventional image recognition tasks and many other tasks. \n",
        "\n",
        "\n",
        "#### How a convolutional layer works (with kernel_size=(3, 3), strides = 1, padding = 1):\n",
        "\n",
        "<img src = '../figs/16_conv2d.gif'>\n",
        "\n",
        "* Weights (in the kernel) are re-used across the patches, so-called weight **sharing**\n",
        "\n",
        "#### How 2x2 pooling works (with strides = 2): \n",
        "\n",
        "<img src = '../figs/16_maxpool.gif'>\n",
        "\n",
        "* Each dimension is halved.\n",
        "\n",
        "#### Feature maps output from the intermediate layers of LeNet-5 in generating predictions:\n",
        "\n",
        "<img src = '../figs/16_lenet.gif' width = 800>\n",
        "\n",
        "\n",
        "Morden convolutional nerual networks only have one dense layer on the top serving as the linear classifer with all convolutional layers beneath as the feature extractor. "
      ]
    },
    {
      "cell_type": "markdown",
      "metadata": {
        "id": "QfnOlMhL0pLJ"
      },
      "source": [
        "Reload the image and reshape images into 4-D array"
      ]
    },
    {
      "cell_type": "code",
      "execution_count": null,
      "metadata": {
        "id": "Oa4yWpu4Bx4D"
      },
      "outputs": [],
      "source": [
        "from keras.utils import np_utils\n",
        "\n",
        "(X_train, y_train), (X_test, y_test) = mnist.load_data()\n",
        "# Set numeric type to float32 from uint8\n",
        "X_train = X_train.astype('float32')\n",
        "X_test = X_test.astype('float32')\n",
        "\n",
        "# Normalize value to [0, 1]\n",
        "X_train /= 255\n",
        "X_test /= 255\n",
        "\n",
        "# Transform lables to one-hot encoding\n",
        "y_tr = np_utils.to_categorical(y_train, 10)\n",
        "y_te = np_utils.to_categorical(y_test, 10)\n",
        "\n",
        "# Reshape the dataset into 4D array\n",
        "X_tr = X_train.reshape(X_train.shape[0], 28,28,1)\n",
        "X_te = X_test.reshape(X_test.shape[0], 28,28,1)"
      ]
    },
    {
      "cell_type": "markdown",
      "metadata": {
        "id": "nKp-TbA8DEsY"
      },
      "source": [
        "\n",
        "Create a new instance of a model object using sequential model API. Then add layers to the neural network as per LeNet-5 architecture. Finally, compile the model with the ``categorical_crossentropy`` loss function and SGD algorithm combined with Nesterov momentum. When compiling the model, add ``metrics=[‘accuracy’]`` to calculate the accuracy of the model.\n",
        "\n",
        "**We make the following changes on the original LeNet-5:**\n",
        "\n",
        "- use ReLU activation instead of tanh\n",
        "\n",
        "- use max pooling instead of average pooling"
      ]
    },
    {
      "cell_type": "code",
      "source": [
        "from keras.layers import Conv2D, MaxPool2D, Flatten, ZeroPadding2D, Dense\n",
        "from keras.models import Sequential\n",
        "from tensorflow.keras import optimizers"
      ],
      "metadata": {
        "id": "GYc-rym9JJIX"
      },
      "execution_count": null,
      "outputs": []
    },
    {
      "cell_type": "code",
      "execution_count": null,
      "metadata": {
        "id": "75ZzOuCl6U6T"
      },
      "outputs": [],
      "source": [
        "def lenet5():\n",
        "  model = Sequential()\n",
        "  # C1 Convolutional Layer\n",
        "    \n",
        "  model.add(ZeroPadding2D(padding=(2, 2)))\n",
        "\n",
        "  model.add(Conv2D(filters = 6, kernel_size=(5, 5), strides=1, activation='relu', input_shape=(28,28,1)))\n",
        "  # S2 Pooling Layer\n",
        "  model.add(MaxPool2D(pool_size=(2, 2), strides=2))\n",
        "\n",
        "  # C3 Convolutional Layer\n",
        "  model.add(Conv2D(filters = 16, kernel_size=(5, 5), strides=1, activation='relu'))\n",
        "\n",
        "  # S4 Pooling Layer\n",
        "  model.add(MaxPool2D(pool_size=(2, 2), strides=2))\n",
        "\n",
        "  # C5 Fully Connected Convolutional Layer\n",
        "  model.add(Conv2D(filters = 120, kernel_size=(5, 5), strides=1, activation='relu'))\n",
        "    \n",
        "  #Flatten the CNN output so that we can connect it with fully-connected layers\n",
        "  model.add(Flatten())\n",
        "  \n",
        "  # FC6 Fully Connected Layer\n",
        "  model.add(Dense(units = 84, activation='relu'))\n",
        "\n",
        "  # Output Layer with softmax activation\n",
        "  model.add(Dense(units = 10, activation='softmax'))\n",
        "\n",
        "  # Compile the model\n",
        "  model.compile(loss='categorical_crossentropy', optimizer = optimizers.SGD(learning_rate = 0.02, momentum=0.9, nesterov=True), metrics=['accuracy'])\n",
        "\n",
        "  # Or, train using Adam algorithm  \n",
        " #  model.compile(loss='categorical_crossentropy', optimizer='adam', metrics=['accuracy'])  \n",
        "  return model"
      ]
    },
    {
      "cell_type": "markdown",
      "metadata": {
        "id": "XSsFW9op2AtV"
      },
      "source": [
        "Set up the callbacks for checkpoint and early stopping"
      ]
    },
    {
      "cell_type": "code",
      "execution_count": null,
      "metadata": {
        "id": "yY4YMVDC0kGg"
      },
      "outputs": [],
      "source": [
        "path_checkpoint = \"lenet5_checkpoint.h5\"\n",
        "es_callback = EarlyStopping(monitor=\"val_accuracy\", patience=7)\n",
        "\n",
        "modelckpt_callback = ModelCheckpoint(\n",
        "    monitor=\"val_accuracy\",\n",
        "    filepath=path_checkpoint,\n",
        "    verbose=1,\n",
        "    save_weights_only=True,\n",
        "    save_best_only=True,\n",
        ")"
      ]
    },
    {
      "cell_type": "markdown",
      "metadata": {
        "id": "AmA39vqADQXe"
      },
      "source": [
        "Training and model evaluation"
      ]
    },
    {
      "cell_type": "code",
      "execution_count": null,
      "metadata": {
        "colab": {
          "base_uri": "https://localhost:8080/"
        },
        "id": "cumsgYh9A9u6",
        "outputId": "c3d82ef4-3195-4b83-e9f7-35a779773cb6"
      },
      "outputs": [
        {
          "name": "stdout",
          "output_type": "stream",
          "text": [
            "Epoch 1/50\n",
            "600/600 - 32s - loss: 0.2709 - accuracy: 0.9154 - val_loss: 0.0664 - val_accuracy: 0.9773\n",
            "\n",
            "Epoch 00001: val_accuracy improved from -inf to 0.97730, saving model to lenet5_checkpoint.h5\n",
            "Epoch 2/50\n",
            "600/600 - 2s - loss: 0.0644 - accuracy: 0.9804 - val_loss: 0.0447 - val_accuracy: 0.9855\n",
            "\n",
            "Epoch 00002: val_accuracy improved from 0.97730 to 0.98550, saving model to lenet5_checkpoint.h5\n",
            "Epoch 3/50\n",
            "600/600 - 2s - loss: 0.0478 - accuracy: 0.9851 - val_loss: 0.0367 - val_accuracy: 0.9879\n",
            "\n",
            "Epoch 00003: val_accuracy improved from 0.98550 to 0.98790, saving model to lenet5_checkpoint.h5\n",
            "Epoch 4/50\n",
            "600/600 - 2s - loss: 0.0376 - accuracy: 0.9880 - val_loss: 0.0423 - val_accuracy: 0.9861\n",
            "\n",
            "Epoch 00004: val_accuracy did not improve from 0.98790\n",
            "Epoch 5/50\n",
            "600/600 - 2s - loss: 0.0318 - accuracy: 0.9894 - val_loss: 0.0336 - val_accuracy: 0.9879\n",
            "\n",
            "Epoch 00005: val_accuracy did not improve from 0.98790\n",
            "Epoch 6/50\n",
            "600/600 - 2s - loss: 0.0276 - accuracy: 0.9913 - val_loss: 0.0434 - val_accuracy: 0.9872\n",
            "\n",
            "Epoch 00006: val_accuracy did not improve from 0.98790\n",
            "Epoch 7/50\n",
            "600/600 - 2s - loss: 0.0224 - accuracy: 0.9929 - val_loss: 0.0322 - val_accuracy: 0.9899\n",
            "\n",
            "Epoch 00007: val_accuracy improved from 0.98790 to 0.98990, saving model to lenet5_checkpoint.h5\n",
            "Epoch 8/50\n",
            "600/600 - 2s - loss: 0.0192 - accuracy: 0.9936 - val_loss: 0.0345 - val_accuracy: 0.9885\n",
            "\n",
            "Epoch 00008: val_accuracy did not improve from 0.98990\n",
            "Epoch 9/50\n",
            "600/600 - 2s - loss: 0.0168 - accuracy: 0.9942 - val_loss: 0.0328 - val_accuracy: 0.9910\n",
            "\n",
            "Epoch 00009: val_accuracy improved from 0.98990 to 0.99100, saving model to lenet5_checkpoint.h5\n",
            "Epoch 10/50\n",
            "600/600 - 2s - loss: 0.0155 - accuracy: 0.9944 - val_loss: 0.0319 - val_accuracy: 0.9903\n",
            "\n",
            "Epoch 00010: val_accuracy did not improve from 0.99100\n",
            "Epoch 11/50\n",
            "600/600 - 2s - loss: 0.0125 - accuracy: 0.9958 - val_loss: 0.0278 - val_accuracy: 0.9911\n",
            "\n",
            "Epoch 00011: val_accuracy improved from 0.99100 to 0.99110, saving model to lenet5_checkpoint.h5\n",
            "Epoch 12/50\n",
            "600/600 - 2s - loss: 0.0115 - accuracy: 0.9959 - val_loss: 0.0306 - val_accuracy: 0.9910\n",
            "\n",
            "Epoch 00012: val_accuracy did not improve from 0.99110\n",
            "Epoch 13/50\n",
            "600/600 - 2s - loss: 0.0097 - accuracy: 0.9966 - val_loss: 0.0397 - val_accuracy: 0.9890\n",
            "\n",
            "Epoch 00013: val_accuracy did not improve from 0.99110\n",
            "Epoch 14/50\n",
            "600/600 - 2s - loss: 0.0107 - accuracy: 0.9964 - val_loss: 0.0377 - val_accuracy: 0.9890\n",
            "\n",
            "Epoch 00014: val_accuracy did not improve from 0.99110\n",
            "Epoch 15/50\n",
            "600/600 - 2s - loss: 0.0070 - accuracy: 0.9978 - val_loss: 0.0326 - val_accuracy: 0.9918\n",
            "\n",
            "Epoch 00015: val_accuracy improved from 0.99110 to 0.99180, saving model to lenet5_checkpoint.h5\n",
            "Epoch 16/50\n",
            "600/600 - 2s - loss: 0.0051 - accuracy: 0.9984 - val_loss: 0.0339 - val_accuracy: 0.9913\n",
            "\n",
            "Epoch 00016: val_accuracy did not improve from 0.99180\n",
            "Epoch 17/50\n",
            "600/600 - 2s - loss: 0.0059 - accuracy: 0.9978 - val_loss: 0.0590 - val_accuracy: 0.9869\n",
            "\n",
            "Epoch 00017: val_accuracy did not improve from 0.99180\n",
            "Epoch 18/50\n",
            "600/600 - 2s - loss: 0.0079 - accuracy: 0.9973 - val_loss: 0.0374 - val_accuracy: 0.9907\n",
            "\n",
            "Epoch 00018: val_accuracy did not improve from 0.99180\n",
            "Epoch 19/50\n",
            "600/600 - 2s - loss: 0.0043 - accuracy: 0.9985 - val_loss: 0.0394 - val_accuracy: 0.9900\n",
            "\n",
            "Epoch 00019: val_accuracy did not improve from 0.99180\n",
            "Epoch 20/50\n",
            "600/600 - 2s - loss: 0.0051 - accuracy: 0.9985 - val_loss: 0.0362 - val_accuracy: 0.9917\n",
            "\n",
            "Epoch 00020: val_accuracy did not improve from 0.99180\n",
            "Epoch 21/50\n",
            "600/600 - 2s - loss: 0.0035 - accuracy: 0.9990 - val_loss: 0.0399 - val_accuracy: 0.9904\n",
            "\n",
            "Epoch 00021: val_accuracy did not improve from 0.99180\n",
            "Epoch 22/50\n",
            "600/600 - 2s - loss: 0.0055 - accuracy: 0.9982 - val_loss: 0.0416 - val_accuracy: 0.9908\n",
            "\n",
            "Epoch 00022: val_accuracy did not improve from 0.99180\n"
          ]
        }
      ],
      "source": [
        "model = lenet5()\n",
        "history = model.fit(X_tr, y_tr, validation_data=(X_te, y_te), \n",
        "          epochs=50, batch_size=100, \n",
        "          callbacks=[es_callback, modelckpt_callback], \n",
        "          verbose=2)"
      ]
    },
    {
      "cell_type": "code",
      "execution_count": null,
      "metadata": {
        "colab": {
          "base_uri": "https://localhost:8080/"
        },
        "id": "yRQW5zb60eIA",
        "outputId": "3a7a9eb2-bafc-426b-fc6c-22f5712f6015"
      },
      "outputs": [
        {
          "name": "stdout",
          "output_type": "stream",
          "text": [
            "\n",
            " Best validation accuracy: 99.18%\n"
          ]
        }
      ],
      "source": [
        "# load the saved weights \n",
        "model.load_weights(path_checkpoint)\n",
        "scores = model.evaluate(X_te, y_te, verbose=0)\n",
        "print(\"\\n Best validation accuracy: %.2f%%\" % (scores[1]*100))"
      ]
    },
    {
      "cell_type": "markdown",
      "metadata": {
        "id": "7VmAg1qLr5DZ"
      },
      "source": [
        "Let's check out the model size of LeNet-5:"
      ]
    },
    {
      "cell_type": "code",
      "execution_count": null,
      "metadata": {
        "colab": {
          "base_uri": "https://localhost:8080/"
        },
        "id": "llMRf8V_4IA0",
        "outputId": "df83796a-c68d-4a62-a88d-62efd8e37aa3"
      },
      "outputs": [
        {
          "name": "stdout",
          "output_type": "stream",
          "text": [
            "Model: \"sequential_4\"\n",
            "_________________________________________________________________\n",
            "Layer (type)                 Output Shape              Param #   \n",
            "=================================================================\n",
            "zero_padding2d_2 (ZeroPaddin (None, 32, 32, 1)         0         \n",
            "_________________________________________________________________\n",
            "conv2d_6 (Conv2D)            (None, 28, 28, 6)         156       \n",
            "_________________________________________________________________\n",
            "max_pooling2d_4 (MaxPooling2 (None, 14, 14, 6)         0         \n",
            "_________________________________________________________________\n",
            "conv2d_7 (Conv2D)            (None, 10, 10, 16)        2416      \n",
            "_________________________________________________________________\n",
            "max_pooling2d_5 (MaxPooling2 (None, 5, 5, 16)          0         \n",
            "_________________________________________________________________\n",
            "conv2d_8 (Conv2D)            (None, 1, 1, 120)         48120     \n",
            "_________________________________________________________________\n",
            "flatten_2 (Flatten)          (None, 120)               0         \n",
            "_________________________________________________________________\n",
            "dense_7 (Dense)              (None, 84)                10164     \n",
            "_________________________________________________________________\n",
            "dense_8 (Dense)              (None, 10)                850       \n",
            "=================================================================\n",
            "Total params: 61,706\n",
            "Trainable params: 61,706\n",
            "Non-trainable params: 0\n",
            "_________________________________________________________________\n"
          ]
        }
      ],
      "source": [
        "model.summary()"
      ]
    },
    {
      "cell_type": "markdown",
      "metadata": {
        "id": "A9Mp9bGm_JAs"
      },
      "source": [
        "Although the number of trainable parameters in LeNet-5 is only 1/10 of that in the two-dense-layer network, it achieves higher validation accuracy. This is due to the power of convolutional layers."
      ]
    },
    {
      "cell_type": "markdown",
      "metadata": {
        "id": "XIVZjYBBS0NK"
      },
      "source": [
        "**Visualize the Training Process**\n",
        "\n",
        "We will visualize the training process by plotting the training accuracy and loss after each epoch"
      ]
    },
    {
      "cell_type": "code",
      "source": [
        "import matplotlib.pyplot as plt"
      ],
      "metadata": {
        "id": "tVErwZYKJMox"
      },
      "execution_count": null,
      "outputs": []
    },
    {
      "cell_type": "code",
      "execution_count": null,
      "metadata": {
        "colab": {
          "base_uri": "https://localhost:8080/",
          "height": 312
        },
        "id": "TNHIFkhZS-k7",
        "outputId": "da21897f-f889-4ef6-d112-3419bbb864b2"
      },
      "outputs": [
        {
          "data": {
            "text/plain": [
              "Text(0, 0.5, 'Accuracy')"
            ]
          },
          "execution_count": 37,
          "metadata": {},
          "output_type": "execute_result"
        },
        {
          "data": {
            "image/png": "[encoded data removed]",
            "text/plain": [
              "<Figure size 432x288 with 1 Axes>"
            ]
          },
          "metadata": {
            "needs_background": "light"
          },
          "output_type": "display_data"
        }
      ],
      "source": [
        "fig, ax = plt.subplots()\n",
        "ax.plot([None] + history.history['accuracy'], 'o-')\n",
        "ax.plot([None] + history.history['val_accuracy'], 'x-')\n",
        "# Plot legend and use the best location automatically: loc = 0.\n",
        "ax.legend(['Train Acc', 'Validation Acc'], loc = 0)\n",
        "ax.set_title('Training/Validation acc per Epoch')\n",
        "ax.set_xlabel('Epoch')\n",
        "ax.set_ylabel('Accuracy')"
      ]
    },
    {
      "cell_type": "code",
      "execution_count": null,
      "metadata": {
        "colab": {
          "base_uri": "https://localhost:8080/",
          "height": 312
        },
        "id": "ZwbkoWDrUZG0",
        "outputId": "1a973c7e-ce9f-4d05-d2e3-425e698bddf5"
      },
      "outputs": [
        {
          "data": {
            "text/plain": [
              "Text(0, 0.5, 'Loss')"
            ]
          },
          "execution_count": 38,
          "metadata": {},
          "output_type": "execute_result"
        },
        {
          "data": {
            "image/png": "[encoded data removed]",
            "text/plain": [
              "<Figure size 432x288 with 1 Axes>"
            ]
          },
          "metadata": {
            "needs_background": "light"
          },
          "output_type": "display_data"
        }
      ],
      "source": [
        "fig, ax = plt.subplots()\n",
        "ax.plot([None] + history.history['loss'], 'o-')\n",
        "ax.plot([None] + history.history['val_loss'], 'x-')\n",
        "# Plot legend and use the best location automatically: loc = 0.\n",
        "ax.legend(['Train Loss', 'Validation Loss'], loc = 0)\n",
        "ax.set_title('Training/Validation Loss per Epoch')\n",
        "ax.set_xlabel('Epoch')\n",
        "ax.set_ylabel('Loss')"
      ]
    },
    {
      "cell_type": "markdown",
      "metadata": {
        "id": "skKNtdaZ943Y"
      },
      "source": [
        "#### Save and load model"
      ]
    },
    {
      "cell_type": "code",
      "execution_count": null,
      "metadata": {
        "colab": {
          "base_uri": "https://localhost:8080/"
        },
        "id": "5auOal-Or5Da",
        "outputId": "8f67b9cd-13f3-430c-d32d-2f8a0cb91e56"
      },
      "outputs": [
        {
          "name": "stdout",
          "output_type": "stream",
          "text": [
            "INFO:tensorflow:Assets written to: lenet5/assets\n"
          ]
        }
      ],
      "source": [
        "model.save('lenet5')"
      ]
    },
    {
      "cell_type": "code",
      "execution_count": null,
      "metadata": {
        "id": "Q1lLzGFQuP_W"
      },
      "outputs": [],
      "source": [
        "loaded_model = tf.keras.models.load_model(\"lenet5\")"
      ]
    },
    {
      "cell_type": "markdown",
      "metadata": {
        "id": "oI60oFugvHP9"
      },
      "source": [
        "Check the test accuracy of the saved model:"
      ]
    },
    {
      "cell_type": "code",
      "execution_count": null,
      "metadata": {
        "colab": {
          "base_uri": "https://localhost:8080/"
        },
        "id": "z-stQEYluynu",
        "outputId": "7bc0c8b6-838f-4ddd-d9bc-1ab25d754571"
      },
      "outputs": [
        {
          "name": "stdout",
          "output_type": "stream",
          "text": [
            "\n",
            " Testing/Validation accuracy of the saved model: 99.18%\n"
          ]
        }
      ],
      "source": [
        "scores = loaded_model.evaluate(X_te, y_te, verbose=0)\n",
        "print(\"\\n Testing/Validation accuracy of the saved model: %.2f%%\" % (scores[1]*100))"
      ]
    }
  ],
  "metadata": {
    "accelerator": "GPU",
    "colab": {
      "provenance": [],
      "include_colab_link": true
    },
    "kernelspec": {
      "display_name": "Python 3",
      "language": "python",
      "name": "python3"
    },
    "language_info": {
      "codemirror_mode": {
        "name": "ipython",
        "version": 3
      },
      "file_extension": ".py",
      "mimetype": "text/x-python",
      "name": "python",
      "nbconvert_exporter": "python",
      "pygments_lexer": "ipython3",
      "version": "3.7.4"
    },
    "gpuClass": "standard"
  },
  "nbformat": 4,
  "nbformat_minor": 0
}