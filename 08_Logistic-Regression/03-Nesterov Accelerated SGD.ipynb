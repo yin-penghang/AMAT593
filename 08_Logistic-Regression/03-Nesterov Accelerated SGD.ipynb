{
 "cells": [
  {
   "cell_type": "markdown",
   "metadata": {},
   "source": [
    "# Nesterov Accelerated Stochastic Gradient Descent\n",
    "\n",
    "We implement accelerated SGD and compare it with mini-batch SGD in terms of convergence speed. This only requires a simple modification of the Python code for SGD, which makes machine learning process faster."
   ]
  },
  {
   "cell_type": "markdown",
   "metadata": {},
   "source": [
    "##  Binary Logistic Regression\n",
    "\n",
    "#### Loss Function\n",
    "\n",
    "Given a data sample $\\mathbf{x}_i=(1, x_1,\\dots,x_p)$ (saved as row vector) with $p$ features, the prediction is\n",
    "\n",
    "$$\n",
    "\\hat{y}_i = P(Y=1|X= \\mathbf{x}_i) =  \\frac{1}{1+ e^{-\\mathbf{x}_i^\\top \\boldsymbol \\theta  }}\n",
    "$$ \n",
    "\n",
    "The **cross-entropy/log loss** for the $i$-th sample is given by\n",
    "\n",
    "\\begin{align*}\n",
    "l_i(\\boldsymbol \\theta ) = - y_i \\log \\hat{y}_i - (1-y_i) \\log (1 - \\hat{y}_i)\n",
    "\\end{align*}\n",
    "\n",
    "Want to solve\n",
    "\n",
    "$$\n",
    "\\min_{\\boldsymbol \\theta\\in\\mathbb{R}^{p+1}} \\; L(\\boldsymbol \\theta ) := \\frac{1}{n}\\sum_{i=1}^n l_i(\\boldsymbol \\theta )\n",
    "$$\n",
    "\n",
    "#### Gradient in Matrix Form\n",
    "Denote the sigmoid function by $\\sigma(z) := \\frac{1}{1+e^{-z}}$, we have\n",
    "\n",
    "\\begin{align*}\n",
    "\\nabla l_i(\\boldsymbol \\theta ) = \\mathbf{x}_i(\\hat{y}_i - y_i) \n",
    "\\end{align*}\n",
    "\n",
    "and\n",
    "\n",
    "$$\n",
    "\\nabla L(\\boldsymbol \\theta)  = \\frac{1}{n} \\mathbf{X}^\\top (\\mathbf{\\hat{y}}- \\mathbf{y})\n",
    "= \\frac{1}{n} \\mathbf{X}^\\top \\left(\\sigma(\\mathbf{X}\\boldsymbol\\theta) - \\mathbf{y}\\right)\n",
    "$$\n",
    "\n",
    "where the $i$-th row of $\\mathbf{X}\\in\\mathbb{R}^{n\\times (p+1)}$ is $\\mathbf{x}_i^\\top$.\n"
   ]
  },
  {
   "cell_type": "markdown",
   "metadata": {},
   "source": [
    "## Mini-Batch SGD\n",
    "\n",
    "**(Standard) gradient descent**: with the learning rate $\\eta>0$,\n",
    "\n",
    "$$\n",
    "\\boldsymbol \\theta \\leftarrow \\boldsymbol \\theta - \\eta \\left(\\frac{1}{n} \\sum_{i=1}^n \\nabla l_i(\\boldsymbol \\theta )\\right)\n",
    "$$\n",
    "\n",
    "\n",
    "**Stochastic gradient descent**: Randomly group the training samples into batches of size $b \\ll n$. In each iteration, choose one batch $\\mathcal{I}$ **without replacement** and update $\\boldsymbol \\theta $ using the averaged gradients over the samples in the batch:\n",
    "\n",
    "$$\n",
    "\\boldsymbol \\theta \\leftarrow \\boldsymbol \\theta - \\eta \\left(\\frac{1}{b} \\sum_{i\\in \\mathcal{I}} \\nabla l_i(\\boldsymbol \\theta )\\right)\n",
    "$$\n",
    "\n",
    "where \n",
    "$$\n",
    "\\sum_{i\\in \\mathcal{I}} \\nabla l_i(\\boldsymbol \\theta ) = \\mathbf{X}_{\\mathcal{I}}^\\top \\left(\\sigma(\\mathbf{X}_{\\mathcal{I}} \\boldsymbol\\theta) - \\mathbf{y}_{\\mathcal{I}}\\right)\n",
    "$$\n",
    "is the **mini-batch gradient**. $\\mathbf{X}_{\\mathcal{I}}$ is the submatrix of $\\mathbf{X}$ with row indices in $\\mathcal{I}$.\n",
    "\n",
    "\n",
    "* when one pass (known as **epoch**) of the entire training dataset has been completed, start the next epoch by reshuffling the data. \n",
    "\n",
    "* train for a number of epochs \n",
    "\n",
    "* ideally, take diminishing $\\eta \\downarrow 0$ as SGD proceeds\n",
    "\n",
    "* $\\frac{1}{b} \\sum_{i\\in \\mathcal{I}} \\nabla l_i(\\boldsymbol \\theta )$ is unbiased estimate of $\\frac{1}{n} \\sum_{i=1}^n \\nabla l_i(\\boldsymbol \\theta )$\n",
    "\n",
    "* \\# iterations in one epoch $= \\frac{n}{b}$, roughly\n",
    "\n",
    "* implementation of SGD consists of two ``for`` loops"
   ]
  },
  {
   "cell_type": "markdown",
   "metadata": {},
   "source": [
    "## Nesterov Accelerated Gradient Method\n",
    "\n",
    "The Nesterov Accelerated Gradient method, named after the mathematician [Yurii Nesterov](https://en.wikipedia.org/wiki/Yurii_Nesterov), consists of a gradient descent step, followed by something that looks like prolongation, approximating a future position of our parameters $\\boldsymbol \\theta$.  We call it a “momentum step” here. \n",
    "\n",
    "* The gradient descent step is performed at the approximated future position $\\boldsymbol\\gamma$ with learning rate $\\eta >0$:\n",
    "\n",
    "$$\n",
    "\\boldsymbol \\theta \\leftarrow \\boldsymbol\\gamma - \\eta \\nabla L(\\boldsymbol\\gamma)\n",
    "$$\n",
    "\n",
    "* The momentum step approximates $\\boldsymbol\\gamma$ with the momentum $\\mu\\in(0,1)$ (requires storage of the previous iterate):\n",
    "\n",
    "$$\n",
    "\\boldsymbol\\gamma \\leftarrow \\boldsymbol \\theta+ \\mu \\, (\\boldsymbol \\theta - \\boldsymbol \\theta_{\\mbox{prev}})\n",
    "$$\n",
    "\n",
    "**For accelerated SGD, simply replace $\\nabla L(\\boldsymbol\\gamma)$ with mini-batch gradient in the gradient descent step.**\n",
    "\n",
    "Check out [this plog](https://distill.pub/2017/momentum/) for a comparison between gradient descent with and without momentum ."
   ]
  },
  {
   "cell_type": "markdown",
   "metadata": {},
   "source": [
    "## MNIST Data Set\n",
    "\n",
    "We will compare the performances of SGD and accelerated SGD on MNIST data. The MNIST database of grayscale handwritten digits, available from this page http://yann.lecun.com/exdb/mnist/, has a training set of 60,000 examples, and a test set of 10,000 examples. \n",
    "\n",
    "\n",
    "**We only do binary classification to recognize digits of 0 and 9.**"
   ]
  },
  {
   "cell_type": "code",
   "execution_count": 1,
   "metadata": {},
   "outputs": [],
   "source": [
    "import numpy as np\n",
    "import pandas as pd\n",
    "import matplotlib.pyplot as plt\n",
    "%matplotlib inline"
   ]
  },
  {
   "cell_type": "markdown",
   "metadata": {
    "collapsed": true
   },
   "source": [
    "### Get the Data"
   ]
  },
  {
   "cell_type": "code",
   "execution_count": 2,
   "metadata": {},
   "outputs": [],
   "source": [
    "from sklearn.datasets import fetch_openml\n",
    "mnist = fetch_openml('mnist_784')"
   ]
  },
  {
   "cell_type": "code",
   "execution_count": 3,
   "metadata": {},
   "outputs": [
    {
     "data": {
      "text/plain": [
       "dict_keys(['data', 'target', 'frame', 'categories', 'feature_names', 'target_names', 'DESCR', 'details', 'url'])"
      ]
     },
     "execution_count": 3,
     "metadata": {},
     "output_type": "execute_result"
    }
   ],
   "source": [
    "mnist.keys()"
   ]
  },
  {
   "cell_type": "code",
   "execution_count": 4,
   "metadata": {},
   "outputs": [
    {
     "name": "stdout",
     "output_type": "stream",
     "text": [
      "**Author**: Yann LeCun, Corinna Cortes, Christopher J.C. Burges  \n",
      "**Source**: [MNIST Website](http://yann.lecun.com/exdb/mnist/) - Date unknown  \n",
      "**Please cite**:  \n",
      "\n",
      "The MNIST database of handwritten digits with 784 features, raw data available at: http://yann.lecun.com/exdb/mnist/. It can be split in a training set of the first 60,000 examples, and a test set of 10,000 examples  \n",
      "\n",
      "It is a subset of a larger set available from NIST. The digits have been size-normalized and centered in a fixed-size image. It is a good database for people who want to try learning techniques and pattern recognition methods on real-world data while spending minimal efforts on preprocessing and formatting. The original black and white (bilevel) images from NIST were size normalized to fit in a 20x20 pixel box while preserving their aspect ratio. The resulting images contain grey levels as a result of the anti-aliasing technique used by the normalization algorithm. the images were centered in a 28x28 image by computing the center of mass of the pixels, and translating the image so as to position this point at the center of the 28x28 field.  \n",
      "\n",
      "With some classification methods (particularly template-based methods, such as SVM and K-nearest neighbors), the error rate improves when the digits are centered by bounding box rather than center of mass. If you do this kind of pre-processing, you should report it in your publications. The MNIST database was constructed from NIST's NIST originally designated SD-3 as their training set and SD-1 as their test set. However, SD-3 is much cleaner and easier to recognize than SD-1. The reason for this can be found on the fact that SD-3 was collected among Census Bureau employees, while SD-1 was collected among high-school students. Drawing sensible conclusions from learning experiments requires that the result be independent of the choice of training set and test among the complete set of samples. Therefore it was necessary to build a new database by mixing NIST's datasets.  \n",
      "\n",
      "The MNIST training set is composed of 30,000 patterns from SD-3 and 30,000 patterns from SD-1. Our test set was composed of 5,000 patterns from SD-3 and 5,000 patterns from SD-1. The 60,000 pattern training set contained examples from approximately 250 writers. We made sure that the sets of writers of the training set and test set were disjoint. SD-1 contains 58,527 digit images written by 500 different writers. In contrast to SD-3, where blocks of data from each writer appeared in sequence, the data in SD-1 is scrambled. Writer identities for SD-1 is available and we used this information to unscramble the writers. We then split SD-1 in two: characters written by the first 250 writers went into our new training set. The remaining 250 writers were placed in our test set. Thus we had two sets with nearly 30,000 examples each. The new training set was completed with enough examples from SD-3, starting at pattern # 0, to make a full set of 60,000 training patterns. Similarly, the new test set was completed with SD-3 examples starting at pattern # 35,000 to make a full set with 60,000 test patterns. Only a subset of 10,000 test images (5,000 from SD-1 and 5,000 from SD-3) is available on this site. The full 60,000 sample training set is available.\n",
      "\n",
      "Downloaded from openml.org.\n"
     ]
    }
   ],
   "source": [
    "print(mnist['DESCR'])"
   ]
  },
  {
   "cell_type": "markdown",
   "metadata": {},
   "source": [
    "## Data Preparation\n",
    "\n",
    "There are in total 70,000 samples, each with 784 features corresponding to the grayscale values of 28x28 image pixels."
   ]
  },
  {
   "cell_type": "code",
   "execution_count": 5,
   "metadata": {},
   "outputs": [
    {
     "name": "stdout",
     "output_type": "stream",
     "text": [
      "(70000, 784)\n",
      "(70000,)\n",
      "[5 0 4 1 9 2 1 3 1 4]\n"
     ]
    }
   ],
   "source": [
    "data = np.array(mnist['data'])\n",
    "print(data.shape)\n",
    "labels = np.array(mnist['target']).astype(int)\n",
    "print(labels.shape)\n",
    "print(labels[:10])"
   ]
  },
  {
   "cell_type": "markdown",
   "metadata": {},
   "source": [
    "Split into training set and test set"
   ]
  },
  {
   "cell_type": "code",
   "execution_count": 6,
   "metadata": {},
   "outputs": [
    {
     "name": "stdout",
     "output_type": "stream",
     "text": [
      "(60000,)\n"
     ]
    }
   ],
   "source": [
    "data_train, data_test, labels_train, labels_test = data[:60000], data[60000:], labels[:60000], labels[60000:]\n",
    "print(labels_train.shape)"
   ]
  },
  {
   "cell_type": "markdown",
   "metadata": {},
   "source": [
    "We build a new data set by picking out the samples for digits 0 and 9. **label = 0 for digit 0, and label = 1 for digit 9**"
   ]
  },
  {
   "cell_type": "code",
   "execution_count": 7,
   "metadata": {},
   "outputs": [],
   "source": [
    "def img_select(X,y):\n",
    "    index  = (y==0) | (y==9)\n",
    "    return X[index], y[index]//9"
   ]
  },
  {
   "cell_type": "code",
   "execution_count": 8,
   "metadata": {},
   "outputs": [
    {
     "name": "stdout",
     "output_type": "stream",
     "text": [
      "There are 11872 training samples\n",
      "There are 1989 test samples\n",
      "[0 1 1 0 1 1 0 0 1 1]\n"
     ]
    }
   ],
   "source": [
    "X_train, y_train  = img_select(data_train, labels_train)\n",
    "print('There are', len(y_train), 'training samples')\n",
    "X_test, y_test  = img_select(data_test, labels_test)\n",
    "print('There are', len(y_test), 'test samples')\n",
    "print(y_train[:10])"
   ]
  },
  {
   "cell_type": "markdown",
   "metadata": {},
   "source": [
    "**Normalize inputs from 0-255 to 0-1**"
   ]
  },
  {
   "cell_type": "code",
   "execution_count": 9,
   "metadata": {},
   "outputs": [],
   "source": [
    "X_train = X_train / 255\n",
    "X_test = X_test / 255"
   ]
  },
  {
   "cell_type": "markdown",
   "metadata": {},
   "source": [
    "Plot four image samples from data set"
   ]
  },
  {
   "cell_type": "code",
   "execution_count": 10,
   "metadata": {},
   "outputs": [
    {
     "data": {
      "text/plain": [
       "<matplotlib.image.AxesImage at 0x7fc3f6a42b20>"
      ]
     },
     "execution_count": 10,
     "metadata": {},
     "output_type": "execute_result"
    },
    {
     "data": {
      "image/png": "[encoded data removed]",
      "text/plain": [
       "<Figure size 432x288 with 4 Axes>"
      ]
     },
     "metadata": {
      "needs_background": "light"
     },
     "output_type": "display_data"
    }
   ],
   "source": [
    "plt.subplot(2,2,1)\n",
    "plt.imshow(X_train[0].reshape(28,28), cmap=plt.get_cmap('gray'))\n",
    "plt.subplot(2,2,2)\n",
    "plt.imshow(X_train[1].reshape(28,28), cmap=plt.get_cmap('gray'))\n",
    "plt.subplot(2,2,3)\n",
    "plt.imshow(X_train[2].reshape(28,28), cmap=plt.get_cmap('gray'))\n",
    "plt.subplot(2,2,4)\n",
    "plt.imshow(X_train[3].reshape(28,28), cmap=plt.get_cmap('gray'))"
   ]
  },
  {
   "cell_type": "markdown",
   "metadata": {},
   "source": [
    "## Train Model"
   ]
  },
  {
   "cell_type": "markdown",
   "metadata": {},
   "source": [
    "**Build a class of LogisticClassifier object**"
   ]
  },
  {
   "cell_type": "code",
   "execution_count": 11,
   "metadata": {},
   "outputs": [],
   "source": [
    "def sigmoid(z):\n",
    "    return 1 / (1 + np.exp(-z))"
   ]
  },
  {
   "cell_type": "code",
   "execution_count": 12,
   "metadata": {},
   "outputs": [],
   "source": [
    "class LogisticClassifier(object):\n",
    "    def __init__(self, lr=0.1, epochs=100, batch_size=100, momentum = 0.9, normalize = False):\n",
    "        # sgd parameters\n",
    "        self.lr = float(lr)\n",
    "        self.epochs = int(epochs)\n",
    "        self.batch_size = int(batch_size)\n",
    "        self.momentum = momentum\n",
    "        self.normalize = normalize\n",
    "        \n",
    "        self.loss_history = []\n",
    "        self.accuracy_history = []\n",
    "    \n",
    "        \n",
    "\n",
    "    def _assemble_x(self, X):\n",
    "        # nomarlize the data and concatenate ones \n",
    "        if self.normalize:\n",
    "            means = X.mean(axis=0)\n",
    "            std = np.std(X, axis=0)\n",
    "            X = (X - means)/std        \n",
    "        # add intercept column to the design matrix\n",
    "        X = np.hstack([ np.ones((X.shape[0], 1)), X])\n",
    "        return X\n",
    "        \n",
    "    def fit(self, X, y):\n",
    "        n, p = X.shape # n = # samples, p = # features\n",
    "        X = self._assemble_x(X)       \n",
    "    \n",
    "        # initialize parameters\n",
    "        # self.theta = np.random.randn(p + 1)\n",
    "        self.theta = np.zeros(p + 1)\n",
    "        # parameters for Nesterov\n",
    "        gamma = self.theta\n",
    "        theta_old = self.theta\n",
    "            \n",
    "        for epoch in range(self.epochs):\n",
    "            \n",
    "            # shuffle the samples\n",
    "            shuffle = np.random.permutation(n)\n",
    "            X = X[shuffle, :]\n",
    "            y = y[shuffle]\n",
    "        \n",
    "            # if batch_size does not evenly divide n, we'll one more\n",
    "            # batch of size less than batch_size at the end.\n",
    "            r = (1 if n % self.batch_size else 0)\n",
    "            \n",
    "            for i in range(n // self.batch_size + r):\n",
    "                batch_slice = slice(self.batch_size * i, self.batch_size * (i + 1) )\n",
    "                X_batch = X[batch_slice, :]\n",
    "                y_batch = y[batch_slice]\n",
    "        \n",
    "                y_hat = sigmoid(X_batch @ gamma)\n",
    "                # update parameters\n",
    "                gradient = X_batch.T @ (y_hat - y_batch)/self.batch_size\n",
    "\n",
    "                self.theta = gamma - self.lr * gradient\n",
    "                gamma = self.theta + self.momentum*(self.theta - theta_old)\n",
    "                theta_old = self.theta\n",
    "                \n",
    "            y_hat = sigmoid(X @ self.theta)\n",
    "            loss = np.mean(-y * np.log(y_hat) - (1-y) * np.log(1-y_hat))\n",
    "            self.loss_history.append(loss)\n",
    "            y_preds = (y_hat > 0.5).astype(int)\n",
    "            accuracy = self.accuracy(y_preds,y)\n",
    "            self.accuracy_history.append(accuracy)\n",
    "            if (epoch + 1)%10 == 0:\n",
    "                print('Epoch', epoch, ': training loss=', \"{:.5f}\".format(loss), ', training accuracy=', accuracy, '%' )\n",
    "\n",
    "        \n",
    "    def predict(self, X):\n",
    "        X = self._assemble_x(X)\n",
    "        return (X @ self.theta > 0).astype(int)\n",
    "    \n",
    "    def accuracy(self, y_preds, y):\n",
    "        return np.mean(y_preds == y)*100"
   ]
  },
  {
   "cell_type": "markdown",
   "metadata": {},
   "source": [
    "**We are not going to further normalize the data by substracting mean and division by std, because the data is sparse!**"
   ]
  },
  {
   "cell_type": "markdown",
   "metadata": {},
   "source": [
    "## Compare SGD with and without Nesterov momentum"
   ]
  },
  {
   "cell_type": "markdown",
   "metadata": {},
   "source": [
    "**Train the model using accelerated SGD with momentum $\\mu = 0.9$**"
   ]
  },
  {
   "cell_type": "code",
   "execution_count": 13,
   "metadata": {},
   "outputs": [
    {
     "name": "stdout",
     "output_type": "stream",
     "text": [
      "Epoch 9 : training loss= 0.01759 , training accuracy= 99.55357142857143 %\n",
      "Epoch 19 : training loss= 0.01472 , training accuracy= 99.57041778975741 %\n",
      "Epoch 29 : training loss= 0.01331 , training accuracy= 99.62938005390836 %\n",
      "Epoch 39 : training loss= 0.01222 , training accuracy= 99.63780323450135 %\n",
      "Epoch 49 : training loss= 0.01150 , training accuracy= 99.65464959568733 %\n",
      "Epoch 59 : training loss= 0.01095 , training accuracy= 99.6883423180593 %\n",
      "Epoch 69 : training loss= 0.01037 , training accuracy= 99.72203504043127 %\n",
      "Epoch 79 : training loss= 0.00995 , training accuracy= 99.74730458221023 %\n",
      "Epoch 89 : training loss= 0.00966 , training accuracy= 99.74730458221023 %\n",
      "Epoch 99 : training loss= 0.00946 , training accuracy= 99.74730458221023 %\n",
      "Epoch 109 : training loss= 0.00901 , training accuracy= 99.76415094339622 %\n",
      "Epoch 119 : training loss= 0.00872 , training accuracy= 99.76415094339622 %\n",
      "Epoch 129 : training loss= 0.00847 , training accuracy= 99.76415094339622 %\n",
      "Epoch 139 : training loss= 0.00828 , training accuracy= 99.78099730458221 %\n",
      "Epoch 149 : training loss= 0.00805 , training accuracy= 99.76415094339622 %\n",
      "Epoch 159 : training loss= 0.00789 , training accuracy= 99.7978436657682 %\n",
      "Epoch 169 : training loss= 0.00772 , training accuracy= 99.7978436657682 %\n",
      "Epoch 179 : training loss= 0.00752 , training accuracy= 99.81469002695418 %\n",
      "Epoch 189 : training loss= 0.00738 , training accuracy= 99.81469002695418 %\n",
      "Epoch 199 : training loss= 0.00722 , training accuracy= 99.81469002695418 %\n",
      "Epoch 209 : training loss= 0.00707 , training accuracy= 99.83153638814017 %\n",
      "Epoch 219 : training loss= 0.00694 , training accuracy= 99.83153638814017 %\n",
      "Epoch 229 : training loss= 0.00682 , training accuracy= 99.82311320754717 %\n",
      "Epoch 239 : training loss= 0.00669 , training accuracy= 99.83153638814017 %\n",
      "Epoch 249 : training loss= 0.00661 , training accuracy= 99.85680592991913 %\n",
      "Epoch 259 : training loss= 0.00647 , training accuracy= 99.84838274932615 %\n",
      "Epoch 269 : training loss= 0.00635 , training accuracy= 99.87365229110512 %\n",
      "Epoch 279 : training loss= 0.00624 , training accuracy= 99.87365229110512 %\n",
      "Epoch 289 : training loss= 0.00617 , training accuracy= 99.86522911051213 %\n",
      "Epoch 299 : training loss= 0.00606 , training accuracy= 99.8989218328841 %\n",
      "Epoch 309 : training loss= 0.00595 , training accuracy= 99.90734501347708 %\n",
      "Epoch 319 : training loss= 0.00586 , training accuracy= 99.90734501347708 %\n",
      "Epoch 329 : training loss= 0.00578 , training accuracy= 99.88207547169812 %\n",
      "Epoch 339 : training loss= 0.00575 , training accuracy= 99.88207547169812 %\n",
      "Epoch 349 : training loss= 0.00565 , training accuracy= 99.88207547169812 %\n",
      "Epoch 359 : training loss= 0.00553 , training accuracy= 99.8989218328841 %\n",
      "Epoch 369 : training loss= 0.00545 , training accuracy= 99.91576819407008 %\n",
      "Epoch 379 : training loss= 0.00539 , training accuracy= 99.91576819407008 %\n",
      "Epoch 389 : training loss= 0.00531 , training accuracy= 99.91576819407008 %\n",
      "Epoch 399 : training loss= 0.00524 , training accuracy= 99.91576819407008 %\n",
      "Epoch 409 : training loss= 0.00517 , training accuracy= 99.91576819407008 %\n",
      "Epoch 419 : training loss= 0.00510 , training accuracy= 99.91576819407008 %\n",
      "Epoch 429 : training loss= 0.00503 , training accuracy= 99.91576819407008 %\n",
      "Epoch 439 : training loss= 0.00499 , training accuracy= 99.90734501347708 %\n",
      "Epoch 449 : training loss= 0.00491 , training accuracy= 99.91576819407008 %\n",
      "Epoch 459 : training loss= 0.00485 , training accuracy= 99.92419137466307 %\n",
      "Epoch 469 : training loss= 0.00479 , training accuracy= 99.92419137466307 %\n",
      "Epoch 479 : training loss= 0.00473 , training accuracy= 99.92419137466307 %\n",
      "Epoch 489 : training loss= 0.00468 , training accuracy= 99.92419137466307 %\n",
      "Epoch 499 : training loss= 0.00462 , training accuracy= 99.92419137466307 %\n",
      "CPU times: user 1min 27s, sys: 3.02 s, total: 1min 30s\n",
      "Wall time: 15.3 s\n"
     ]
    }
   ],
   "source": [
    "model1 = LogisticClassifier(lr = .02, batch_size = 100, epochs = 500, momentum=0.9)\n",
    "%time model1.fit(X_train, y_train)"
   ]
  },
  {
   "cell_type": "markdown",
   "metadata": {},
   "source": [
    "**Train the model using vanilla SGD with momentum $\\mu = 0$**"
   ]
  },
  {
   "cell_type": "code",
   "execution_count": 14,
   "metadata": {},
   "outputs": [
    {
     "name": "stdout",
     "output_type": "stream",
     "text": [
      "Epoch 9 : training loss= 0.03628 , training accuracy= 99.11556603773585 %\n",
      "Epoch 19 : training loss= 0.02813 , training accuracy= 99.30087601078166 %\n",
      "Epoch 29 : training loss= 0.02462 , training accuracy= 99.36826145552561 %\n",
      "Epoch 39 : training loss= 0.02255 , training accuracy= 99.43564690026953 %\n",
      "Epoch 49 : training loss= 0.02115 , training accuracy= 99.46091644204851 %\n",
      "Epoch 59 : training loss= 0.02011 , training accuracy= 99.4946091644205 %\n",
      "Epoch 69 : training loss= 0.01929 , training accuracy= 99.4861859838275 %\n",
      "Epoch 79 : training loss= 0.01863 , training accuracy= 99.51145552560648 %\n",
      "Epoch 89 : training loss= 0.01807 , training accuracy= 99.54514824797843 %\n",
      "Epoch 99 : training loss= 0.01759 , training accuracy= 99.55357142857143 %\n",
      "Epoch 109 : training loss= 0.01716 , training accuracy= 99.56199460916442 %\n",
      "Epoch 119 : training loss= 0.01679 , training accuracy= 99.56199460916442 %\n",
      "Epoch 129 : training loss= 0.01645 , training accuracy= 99.57041778975741 %\n",
      "Epoch 139 : training loss= 0.01614 , training accuracy= 99.57041778975741 %\n",
      "Epoch 149 : training loss= 0.01586 , training accuracy= 99.5788409703504 %\n",
      "Epoch 159 : training loss= 0.01561 , training accuracy= 99.5788409703504 %\n",
      "Epoch 169 : training loss= 0.01537 , training accuracy= 99.59568733153638 %\n",
      "Epoch 179 : training loss= 0.01514 , training accuracy= 99.59568733153638 %\n",
      "Epoch 189 : training loss= 0.01493 , training accuracy= 99.59568733153638 %\n",
      "Epoch 199 : training loss= 0.01474 , training accuracy= 99.61253369272237 %\n",
      "Epoch 209 : training loss= 0.01455 , training accuracy= 99.60411051212938 %\n",
      "Epoch 219 : training loss= 0.01438 , training accuracy= 99.61253369272237 %\n",
      "Epoch 229 : training loss= 0.01421 , training accuracy= 99.60411051212938 %\n",
      "Epoch 239 : training loss= 0.01405 , training accuracy= 99.60411051212938 %\n",
      "Epoch 249 : training loss= 0.01390 , training accuracy= 99.60411051212938 %\n",
      "Epoch 259 : training loss= 0.01376 , training accuracy= 99.60411051212938 %\n",
      "Epoch 269 : training loss= 0.01362 , training accuracy= 99.60411051212938 %\n",
      "Epoch 279 : training loss= 0.01349 , training accuracy= 99.60411051212938 %\n",
      "Epoch 289 : training loss= 0.01336 , training accuracy= 99.60411051212938 %\n",
      "Epoch 299 : training loss= 0.01324 , training accuracy= 99.62095687331536 %\n",
      "Epoch 309 : training loss= 0.01313 , training accuracy= 99.62938005390836 %\n",
      "Epoch 319 : training loss= 0.01301 , training accuracy= 99.62938005390836 %\n",
      "Epoch 329 : training loss= 0.01290 , training accuracy= 99.62938005390836 %\n",
      "Epoch 339 : training loss= 0.01280 , training accuracy= 99.62938005390836 %\n",
      "Epoch 349 : training loss= 0.01270 , training accuracy= 99.63780323450135 %\n",
      "Epoch 359 : training loss= 0.01260 , training accuracy= 99.63780323450135 %\n",
      "Epoch 369 : training loss= 0.01251 , training accuracy= 99.63780323450135 %\n",
      "Epoch 379 : training loss= 0.01241 , training accuracy= 99.63780323450135 %\n",
      "Epoch 389 : training loss= 0.01233 , training accuracy= 99.63780323450135 %\n",
      "Epoch 399 : training loss= 0.01224 , training accuracy= 99.64622641509435 %\n",
      "Epoch 409 : training loss= 0.01215 , training accuracy= 99.64622641509435 %\n",
      "Epoch 419 : training loss= 0.01207 , training accuracy= 99.64622641509435 %\n",
      "Epoch 429 : training loss= 0.01199 , training accuracy= 99.64622641509435 %\n",
      "Epoch 439 : training loss= 0.01191 , training accuracy= 99.64622641509435 %\n",
      "Epoch 449 : training loss= 0.01184 , training accuracy= 99.64622641509435 %\n",
      "Epoch 459 : training loss= 0.01177 , training accuracy= 99.65464959568733 %\n",
      "Epoch 469 : training loss= 0.01169 , training accuracy= 99.65464959568733 %\n",
      "Epoch 479 : training loss= 0.01162 , training accuracy= 99.65464959568733 %\n",
      "Epoch 489 : training loss= 0.01156 , training accuracy= 99.65464959568733 %\n",
      "Epoch 499 : training loss= 0.01149 , training accuracy= 99.66307277628033 %\n",
      "CPU times: user 1min 39s, sys: 3.68 s, total: 1min 43s\n",
      "Wall time: 17.3 s\n"
     ]
    }
   ],
   "source": [
    "model2 = LogisticClassifier(lr = .02, batch_size = 100, epochs = 500, momentum=0)\n",
    "%time model2.fit(X_train, y_train)"
   ]
  },
  {
   "cell_type": "markdown",
   "metadata": {},
   "source": [
    "**Create plots for the training losses and accuracies**"
   ]
  },
  {
   "cell_type": "code",
   "execution_count": 15,
   "metadata": {},
   "outputs": [
    {
     "data": {
      "image/png": "[encoded data removed]",
      "text/plain": [
       "<Figure size 864x360 with 2 Axes>"
      ]
     },
     "metadata": {
      "needs_background": "light"
     },
     "output_type": "display_data"
    }
   ],
   "source": [
    "fig, (ax1,ax2) = plt.subplots(1,2, figsize=(12, 5))\n",
    "\n",
    "ax1.plot(model1.loss_history, 'r--', label = 'Nesterov')\n",
    "ax1.plot(model2.loss_history, 'b-.', label = 'SGD')\n",
    "ax1.set_xlabel('Epoch',fontsize=16)\n",
    "ax1.set_ylabel('Loss', fontsize=16)\n",
    "ax1.set_title('Training Loss', fontsize=20);\n",
    "\n",
    "ax1.legend(loc=0, fontsize = 16)\n",
    "\n",
    "ax2.plot(model1.accuracy_history, 'r--', label = 'Nesterov')\n",
    "ax2.plot(model2.accuracy_history, 'b-.', label = 'SGD')\n",
    "ax2.set_xlabel('Epoch', fontsize=16)\n",
    "ax2.set_ylabel('Accuracy (%)', fontsize=16)\n",
    "ax2.set_title('Training Accuracy', fontsize=20)\n",
    "\n",
    "ax2.legend(loc=0, fontsize = 16)\n",
    "\n",
    "fig.tight_layout()"
   ]
  },
  {
   "cell_type": "markdown",
   "metadata": {},
   "source": [
    "Accelerated SGD noticeably converges faster than SGD"
   ]
  },
  {
   "cell_type": "markdown",
   "metadata": {},
   "source": [
    "**Compare test accuracies**"
   ]
  },
  {
   "cell_type": "code",
   "execution_count": 21,
   "metadata": {},
   "outputs": [
    {
     "name": "stdout",
     "output_type": "stream",
     "text": [
      "Test accuracy using Nesterov momentum:  99.29612870789342 %\n",
      "Test accuracy using vanilla SGD:  99.34640522875817 %\n"
     ]
    }
   ],
   "source": [
    "yte1_preds = model1.predict(X_test)\n",
    "print('Test accuracy using Nesterov momentum: ', model2.accuracy(yte1_preds,y_test), '%')\n",
    "\n",
    "yte2_preds = model2.predict(X_test)\n",
    "print('Test accuracy using vanilla SGD: ', model1.accuracy(yte2_preds,y_test), '%')"
   ]
  },
  {
   "cell_type": "markdown",
   "metadata": {},
   "source": [
    "**Check out the misrecognized test images** "
   ]
  },
  {
   "cell_type": "code",
   "execution_count": 26,
   "metadata": {},
   "outputs": [
    {
     "name": "stdout",
     "output_type": "stream",
     "text": [
      "There are 14 misclassified test images\n"
     ]
    }
   ],
   "source": [
    "y_wrong = y_test[yte1_preds != y_test]\n",
    "X_wrong = X_test[yte1_preds != y_test]\n",
    "print('There are', X_wrong.shape[0], 'misclassified test images')"
   ]
  },
  {
   "cell_type": "code",
   "execution_count": 27,
   "metadata": {
    "scrolled": true
   },
   "outputs": [
    {
     "data": {
      "image/png": "[encoded data removed]",
      "text/plain": [
       "<Figure size 1512x432 with 14 Axes>"
      ]
     },
     "metadata": {
      "needs_background": "light"
     },
     "output_type": "display_data"
    }
   ],
   "source": [
    "fig, axes = plt.subplots(2,7,figsize=(21,6))\n",
    "for i, ax in enumerate(axes.flat):\n",
    "    if i < len(y_wrong):\n",
    "        ax.imshow(X_wrong[i].reshape(28,28), cmap=plt.get_cmap('gray'))\n",
    "        ax.set_title('Digit {}'.format(2*y_wrong[i]+4), fontsize=20)  \n",
    "fig.tight_layout()"
   ]
  },
  {
   "cell_type": "code",
   "execution_count": 28,
   "metadata": {},
   "outputs": [
    {
     "name": "stdout",
     "output_type": "stream",
     "text": [
      "There are 13 misclassified test images\n"
     ]
    }
   ],
   "source": [
    "y_wrong = y_test[yte2_preds != y_test]\n",
    "X_wrong = X_test[yte2_preds != y_test]\n",
    "print('There are', X_wrong.shape[0], 'misclassified test images')"
   ]
  },
  {
   "cell_type": "code",
   "execution_count": 29,
   "metadata": {
    "scrolled": true
   },
   "outputs": [
    {
     "data": {
      "image/png": "[encoded data removed]",
      "text/plain": [
       "<Figure size 1512x432 with 14 Axes>"
      ]
     },
     "metadata": {
      "needs_background": "light"
     },
     "output_type": "display_data"
    }
   ],
   "source": [
    "fig, axes = plt.subplots(2,7,figsize=(21,6))\n",
    "for i, ax in enumerate(axes.flat):\n",
    "    if i < len(y_wrong):\n",
    "        ax.imshow(X_wrong[i].reshape(28,28), cmap=plt.get_cmap('gray'))\n",
    "        ax.set_title('Digit {}'.format(2*y_wrong[i]+4), fontsize=20)  \n",
    "fig.tight_layout()"
   ]
  },
  {
   "cell_type": "markdown",
   "metadata": {},
   "source": [
    "## Exercise\n",
    "\n",
    "Train a binary logistic regression classifier to distinguish between images of digit 4 and digit 6 in MNIST, using the momentum method in comparison to SGD."
   ]
  },
  {
   "cell_type": "code",
   "execution_count": null,
   "metadata": {},
   "outputs": [],
   "source": []
  }
 ],
 "metadata": {
  "kernelspec": {
   "display_name": "Python 3 (ipykernel)",
   "language": "python",
   "name": "python3"
  },
  "language_info": {
   "codemirror_mode": {
    "name": "ipython",
    "version": 3
   },
   "file_extension": ".py",
   "mimetype": "text/x-python",
   "name": "python",
   "nbconvert_exporter": "python",
   "pygments_lexer": "ipython3",
   "version": "3.9.12"
  }
 },
 "nbformat": 4,
 "nbformat_minor": 1
}
