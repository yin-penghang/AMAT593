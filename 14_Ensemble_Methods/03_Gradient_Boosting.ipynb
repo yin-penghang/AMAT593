{
 "cells": [
  {
   "cell_type": "markdown",
   "metadata": {},
   "source": [
    "# Gradient Boosting\n",
    "\n",
    "[Gradient boosting](https://en.wikipedia.org/wiki/Gradient_boosting) is a **boosting** ensemble method, as opposed to random forest which is a **bagging** ensemble model. Another well-known boosting ensemble method is AdaBoost (Adaptive Bossting). \n",
    "\n",
    "## Basics\n",
    "\n",
    "Similar to bagging, boosting typically combine decision trees as weak/simple learners to achieve a strong learner, known as tree boosting or boosted trees. However, different from bagging like random forests, each tree in boosting is **dependent** on prior trees. \n",
    "\n",
    "<img src='../figs/13_GradientBoost.png' width = '600'>\n",
    "\n",
    "Models are fit using a differentiable loss function and gradient descent algorithm on the **function space**. This gives the technique its name, “gradient boosting,” as the loss gradient is minimized as the model is fit:\n",
    "\n",
    "1. learn a constant estimator $f_0$ on the data as the initial tree boosting $F_0 = f_0$.\n",
    "\n",
    "2. Repeat for $m = 1, 2, \\dots, M$:  \n",
    "\n",
    "   * predict using current ensemble model $F_{m-1}$.\n",
    "\n",
    "   * calculate some residual error of $F_{m-1}$ for each training sample, **take the residual as the target/label to fit a new tree $T_M$**.   \n",
    "   \n",
    "   * update the boosted trees $F_m = F_{m-1} + \\gamma T_m$, for some proper $\\gamma\\in(0,1)$ resembling the **learning rate** in gradient descent.\n",
    "   \n",
    "The algorithm resembles gradient descent on the **function space**, justifying the name 'gradient boosting'. This is different from conventional gradient methods which operate on **parameter space**."
   ]
  },
  {
   "cell_type": "markdown",
   "metadata": {},
   "source": [
    "### The Algorithm\n",
    "\n",
    "   \n",
    "The gradient boosting algorithm is described as follows:\n",
    "   \n",
    "<img src='../figs/13_GB_Algo.png'>\n",
    "\n",
    "The algorithm works in both regression and classification settings:\n",
    "\n",
    "- For regression with squared loss: \n",
    "\n",
    "$$L(y, F(x)) = \\frac{1}{2}(y - F(x))^2,$$ \n",
    "\n",
    "the pseudo residuals are \n",
    "\n",
    "$$\n",
    "r_i = - \\frac{\\partial L (y_i, F(x_i))}{\\partial F} = y_i - F(x_i), \\; i = 1,\\dots, n\n",
    "$$\n",
    "\n",
    "- For binary classification with cross-entropy loss:\n",
    "\n",
    "$$\n",
    "L(y, F(x)) = -y\\log p(x) - (1-y)\\log(1-p(x)) =  - y F(x) + \\log (1 + e^{F(x)}),\n",
    "$$\n",
    "\n",
    "where $F(x) = \\log \\frac{p(x)}{1-p(x)}$ is the logit or log-odds,\n",
    "the pseudo residuals are \n",
    "\n",
    "$$\n",
    "r_i = - \\frac{\\partial L (y_i, F(x_i))}{\\partial F} = y_i - \\frac{1}{1 + e^{-F(x_i)}}, \\; i = 1,\\dots, n\n",
    "$$\n",
    "\n",
    "and the sigmoind function $\\frac{1}{1 + e^{-F(x_i)}} = p(x_i)$ represents the predicted probability.\n",
    "\n",
    "Essentially, the algorithm iteratively updates a decision function $F(x)$ until \n",
    "\n",
    "$$\n",
    "\\frac{\\partial L (y_i, F(x_i))}{\\partial F} = 0, \\; \\mbox{for} \\; i = 1,\\dots, n\n",
    "$$\n",
    "\n",
    "\n",
    "#### Early stopping \n",
    "\n",
    "Unlike bagging, it is possible for boosting to overfit, by adding too many classifiers. The solution\n",
    "that is normally used practice is a procedure called early stopping. The idea is to monitor the errors on the\n",
    "testing set, which will generally decrease along with training errors as the algorithm proceeds. However, at some point, if the testing error will begin to get noticeably worse, we revert the classifier to\n",
    "the status that gave the best test error, and discard any subsequent changes, i.e., additional weak\n",
    "classifiers."
   ]
  },
  {
   "cell_type": "markdown",
   "metadata": {},
   "source": [
    "## XGBoost\n",
    "\n",
    "[XGBoost](https://en.wikipedia.org/wiki/XGBoost) (eXtreme Gradient Boosting) is a scalable open-source machine learning system under the Gradient Boosting framework. The impact of the system has been widely recognized in a number of machine learning and data mining challenges. It became well known in the machine learning competition circles after its use in the winning solution of the Higgs Machine Learning Challenge. Many of the winning solutions in Kaggle competitions have used XGBoost to train models. \n",
    "\n",
    "**XGBoost and ``sklearn``'s GradientBoosting, are fundamentally the same as they are both gradient boosting implementations**.\n",
    "However, there are very significant differences under the hood in a practical sense. By using several tricks, **XGBoost is a lot faster than ``sklearn``.** \n",
    "\n",
    "\n",
    "Install XGBoost: ``conda install -c conda-forge xgboost``"
   ]
  },
  {
   "cell_type": "markdown",
   "metadata": {},
   "source": [
    "## Example 1: California Housing Prediction"
   ]
  },
  {
   "cell_type": "code",
   "execution_count": 1,
   "metadata": {},
   "outputs": [],
   "source": [
    "from sklearn.datasets import fetch_california_housing\n",
    "housing = fetch_california_housing()"
   ]
  },
  {
   "cell_type": "code",
   "execution_count": 2,
   "metadata": {},
   "outputs": [
    {
     "name": "stdout",
     "output_type": "stream",
     "text": [
      "dict_keys(['data', 'target', 'frame', 'target_names', 'feature_names', 'DESCR'])\n",
      "\n",
      "(20640, 8)\n"
     ]
    }
   ],
   "source": [
    "print(housing.keys())\n",
    "print()\n",
    "print(housing.data.shape)"
   ]
  },
  {
   "cell_type": "code",
   "execution_count": 3,
   "metadata": {},
   "outputs": [
    {
     "name": "stdout",
     "output_type": "stream",
     "text": [
      "['MedInc', 'HouseAge', 'AveRooms', 'AveBedrms', 'Population', 'AveOccup', 'Latitude', 'Longitude']\n"
     ]
    }
   ],
   "source": [
    "print(housing.feature_names)"
   ]
  },
  {
   "cell_type": "code",
   "execution_count": 4,
   "metadata": {},
   "outputs": [
    {
     "name": "stdout",
     "output_type": "stream",
     "text": [
      ".. _california_housing_dataset:\n",
      "\n",
      "California Housing dataset\n",
      "--------------------------\n",
      "\n",
      "**Data Set Characteristics:**\n",
      "\n",
      "    :Number of Instances: 20640\n",
      "\n",
      "    :Number of Attributes: 8 numeric, predictive attributes and the target\n",
      "\n",
      "    :Attribute Information:\n",
      "        - MedInc        median income in block group\n",
      "        - HouseAge      median house age in block group\n",
      "        - AveRooms      average number of rooms per household\n",
      "        - AveBedrms     average number of bedrooms per household\n",
      "        - Population    block group population\n",
      "        - AveOccup      average number of household members\n",
      "        - Latitude      block group latitude\n",
      "        - Longitude     block group longitude\n",
      "\n",
      "    :Missing Attribute Values: None\n",
      "\n",
      "This dataset was obtained from the StatLib repository.\n",
      "https://www.dcc.fc.up.pt/~ltorgo/Regression/cal_housing.html\n",
      "\n",
      "The target variable is the median house value for California districts,\n",
      "expressed in hundreds of thousands of dollars ($100,000).\n",
      "\n",
      "This dataset was derived from the 1990 U.S. census, using one row per census\n",
      "block group. A block group is the smallest geographical unit for which the U.S.\n",
      "Census Bureau publishes sample data (a block group typically has a population\n",
      "of 600 to 3,000 people).\n",
      "\n",
      "An household is a group of people residing within a home. Since the average\n",
      "number of rooms and bedrooms in this dataset are provided per household, these\n",
      "columns may take surpinsingly large values for block groups with few households\n",
      "and many empty houses, such as vacation resorts.\n",
      "\n",
      "It can be downloaded/loaded using the\n",
      ":func:`sklearn.datasets.fetch_california_housing` function.\n",
      "\n",
      ".. topic:: References\n",
      "\n",
      "    - Pace, R. Kelley and Ronald Barry, Sparse Spatial Autoregressions,\n",
      "      Statistics and Probability Letters, 33 (1997) 291-297\n",
      "\n"
     ]
    }
   ],
   "source": [
    "print(housing.DESCR)"
   ]
  },
  {
   "cell_type": "code",
   "execution_count": 5,
   "metadata": {},
   "outputs": [],
   "source": [
    "import pandas as pd\n",
    "\n",
    "data = pd.DataFrame(housing.data)\n",
    "data.columns = housing.feature_names"
   ]
  },
  {
   "cell_type": "code",
   "execution_count": 6,
   "metadata": {},
   "outputs": [
    {
     "data": {
      "text/html": [
       "<div>\n",
       "<style scoped>\n",
       "    .dataframe tbody tr th:only-of-type {\n",
       "        vertical-align: middle;\n",
       "    }\n",
       "\n",
       "    .dataframe tbody tr th {\n",
       "        vertical-align: top;\n",
       "    }\n",
       "\n",
       "    .dataframe thead th {\n",
       "        text-align: right;\n",
       "    }\n",
       "</style>\n",
       "<table border=\"1\" class=\"dataframe\">\n",
       "  <thead>\n",
       "    <tr style=\"text-align: right;\">\n",
       "      <th></th>\n",
       "      <th>MedInc</th>\n",
       "      <th>HouseAge</th>\n",
       "      <th>AveRooms</th>\n",
       "      <th>AveBedrms</th>\n",
       "      <th>Population</th>\n",
       "      <th>AveOccup</th>\n",
       "      <th>Latitude</th>\n",
       "      <th>Longitude</th>\n",
       "    </tr>\n",
       "  </thead>\n",
       "  <tbody>\n",
       "    <tr>\n",
       "      <th>0</th>\n",
       "      <td>8.3252</td>\n",
       "      <td>41.0</td>\n",
       "      <td>6.984127</td>\n",
       "      <td>1.023810</td>\n",
       "      <td>322.0</td>\n",
       "      <td>2.555556</td>\n",
       "      <td>37.88</td>\n",
       "      <td>-122.23</td>\n",
       "    </tr>\n",
       "    <tr>\n",
       "      <th>1</th>\n",
       "      <td>8.3014</td>\n",
       "      <td>21.0</td>\n",
       "      <td>6.238137</td>\n",
       "      <td>0.971880</td>\n",
       "      <td>2401.0</td>\n",
       "      <td>2.109842</td>\n",
       "      <td>37.86</td>\n",
       "      <td>-122.22</td>\n",
       "    </tr>\n",
       "    <tr>\n",
       "      <th>2</th>\n",
       "      <td>7.2574</td>\n",
       "      <td>52.0</td>\n",
       "      <td>8.288136</td>\n",
       "      <td>1.073446</td>\n",
       "      <td>496.0</td>\n",
       "      <td>2.802260</td>\n",
       "      <td>37.85</td>\n",
       "      <td>-122.24</td>\n",
       "    </tr>\n",
       "    <tr>\n",
       "      <th>3</th>\n",
       "      <td>5.6431</td>\n",
       "      <td>52.0</td>\n",
       "      <td>5.817352</td>\n",
       "      <td>1.073059</td>\n",
       "      <td>558.0</td>\n",
       "      <td>2.547945</td>\n",
       "      <td>37.85</td>\n",
       "      <td>-122.25</td>\n",
       "    </tr>\n",
       "    <tr>\n",
       "      <th>4</th>\n",
       "      <td>3.8462</td>\n",
       "      <td>52.0</td>\n",
       "      <td>6.281853</td>\n",
       "      <td>1.081081</td>\n",
       "      <td>565.0</td>\n",
       "      <td>2.181467</td>\n",
       "      <td>37.85</td>\n",
       "      <td>-122.25</td>\n",
       "    </tr>\n",
       "  </tbody>\n",
       "</table>\n",
       "</div>"
      ],
      "text/plain": [
       "   MedInc  HouseAge  AveRooms  AveBedrms  Population  AveOccup  Latitude  \\\n",
       "0  8.3252      41.0  6.984127   1.023810       322.0  2.555556     37.88   \n",
       "1  8.3014      21.0  6.238137   0.971880      2401.0  2.109842     37.86   \n",
       "2  7.2574      52.0  8.288136   1.073446       496.0  2.802260     37.85   \n",
       "3  5.6431      52.0  5.817352   1.073059       558.0  2.547945     37.85   \n",
       "4  3.8462      52.0  6.281853   1.081081       565.0  2.181467     37.85   \n",
       "\n",
       "   Longitude  \n",
       "0    -122.23  \n",
       "1    -122.22  \n",
       "2    -122.24  \n",
       "3    -122.25  \n",
       "4    -122.25  "
      ]
     },
     "execution_count": 6,
     "metadata": {},
     "output_type": "execute_result"
    }
   ],
   "source": [
    "data.head()"
   ]
  },
  {
   "cell_type": "code",
   "execution_count": 7,
   "metadata": {},
   "outputs": [
    {
     "data": {
      "text/html": [
       "<div>\n",
       "<style scoped>\n",
       "    .dataframe tbody tr th:only-of-type {\n",
       "        vertical-align: middle;\n",
       "    }\n",
       "\n",
       "    .dataframe tbody tr th {\n",
       "        vertical-align: top;\n",
       "    }\n",
       "\n",
       "    .dataframe thead th {\n",
       "        text-align: right;\n",
       "    }\n",
       "</style>\n",
       "<table border=\"1\" class=\"dataframe\">\n",
       "  <thead>\n",
       "    <tr style=\"text-align: right;\">\n",
       "      <th></th>\n",
       "      <th>MedInc</th>\n",
       "      <th>HouseAge</th>\n",
       "      <th>AveRooms</th>\n",
       "      <th>AveBedrms</th>\n",
       "      <th>Population</th>\n",
       "      <th>AveOccup</th>\n",
       "      <th>Latitude</th>\n",
       "      <th>Longitude</th>\n",
       "      <th>PRICE</th>\n",
       "    </tr>\n",
       "  </thead>\n",
       "  <tbody>\n",
       "    <tr>\n",
       "      <th>0</th>\n",
       "      <td>8.3252</td>\n",
       "      <td>41.0</td>\n",
       "      <td>6.984127</td>\n",
       "      <td>1.023810</td>\n",
       "      <td>322.0</td>\n",
       "      <td>2.555556</td>\n",
       "      <td>37.88</td>\n",
       "      <td>-122.23</td>\n",
       "      <td>4.526</td>\n",
       "    </tr>\n",
       "    <tr>\n",
       "      <th>1</th>\n",
       "      <td>8.3014</td>\n",
       "      <td>21.0</td>\n",
       "      <td>6.238137</td>\n",
       "      <td>0.971880</td>\n",
       "      <td>2401.0</td>\n",
       "      <td>2.109842</td>\n",
       "      <td>37.86</td>\n",
       "      <td>-122.22</td>\n",
       "      <td>3.585</td>\n",
       "    </tr>\n",
       "    <tr>\n",
       "      <th>2</th>\n",
       "      <td>7.2574</td>\n",
       "      <td>52.0</td>\n",
       "      <td>8.288136</td>\n",
       "      <td>1.073446</td>\n",
       "      <td>496.0</td>\n",
       "      <td>2.802260</td>\n",
       "      <td>37.85</td>\n",
       "      <td>-122.24</td>\n",
       "      <td>3.521</td>\n",
       "    </tr>\n",
       "    <tr>\n",
       "      <th>3</th>\n",
       "      <td>5.6431</td>\n",
       "      <td>52.0</td>\n",
       "      <td>5.817352</td>\n",
       "      <td>1.073059</td>\n",
       "      <td>558.0</td>\n",
       "      <td>2.547945</td>\n",
       "      <td>37.85</td>\n",
       "      <td>-122.25</td>\n",
       "      <td>3.413</td>\n",
       "    </tr>\n",
       "    <tr>\n",
       "      <th>4</th>\n",
       "      <td>3.8462</td>\n",
       "      <td>52.0</td>\n",
       "      <td>6.281853</td>\n",
       "      <td>1.081081</td>\n",
       "      <td>565.0</td>\n",
       "      <td>2.181467</td>\n",
       "      <td>37.85</td>\n",
       "      <td>-122.25</td>\n",
       "      <td>3.422</td>\n",
       "    </tr>\n",
       "  </tbody>\n",
       "</table>\n",
       "</div>"
      ],
      "text/plain": [
       "   MedInc  HouseAge  AveRooms  AveBedrms  Population  AveOccup  Latitude  \\\n",
       "0  8.3252      41.0  6.984127   1.023810       322.0  2.555556     37.88   \n",
       "1  8.3014      21.0  6.238137   0.971880      2401.0  2.109842     37.86   \n",
       "2  7.2574      52.0  8.288136   1.073446       496.0  2.802260     37.85   \n",
       "3  5.6431      52.0  5.817352   1.073059       558.0  2.547945     37.85   \n",
       "4  3.8462      52.0  6.281853   1.081081       565.0  2.181467     37.85   \n",
       "\n",
       "   Longitude  PRICE  \n",
       "0    -122.23  4.526  \n",
       "1    -122.22  3.585  \n",
       "2    -122.24  3.521  \n",
       "3    -122.25  3.413  \n",
       "4    -122.25  3.422  "
      ]
     },
     "execution_count": 7,
     "metadata": {},
     "output_type": "execute_result"
    }
   ],
   "source": [
    "data['PRICE'] = housing.target\n",
    "data.head()"
   ]
  },
  {
   "cell_type": "code",
   "execution_count": 8,
   "metadata": {},
   "outputs": [
    {
     "name": "stdout",
     "output_type": "stream",
     "text": [
      "<class 'pandas.core.frame.DataFrame'>\n",
      "RangeIndex: 20640 entries, 0 to 20639\n",
      "Data columns (total 9 columns):\n",
      " #   Column      Non-Null Count  Dtype  \n",
      "---  ------      --------------  -----  \n",
      " 0   MedInc      20640 non-null  float64\n",
      " 1   HouseAge    20640 non-null  float64\n",
      " 2   AveRooms    20640 non-null  float64\n",
      " 3   AveBedrms   20640 non-null  float64\n",
      " 4   Population  20640 non-null  float64\n",
      " 5   AveOccup    20640 non-null  float64\n",
      " 6   Latitude    20640 non-null  float64\n",
      " 7   Longitude   20640 non-null  float64\n",
      " 8   PRICE       20640 non-null  float64\n",
      "dtypes: float64(9)\n",
      "memory usage: 1.4 MB\n"
     ]
    }
   ],
   "source": [
    "data.info()"
   ]
  },
  {
   "cell_type": "code",
   "execution_count": 9,
   "metadata": {},
   "outputs": [
    {
     "name": "stdout",
     "output_type": "stream",
     "text": [
      "MedInc        0\n",
      "HouseAge      0\n",
      "AveRooms      0\n",
      "AveBedrms     0\n",
      "Population    0\n",
      "AveOccup      0\n",
      "Latitude      0\n",
      "Longitude     0\n",
      "PRICE         0\n",
      "dtype: int64\n"
     ]
    }
   ],
   "source": [
    "print(data.isnull().sum())"
   ]
  },
  {
   "cell_type": "markdown",
   "metadata": {},
   "source": [
    "Import libraries including ``xgboost``:"
   ]
  },
  {
   "cell_type": "code",
   "execution_count": 10,
   "metadata": {},
   "outputs": [],
   "source": [
    "import xgboost as xgb\n",
    "import numpy as np\n",
    "import matplotlib.pyplot as plt\n",
    "import seaborn as sns; sns.set()\n",
    "%matplotlib inline"
   ]
  },
  {
   "cell_type": "code",
   "execution_count": 68,
   "metadata": {},
   "outputs": [],
   "source": [
    "X, y = np.array(data.iloc[:,:-1]), np.array(data.iloc[:,-1])"
   ]
  },
  {
   "cell_type": "markdown",
   "metadata": {},
   "source": [
    "#### Train-test splitting"
   ]
  },
  {
   "cell_type": "code",
   "execution_count": 95,
   "metadata": {},
   "outputs": [],
   "source": [
    "from sklearn.model_selection import train_test_split\n",
    "from sklearn.metrics import mean_squared_error\n",
    "\n",
    "X_train, X_test, y_train, y_test = train_test_split(X, y, test_size=0.2, random_state=123)"
   ]
  },
  {
   "cell_type": "markdown",
   "metadata": {},
   "source": [
    "Instantiate an XGBoost regressor object by calling the ``XGBRegressor()`` class from the XGBoost library with the hyper-parameters passed as arguments. For classification problems, you would have used the ``XGBClassifier()`` class."
   ]
  },
  {
   "cell_type": "code",
   "execution_count": 102,
   "metadata": {},
   "outputs": [],
   "source": [
    "xg_reg = xgb.XGBRegressor(objective ='reg:squarederror', colsample_bytree = 0.3, learning_rate = 0.1,\n",
    "                max_depth = 5, n_estimators = 500)\n",
    "# colsample_bytree: percentage of features used per tree. High value can lead to overfitting.\n",
    "# learning_rate: 'learning rate' for gradient boosting. Range is [0,1]"
   ]
  },
  {
   "cell_type": "code",
   "execution_count": 103,
   "metadata": {},
   "outputs": [],
   "source": [
    "xg_reg.fit(X_train,y_train)\n",
    "preds = xg_reg.predict(X_test)"
   ]
  },
  {
   "cell_type": "code",
   "execution_count": 104,
   "metadata": {},
   "outputs": [
    {
     "name": "stdout",
     "output_type": "stream",
     "text": [
      "RMSE: 0.469687\n"
     ]
    }
   ],
   "source": [
    "print(\"RMSE: %f\" % np.sqrt(mean_squared_error(y_test, preds)))"
   ]
  },
  {
   "cell_type": "markdown",
   "metadata": {},
   "source": [
    "The RMSE for the price prediction came out to be around 1.024 per $100,000.\n"
   ]
  },
  {
   "cell_type": "markdown",
   "metadata": {},
   "source": [
    "### Tuning hyperparameters with grid search\n",
    "\n",
    "XGBoost can be combined with ``GridSearchCV`` to choose good combination of parameters. Check out https://xgboost.readthedocs.io/en/latest/parameter.html for parameter descriptions."
   ]
  },
  {
   "cell_type": "code",
   "execution_count": 125,
   "metadata": {},
   "outputs": [],
   "source": [
    "params = {\n",
    "    \"subsample\":[0.75, 0.9],\n",
    "    \"colsample_bytree\":[0.5, 0.75, 0.9],\n",
    "    \"max_depth\":[2, 5],\n",
    "    \"learning_rate\":[0.1, 0.01]\n",
    "}"
   ]
  },
  {
   "cell_type": "code",
   "execution_count": 126,
   "metadata": {},
   "outputs": [],
   "source": [
    "xg_reg = xgb.XGBRegressor(n_estimators=500)"
   ]
  },
  {
   "cell_type": "code",
   "execution_count": 127,
   "metadata": {},
   "outputs": [],
   "source": [
    "from sklearn.model_selection import GridSearchCV"
   ]
  },
  {
   "cell_type": "code",
   "execution_count": 128,
   "metadata": {},
   "outputs": [],
   "source": [
    "grid = GridSearchCV(estimator = xg_reg, param_grid = params, cv = 5, refit = True)"
   ]
  },
  {
   "cell_type": "code",
   "execution_count": 129,
   "metadata": {},
   "outputs": [
    {
     "data": {
      "text/html": [
       "<style>#sk-container-id-9 {color: black;background-color: white;}#sk-container-id-9 pre{padding: 0;}#sk-container-id-9 div.sk-toggleable {background-color: white;}#sk-container-id-9 label.sk-toggleable__label {cursor: pointer;display: block;width: 100%;margin-bottom: 0;padding: 0.3em;box-sizing: border-box;text-align: center;}#sk-container-id-9 label.sk-toggleable__label-arrow:before {content: \"▸\";float: left;margin-right: 0.25em;color: #696969;}#sk-container-id-9 label.sk-toggleable__label-arrow:hover:before {color: black;}#sk-container-id-9 div.sk-estimator:hover label.sk-toggleable__label-arrow:before {color: black;}#sk-container-id-9 div.sk-toggleable__content {max-height: 0;max-width: 0;overflow: hidden;text-align: left;background-color: #f0f8ff;}#sk-container-id-9 div.sk-toggleable__content pre {margin: 0.2em;color: black;border-radius: 0.25em;background-color: #f0f8ff;}#sk-container-id-9 input.sk-toggleable__control:checked~div.sk-toggleable__content {max-height: 200px;max-width: 100%;overflow: auto;}#sk-container-id-9 input.sk-toggleable__control:checked~label.sk-toggleable__label-arrow:before {content: \"▾\";}#sk-container-id-9 div.sk-estimator input.sk-toggleable__control:checked~label.sk-toggleable__label {background-color: #d4ebff;}#sk-container-id-9 div.sk-label input.sk-toggleable__control:checked~label.sk-toggleable__label {background-color: #d4ebff;}#sk-container-id-9 input.sk-hidden--visually {border: 0;clip: rect(1px 1px 1px 1px);clip: rect(1px, 1px, 1px, 1px);height: 1px;margin: -1px;overflow: hidden;padding: 0;position: absolute;width: 1px;}#sk-container-id-9 div.sk-estimator {font-family: monospace;background-color: #f0f8ff;border: 1px dotted black;border-radius: 0.25em;box-sizing: border-box;margin-bottom: 0.5em;}#sk-container-id-9 div.sk-estimator:hover {background-color: #d4ebff;}#sk-container-id-9 div.sk-parallel-item::after {content: \"\";width: 100%;border-bottom: 1px solid gray;flex-grow: 1;}#sk-container-id-9 div.sk-label:hover label.sk-toggleable__label {background-color: #d4ebff;}#sk-container-id-9 div.sk-serial::before {content: \"\";position: absolute;border-left: 1px solid gray;box-sizing: border-box;top: 0;bottom: 0;left: 50%;z-index: 0;}#sk-container-id-9 div.sk-serial {display: flex;flex-direction: column;align-items: center;background-color: white;padding-right: 0.2em;padding-left: 0.2em;position: relative;}#sk-container-id-9 div.sk-item {position: relative;z-index: 1;}#sk-container-id-9 div.sk-parallel {display: flex;align-items: stretch;justify-content: center;background-color: white;position: relative;}#sk-container-id-9 div.sk-item::before, #sk-container-id-9 div.sk-parallel-item::before {content: \"\";position: absolute;border-left: 1px solid gray;box-sizing: border-box;top: 0;bottom: 0;left: 50%;z-index: -1;}#sk-container-id-9 div.sk-parallel-item {display: flex;flex-direction: column;z-index: 1;position: relative;background-color: white;}#sk-container-id-9 div.sk-parallel-item:first-child::after {align-self: flex-end;width: 50%;}#sk-container-id-9 div.sk-parallel-item:last-child::after {align-self: flex-start;width: 50%;}#sk-container-id-9 div.sk-parallel-item:only-child::after {width: 0;}#sk-container-id-9 div.sk-dashed-wrapped {border: 1px dashed gray;margin: 0 0.4em 0.5em 0.4em;box-sizing: border-box;padding-bottom: 0.4em;background-color: white;}#sk-container-id-9 div.sk-label label {font-family: monospace;font-weight: bold;display: inline-block;line-height: 1.2em;}#sk-container-id-9 div.sk-label-container {text-align: center;}#sk-container-id-9 div.sk-container {/* jupyter's `normalize.less` sets `[hidden] { display: none; }` but bootstrap.min.css set `[hidden] { display: none !important; }` so we also need the `!important` here to be able to override the default hidden behavior on the sphinx rendered scikit-learn.org. See: https://github.com/scikit-learn/scikit-learn/issues/21755 */display: inline-block !important;position: relative;}#sk-container-id-9 div.sk-text-repr-fallback {display: none;}</style><div id=\"sk-container-id-9\" class=\"sk-top-container\"><div class=\"sk-text-repr-fallback\"><pre>GridSearchCV(cv=5,\n",
       "             estimator=XGBRegressor(base_score=None, booster=None,\n",
       "                                    callbacks=None, colsample_bylevel=None,\n",
       "                                    colsample_bynode=None,\n",
       "                                    colsample_bytree=None,\n",
       "                                    early_stopping_rounds=None,\n",
       "                                    enable_categorical=False, eval_metric=None,\n",
       "                                    gamma=None, gpu_id=None, grow_policy=None,\n",
       "                                    importance_type=None,\n",
       "                                    interaction_constraints=None,\n",
       "                                    learning_rate=None, max_bin=None,\n",
       "                                    max_cat...ne, max_delta_step=None,\n",
       "                                    max_depth=None, max_leaves=None,\n",
       "                                    min_child_weight=None, missing=nan,\n",
       "                                    monotone_constraints=None, n_estimators=500,\n",
       "                                    n_jobs=None, num_parallel_tree=None,\n",
       "                                    predictor=None, random_state=None,\n",
       "                                    reg_alpha=None, reg_lambda=None, ...),\n",
       "             param_grid={&#x27;colsample_bytree&#x27;: [0.5, 0.75, 0.9],\n",
       "                         &#x27;learning_rate&#x27;: [0.1, 0.01], &#x27;max_depth&#x27;: [2, 5],\n",
       "                         &#x27;subsample&#x27;: [0.75, 0.9]})</pre><b>In a Jupyter environment, please rerun this cell to show the HTML representation or trust the notebook. <br />On GitHub, the HTML representation is unable to render, please try loading this page with nbviewer.org.</b></div><div class=\"sk-container\" hidden><div class=\"sk-item sk-dashed-wrapped\"><div class=\"sk-label-container\"><div class=\"sk-label sk-toggleable\"><input class=\"sk-toggleable__control sk-hidden--visually\" id=\"sk-estimator-id-25\" type=\"checkbox\" ><label for=\"sk-estimator-id-25\" class=\"sk-toggleable__label sk-toggleable__label-arrow\">GridSearchCV</label><div class=\"sk-toggleable__content\"><pre>GridSearchCV(cv=5,\n",
       "             estimator=XGBRegressor(base_score=None, booster=None,\n",
       "                                    callbacks=None, colsample_bylevel=None,\n",
       "                                    colsample_bynode=None,\n",
       "                                    colsample_bytree=None,\n",
       "                                    early_stopping_rounds=None,\n",
       "                                    enable_categorical=False, eval_metric=None,\n",
       "                                    gamma=None, gpu_id=None, grow_policy=None,\n",
       "                                    importance_type=None,\n",
       "                                    interaction_constraints=None,\n",
       "                                    learning_rate=None, max_bin=None,\n",
       "                                    max_cat...ne, max_delta_step=None,\n",
       "                                    max_depth=None, max_leaves=None,\n",
       "                                    min_child_weight=None, missing=nan,\n",
       "                                    monotone_constraints=None, n_estimators=500,\n",
       "                                    n_jobs=None, num_parallel_tree=None,\n",
       "                                    predictor=None, random_state=None,\n",
       "                                    reg_alpha=None, reg_lambda=None, ...),\n",
       "             param_grid={&#x27;colsample_bytree&#x27;: [0.5, 0.75, 0.9],\n",
       "                         &#x27;learning_rate&#x27;: [0.1, 0.01], &#x27;max_depth&#x27;: [2, 5],\n",
       "                         &#x27;subsample&#x27;: [0.75, 0.9]})</pre></div></div></div><div class=\"sk-parallel\"><div class=\"sk-parallel-item\"><div class=\"sk-item\"><div class=\"sk-label-container\"><div class=\"sk-label sk-toggleable\"><input class=\"sk-toggleable__control sk-hidden--visually\" id=\"sk-estimator-id-26\" type=\"checkbox\" ><label for=\"sk-estimator-id-26\" class=\"sk-toggleable__label sk-toggleable__label-arrow\">estimator: XGBRegressor</label><div class=\"sk-toggleable__content\"><pre>XGBRegressor(base_score=None, booster=None, callbacks=None,\n",
       "             colsample_bylevel=None, colsample_bynode=None,\n",
       "             colsample_bytree=None, early_stopping_rounds=None,\n",
       "             enable_categorical=False, eval_metric=None, gamma=None,\n",
       "             gpu_id=None, grow_policy=None, importance_type=None,\n",
       "             interaction_constraints=None, learning_rate=None, max_bin=None,\n",
       "             max_cat_to_onehot=None, max_delta_step=None, max_depth=None,\n",
       "             max_leaves=None, min_child_weight=None, missing=nan,\n",
       "             monotone_constraints=None, n_estimators=500, n_jobs=None,\n",
       "             num_parallel_tree=None, predictor=None, random_state=None,\n",
       "             reg_alpha=None, reg_lambda=None, ...)</pre></div></div></div><div class=\"sk-serial\"><div class=\"sk-item\"><div class=\"sk-estimator sk-toggleable\"><input class=\"sk-toggleable__control sk-hidden--visually\" id=\"sk-estimator-id-27\" type=\"checkbox\" ><label for=\"sk-estimator-id-27\" class=\"sk-toggleable__label sk-toggleable__label-arrow\">XGBRegressor</label><div class=\"sk-toggleable__content\"><pre>XGBRegressor(base_score=None, booster=None, callbacks=None,\n",
       "             colsample_bylevel=None, colsample_bynode=None,\n",
       "             colsample_bytree=None, early_stopping_rounds=None,\n",
       "             enable_categorical=False, eval_metric=None, gamma=None,\n",
       "             gpu_id=None, grow_policy=None, importance_type=None,\n",
       "             interaction_constraints=None, learning_rate=None, max_bin=None,\n",
       "             max_cat_to_onehot=None, max_delta_step=None, max_depth=None,\n",
       "             max_leaves=None, min_child_weight=None, missing=nan,\n",
       "             monotone_constraints=None, n_estimators=500, n_jobs=None,\n",
       "             num_parallel_tree=None, predictor=None, random_state=None,\n",
       "             reg_alpha=None, reg_lambda=None, ...)</pre></div></div></div></div></div></div></div></div></div></div>"
      ],
      "text/plain": [
       "GridSearchCV(cv=5,\n",
       "             estimator=XGBRegressor(base_score=None, booster=None,\n",
       "                                    callbacks=None, colsample_bylevel=None,\n",
       "                                    colsample_bynode=None,\n",
       "                                    colsample_bytree=None,\n",
       "                                    early_stopping_rounds=None,\n",
       "                                    enable_categorical=False, eval_metric=None,\n",
       "                                    gamma=None, gpu_id=None, grow_policy=None,\n",
       "                                    importance_type=None,\n",
       "                                    interaction_constraints=None,\n",
       "                                    learning_rate=None, max_bin=None,\n",
       "                                    max_cat...ne, max_delta_step=None,\n",
       "                                    max_depth=None, max_leaves=None,\n",
       "                                    min_child_weight=None, missing=nan,\n",
       "                                    monotone_constraints=None, n_estimators=500,\n",
       "                                    n_jobs=None, num_parallel_tree=None,\n",
       "                                    predictor=None, random_state=None,\n",
       "                                    reg_alpha=None, reg_lambda=None, ...),\n",
       "             param_grid={'colsample_bytree': [0.5, 0.75, 0.9],\n",
       "                         'learning_rate': [0.1, 0.01], 'max_depth': [2, 5],\n",
       "                         'subsample': [0.75, 0.9]})"
      ]
     },
     "execution_count": 129,
     "metadata": {},
     "output_type": "execute_result"
    }
   ],
   "source": [
    "grid.fit(X_train, y_train, verbose = 3)"
   ]
  },
  {
   "cell_type": "code",
   "execution_count": 130,
   "metadata": {},
   "outputs": [
    {
     "name": "stdout",
     "output_type": "stream",
     "text": [
      "{'colsample_bytree': 0.5, 'learning_rate': 0.01, 'max_depth': 2, 'subsample': 0.9}\n"
     ]
    }
   ],
   "source": [
    "print(grid.best_params_)"
   ]
  },
  {
   "cell_type": "code",
   "execution_count": 131,
   "metadata": {},
   "outputs": [
    {
     "name": "stdout",
     "output_type": "stream",
     "text": [
      "RMSE: 0.340523\n"
     ]
    }
   ],
   "source": [
    "preds = grid.predict(X_test)\n",
    "print(\"RMSE: %f\" % np.sqrt(mean_squared_error(y_test, preds)))"
   ]
  },
  {
   "cell_type": "markdown",
   "metadata": {},
   "source": [
    "## Example 2: Heart Disease Prediction\n",
    "\n",
    "* Features:\n",
    "   1. age\n",
    "   2. sex: 1 = male, 0 = female\n",
    "   3. cp: chest pain type, 1 = typical angina, 2 = atypical angina, 3 = non-anginal pain, 4 = asymptotic\n",
    "   4. trestbps: resting blood pressure\n",
    "   5. chol: serum cholestoral in mg/dl\n",
    "   6. fbs: fasting blood sugar > 120 mg/dl, 1 = true, 0 = false\n",
    "   7. restecg: resting electrocardiographic results, 0 = normal, 1 = having ST-T wave abnormality, 2 = left ventricular hyperthrophy\n",
    "   8. thalach: maximum heart rate achieved\n",
    "   9. exang: exercise induced angina, 1 = yes, 0 = no\n",
    "   10. oldpeak: ST depression induced by exercise relative to rest\n",
    "   11. slop: peak exercise ST segment, 1 = upsloping, 2 = flat, 3 = downsloping\n",
    "   12. ca: number of major vessels (0-3) colored by flourosopy\n",
    "   13. thal: displays the thalassemia\n",
    "\n",
    "* Target: diagnosis of heart disease : Displays whether the individual is suffering from heart disease or not: 0 = absence, 1 = present."
   ]
  },
  {
   "cell_type": "code",
   "execution_count": 116,
   "metadata": {},
   "outputs": [
    {
     "data": {
      "text/html": [
       "<div>\n",
       "<style scoped>\n",
       "    .dataframe tbody tr th:only-of-type {\n",
       "        vertical-align: middle;\n",
       "    }\n",
       "\n",
       "    .dataframe tbody tr th {\n",
       "        vertical-align: top;\n",
       "    }\n",
       "\n",
       "    .dataframe thead th {\n",
       "        text-align: right;\n",
       "    }\n",
       "</style>\n",
       "<table border=\"1\" class=\"dataframe\">\n",
       "  <thead>\n",
       "    <tr style=\"text-align: right;\">\n",
       "      <th></th>\n",
       "      <th>age</th>\n",
       "      <th>sex</th>\n",
       "      <th>cp</th>\n",
       "      <th>trestbps</th>\n",
       "      <th>chol</th>\n",
       "      <th>fbs</th>\n",
       "      <th>restecg</th>\n",
       "      <th>thalach</th>\n",
       "      <th>exang</th>\n",
       "      <th>oldpeak</th>\n",
       "      <th>slope</th>\n",
       "      <th>ca</th>\n",
       "      <th>thal</th>\n",
       "      <th>target</th>\n",
       "    </tr>\n",
       "  </thead>\n",
       "  <tbody>\n",
       "    <tr>\n",
       "      <th>0</th>\n",
       "      <td>63</td>\n",
       "      <td>1</td>\n",
       "      <td>3</td>\n",
       "      <td>145</td>\n",
       "      <td>233</td>\n",
       "      <td>1</td>\n",
       "      <td>0</td>\n",
       "      <td>150</td>\n",
       "      <td>0</td>\n",
       "      <td>2.3</td>\n",
       "      <td>0</td>\n",
       "      <td>0</td>\n",
       "      <td>1</td>\n",
       "      <td>1</td>\n",
       "    </tr>\n",
       "    <tr>\n",
       "      <th>1</th>\n",
       "      <td>37</td>\n",
       "      <td>1</td>\n",
       "      <td>2</td>\n",
       "      <td>130</td>\n",
       "      <td>250</td>\n",
       "      <td>0</td>\n",
       "      <td>1</td>\n",
       "      <td>187</td>\n",
       "      <td>0</td>\n",
       "      <td>3.5</td>\n",
       "      <td>0</td>\n",
       "      <td>0</td>\n",
       "      <td>2</td>\n",
       "      <td>1</td>\n",
       "    </tr>\n",
       "    <tr>\n",
       "      <th>2</th>\n",
       "      <td>41</td>\n",
       "      <td>0</td>\n",
       "      <td>1</td>\n",
       "      <td>130</td>\n",
       "      <td>204</td>\n",
       "      <td>0</td>\n",
       "      <td>0</td>\n",
       "      <td>172</td>\n",
       "      <td>0</td>\n",
       "      <td>1.4</td>\n",
       "      <td>2</td>\n",
       "      <td>0</td>\n",
       "      <td>2</td>\n",
       "      <td>1</td>\n",
       "    </tr>\n",
       "    <tr>\n",
       "      <th>3</th>\n",
       "      <td>56</td>\n",
       "      <td>1</td>\n",
       "      <td>1</td>\n",
       "      <td>120</td>\n",
       "      <td>236</td>\n",
       "      <td>0</td>\n",
       "      <td>1</td>\n",
       "      <td>178</td>\n",
       "      <td>0</td>\n",
       "      <td>0.8</td>\n",
       "      <td>2</td>\n",
       "      <td>0</td>\n",
       "      <td>2</td>\n",
       "      <td>1</td>\n",
       "    </tr>\n",
       "    <tr>\n",
       "      <th>4</th>\n",
       "      <td>57</td>\n",
       "      <td>0</td>\n",
       "      <td>0</td>\n",
       "      <td>120</td>\n",
       "      <td>354</td>\n",
       "      <td>0</td>\n",
       "      <td>1</td>\n",
       "      <td>163</td>\n",
       "      <td>1</td>\n",
       "      <td>0.6</td>\n",
       "      <td>2</td>\n",
       "      <td>0</td>\n",
       "      <td>2</td>\n",
       "      <td>1</td>\n",
       "    </tr>\n",
       "  </tbody>\n",
       "</table>\n",
       "</div>"
      ],
      "text/plain": [
       "   age  sex  cp  trestbps  chol  fbs  restecg  thalach  exang  oldpeak  slope  \\\n",
       "0   63    1   3       145   233    1        0      150      0      2.3      0   \n",
       "1   37    1   2       130   250    0        1      187      0      3.5      0   \n",
       "2   41    0   1       130   204    0        0      172      0      1.4      2   \n",
       "3   56    1   1       120   236    0        1      178      0      0.8      2   \n",
       "4   57    0   0       120   354    0        1      163      1      0.6      2   \n",
       "\n",
       "   ca  thal  target  \n",
       "0   0     1       1  \n",
       "1   0     2       1  \n",
       "2   0     2       1  \n",
       "3   0     2       1  \n",
       "4   0     2       1  "
      ]
     },
     "execution_count": 116,
     "metadata": {},
     "output_type": "execute_result"
    }
   ],
   "source": [
    "import pandas as pd\n",
    "df = pd.read_csv('heart_disease.csv')\n",
    "df.head()"
   ]
  },
  {
   "cell_type": "code",
   "execution_count": 117,
   "metadata": {},
   "outputs": [
    {
     "name": "stdout",
     "output_type": "stream",
     "text": [
      "<class 'pandas.core.frame.DataFrame'>\n",
      "RangeIndex: 303 entries, 0 to 302\n",
      "Data columns (total 14 columns):\n",
      " #   Column    Non-Null Count  Dtype  \n",
      "---  ------    --------------  -----  \n",
      " 0   age       303 non-null    int64  \n",
      " 1   sex       303 non-null    int64  \n",
      " 2   cp        303 non-null    int64  \n",
      " 3   trestbps  303 non-null    int64  \n",
      " 4   chol      303 non-null    int64  \n",
      " 5   fbs       303 non-null    int64  \n",
      " 6   restecg   303 non-null    int64  \n",
      " 7   thalach   303 non-null    int64  \n",
      " 8   exang     303 non-null    int64  \n",
      " 9   oldpeak   303 non-null    float64\n",
      " 10  slope     303 non-null    int64  \n",
      " 11  ca        303 non-null    int64  \n",
      " 12  thal      303 non-null    int64  \n",
      " 13  target    303 non-null    int64  \n",
      "dtypes: float64(1), int64(13)\n",
      "memory usage: 33.3 KB\n"
     ]
    }
   ],
   "source": [
    "df.info()"
   ]
  },
  {
   "cell_type": "code",
   "execution_count": 118,
   "metadata": {},
   "outputs": [],
   "source": [
    "from xgboost import XGBClassifier\n",
    "from sklearn.metrics import accuracy_score"
   ]
  },
  {
   "cell_type": "code",
   "execution_count": 119,
   "metadata": {},
   "outputs": [],
   "source": [
    "# Split data into X and y\n",
    "X = df.iloc[:, :-1]\n",
    "y = df.iloc[:, -1]"
   ]
  },
  {
   "cell_type": "markdown",
   "metadata": {},
   "source": [
    "#### Train test split"
   ]
  },
  {
   "cell_type": "code",
   "execution_count": 120,
   "metadata": {},
   "outputs": [],
   "source": [
    "from sklearn.model_selection import train_test_split\n",
    "X_train, X_test, y_train, y_test = train_test_split(X, y, test_size=0.25, random_state=101)"
   ]
  },
  {
   "cell_type": "markdown",
   "metadata": {},
   "source": [
    "Instantiate a ``XGBClassifier``"
   ]
  },
  {
   "cell_type": "code",
   "execution_count": 121,
   "metadata": {},
   "outputs": [],
   "source": [
    "model = XGBClassifier(booster='gbtree', objective='binary:logistic', random_state=20)"
   ]
  },
  {
   "cell_type": "markdown",
   "metadata": {},
   "source": [
    "### GridSearchCV"
   ]
  },
  {
   "cell_type": "code",
   "execution_count": 122,
   "metadata": {},
   "outputs": [],
   "source": [
    "# Import GridSearchCV\n",
    "from sklearn.model_selection import GridSearchCV"
   ]
  },
  {
   "cell_type": "markdown",
   "metadata": {},
   "source": [
    "Create a dictionary that describes the parameters we want to try and fit the ``grid`` object on training data"
   ]
  },
  {
   "cell_type": "code",
   "execution_count": 123,
   "metadata": {},
   "outputs": [],
   "source": [
    "param_grid = {'n_estimators': [100, 400, 800],\n",
    "             'learning_rate': [0.005, 0.01, 0.05],\n",
    "             'colsample_bytree': [0.3, 0.5, 0.7],\n",
    "              'max_depth': [3, 4, 5] \n",
    "             }\n",
    "grid = GridSearchCV(model, param_grid, cv=5, verbose = 2, refit = True)"
   ]
  },
  {
   "cell_type": "code",
   "execution_count": 124,
   "metadata": {
    "scrolled": true
   },
   "outputs": [
    {
     "name": "stdout",
     "output_type": "stream",
     "text": [
      "Fitting 5 folds for each of 81 candidates, totalling 405 fits\n",
      "[CV] END colsample_bytree=0.3, learning_rate=0.005, max_depth=3, n_estimators=100; total time=   0.1s\n",
      "[CV] END colsample_bytree=0.3, learning_rate=0.005, max_depth=3, n_estimators=100; total time=   0.1s\n",
      "[CV] END colsample_bytree=0.3, learning_rate=0.005, max_depth=3, n_estimators=100; total time=   0.1s\n",
      "[CV] END colsample_bytree=0.3, learning_rate=0.005, max_depth=3, n_estimators=100; total time=   0.1s\n",
      "[CV] END colsample_bytree=0.3, learning_rate=0.005, max_depth=3, n_estimators=100; total time=   0.1s\n",
      "[CV] END colsample_bytree=0.3, learning_rate=0.005, max_depth=3, n_estimators=400; total time=   0.2s\n",
      "[CV] END colsample_bytree=0.3, learning_rate=0.005, max_depth=3, n_estimators=400; total time=   0.1s\n",
      "[CV] END colsample_bytree=0.3, learning_rate=0.005, max_depth=3, n_estimators=400; total time=   0.1s\n",
      "[CV] END colsample_bytree=0.3, learning_rate=0.005, max_depth=3, n_estimators=400; total time=   0.1s\n",
      "[CV] END colsample_bytree=0.3, learning_rate=0.005, max_depth=3, n_estimators=400; total time=   0.1s\n",
      "[CV] END colsample_bytree=0.3, learning_rate=0.005, max_depth=3, n_estimators=800; total time=   0.1s\n",
      "[CV] END colsample_bytree=0.3, learning_rate=0.005, max_depth=3, n_estimators=800; total time=   0.2s\n",
      "[CV] END colsample_bytree=0.3, learning_rate=0.005, max_depth=3, n_estimators=800; total time=   0.2s\n",
      "[CV] END colsample_bytree=0.3, learning_rate=0.005, max_depth=3, n_estimators=800; total time=   0.1s\n",
      "[CV] END colsample_bytree=0.3, learning_rate=0.005, max_depth=3, n_estimators=800; total time=   0.1s\n",
      "[CV] END colsample_bytree=0.3, learning_rate=0.005, max_depth=4, n_estimators=100; total time=   0.0s\n",
      "[CV] END colsample_bytree=0.3, learning_rate=0.005, max_depth=4, n_estimators=100; total time=   0.1s\n",
      "[CV] END colsample_bytree=0.3, learning_rate=0.005, max_depth=4, n_estimators=100; total time=   0.0s\n",
      "[CV] END colsample_bytree=0.3, learning_rate=0.005, max_depth=4, n_estimators=100; total time=   0.0s\n",
      "[CV] END colsample_bytree=0.3, learning_rate=0.005, max_depth=4, n_estimators=100; total time=   0.0s\n",
      "[CV] END colsample_bytree=0.3, learning_rate=0.005, max_depth=4, n_estimators=400; total time=   0.1s\n",
      "[CV] END colsample_bytree=0.3, learning_rate=0.005, max_depth=4, n_estimators=400; total time=   0.1s\n",
      "[CV] END colsample_bytree=0.3, learning_rate=0.005, max_depth=4, n_estimators=400; total time=   0.1s\n",
      "[CV] END colsample_bytree=0.3, learning_rate=0.005, max_depth=4, n_estimators=400; total time=   0.1s\n",
      "[CV] END colsample_bytree=0.3, learning_rate=0.005, max_depth=4, n_estimators=400; total time=   0.1s\n",
      "[CV] END colsample_bytree=0.3, learning_rate=0.005, max_depth=4, n_estimators=800; total time=   0.2s\n",
      "[CV] END colsample_bytree=0.3, learning_rate=0.005, max_depth=4, n_estimators=800; total time=   0.4s\n",
      "[CV] END colsample_bytree=0.3, learning_rate=0.005, max_depth=4, n_estimators=800; total time=   0.4s\n",
      "[CV] END colsample_bytree=0.3, learning_rate=0.005, max_depth=4, n_estimators=800; total time=   0.2s\n",
      "[CV] END colsample_bytree=0.3, learning_rate=0.005, max_depth=4, n_estimators=800; total time=   0.2s\n",
      "[CV] END colsample_bytree=0.3, learning_rate=0.005, max_depth=5, n_estimators=100; total time=   0.0s\n",
      "[CV] END colsample_bytree=0.3, learning_rate=0.005, max_depth=5, n_estimators=100; total time=   0.0s\n",
      "[CV] END colsample_bytree=0.3, learning_rate=0.005, max_depth=5, n_estimators=100; total time=   0.0s\n",
      "[CV] END colsample_bytree=0.3, learning_rate=0.005, max_depth=5, n_estimators=100; total time=   0.0s\n",
      "[CV] END colsample_bytree=0.3, learning_rate=0.005, max_depth=5, n_estimators=100; total time=   0.0s\n",
      "[CV] END colsample_bytree=0.3, learning_rate=0.005, max_depth=5, n_estimators=400; total time=   0.1s\n",
      "[CV] END colsample_bytree=0.3, learning_rate=0.005, max_depth=5, n_estimators=400; total time=   0.1s\n",
      "[CV] END colsample_bytree=0.3, learning_rate=0.005, max_depth=5, n_estimators=400; total time=   0.1s\n",
      "[CV] END colsample_bytree=0.3, learning_rate=0.005, max_depth=5, n_estimators=400; total time=   0.1s\n",
      "[CV] END colsample_bytree=0.3, learning_rate=0.005, max_depth=5, n_estimators=400; total time=   0.1s\n",
      "[CV] END colsample_bytree=0.3, learning_rate=0.005, max_depth=5, n_estimators=800; total time=   0.2s\n",
      "[CV] END colsample_bytree=0.3, learning_rate=0.005, max_depth=5, n_estimators=800; total time=   0.2s\n",
      "[CV] END colsample_bytree=0.3, learning_rate=0.005, max_depth=5, n_estimators=800; total time=   0.2s\n",
      "[CV] END colsample_bytree=0.3, learning_rate=0.005, max_depth=5, n_estimators=800; total time=   0.2s\n",
      "[CV] END colsample_bytree=0.3, learning_rate=0.005, max_depth=5, n_estimators=800; total time=   0.2s\n",
      "[CV] END colsample_bytree=0.3, learning_rate=0.01, max_depth=3, n_estimators=100; total time=   0.0s\n",
      "[CV] END colsample_bytree=0.3, learning_rate=0.01, max_depth=3, n_estimators=100; total time=   0.0s\n",
      "[CV] END colsample_bytree=0.3, learning_rate=0.01, max_depth=3, n_estimators=100; total time=   0.0s\n",
      "[CV] END colsample_bytree=0.3, learning_rate=0.01, max_depth=3, n_estimators=100; total time=   0.0s\n",
      "[CV] END colsample_bytree=0.3, learning_rate=0.01, max_depth=3, n_estimators=100; total time=   0.0s\n",
      "[CV] END colsample_bytree=0.3, learning_rate=0.01, max_depth=3, n_estimators=400; total time=   0.1s\n",
      "[CV] END colsample_bytree=0.3, learning_rate=0.01, max_depth=3, n_estimators=400; total time=   0.1s\n",
      "[CV] END colsample_bytree=0.3, learning_rate=0.01, max_depth=3, n_estimators=400; total time=   0.1s\n",
      "[CV] END colsample_bytree=0.3, learning_rate=0.01, max_depth=3, n_estimators=400; total time=   0.1s\n",
      "[CV] END colsample_bytree=0.3, learning_rate=0.01, max_depth=3, n_estimators=400; total time=   0.1s\n",
      "[CV] END colsample_bytree=0.3, learning_rate=0.01, max_depth=3, n_estimators=800; total time=   0.1s\n",
      "[CV] END colsample_bytree=0.3, learning_rate=0.01, max_depth=3, n_estimators=800; total time=   0.2s\n",
      "[CV] END colsample_bytree=0.3, learning_rate=0.01, max_depth=3, n_estimators=800; total time=   0.1s\n",
      "[CV] END colsample_bytree=0.3, learning_rate=0.01, max_depth=3, n_estimators=800; total time=   0.2s\n",
      "[CV] END colsample_bytree=0.3, learning_rate=0.01, max_depth=3, n_estimators=800; total time=   0.1s\n",
      "[CV] END colsample_bytree=0.3, learning_rate=0.01, max_depth=4, n_estimators=100; total time=   0.0s\n",
      "[CV] END colsample_bytree=0.3, learning_rate=0.01, max_depth=4, n_estimators=100; total time=   0.0s\n",
      "[CV] END colsample_bytree=0.3, learning_rate=0.01, max_depth=4, n_estimators=100; total time=   0.0s\n",
      "[CV] END colsample_bytree=0.3, learning_rate=0.01, max_depth=4, n_estimators=100; total time=   0.0s\n",
      "[CV] END colsample_bytree=0.3, learning_rate=0.01, max_depth=4, n_estimators=100; total time=   0.0s\n",
      "[CV] END colsample_bytree=0.3, learning_rate=0.01, max_depth=4, n_estimators=400; total time=   0.1s\n",
      "[CV] END colsample_bytree=0.3, learning_rate=0.01, max_depth=4, n_estimators=400; total time=   0.1s\n",
      "[CV] END colsample_bytree=0.3, learning_rate=0.01, max_depth=4, n_estimators=400; total time=   0.1s\n",
      "[CV] END colsample_bytree=0.3, learning_rate=0.01, max_depth=4, n_estimators=400; total time=   0.1s\n",
      "[CV] END colsample_bytree=0.3, learning_rate=0.01, max_depth=4, n_estimators=400; total time=   0.1s\n",
      "[CV] END colsample_bytree=0.3, learning_rate=0.01, max_depth=4, n_estimators=800; total time=   0.2s\n",
      "[CV] END colsample_bytree=0.3, learning_rate=0.01, max_depth=4, n_estimators=800; total time=   0.2s\n",
      "[CV] END colsample_bytree=0.3, learning_rate=0.01, max_depth=4, n_estimators=800; total time=   0.3s\n",
      "[CV] END colsample_bytree=0.3, learning_rate=0.01, max_depth=4, n_estimators=800; total time=   0.3s\n",
      "[CV] END colsample_bytree=0.3, learning_rate=0.01, max_depth=4, n_estimators=800; total time=   0.2s\n",
      "[CV] END colsample_bytree=0.3, learning_rate=0.01, max_depth=5, n_estimators=100; total time=   0.1s\n",
      "[CV] END colsample_bytree=0.3, learning_rate=0.01, max_depth=5, n_estimators=100; total time=   0.0s\n",
      "[CV] END colsample_bytree=0.3, learning_rate=0.01, max_depth=5, n_estimators=100; total time=   0.1s\n",
      "[CV] END colsample_bytree=0.3, learning_rate=0.01, max_depth=5, n_estimators=100; total time=   0.0s\n",
      "[CV] END colsample_bytree=0.3, learning_rate=0.01, max_depth=5, n_estimators=100; total time=   0.0s\n",
      "[CV] END colsample_bytree=0.3, learning_rate=0.01, max_depth=5, n_estimators=400; total time=   0.1s\n"
     ]
    },
    {
     "name": "stdout",
     "output_type": "stream",
     "text": [
      "[CV] END colsample_bytree=0.3, learning_rate=0.01, max_depth=5, n_estimators=400; total time=   0.1s\n",
      "[CV] END colsample_bytree=0.3, learning_rate=0.01, max_depth=5, n_estimators=400; total time=   0.1s\n",
      "[CV] END colsample_bytree=0.3, learning_rate=0.01, max_depth=5, n_estimators=400; total time=   0.1s\n",
      "[CV] END colsample_bytree=0.3, learning_rate=0.01, max_depth=5, n_estimators=400; total time=   0.1s\n",
      "[CV] END colsample_bytree=0.3, learning_rate=0.01, max_depth=5, n_estimators=800; total time=   0.2s\n",
      "[CV] END colsample_bytree=0.3, learning_rate=0.01, max_depth=5, n_estimators=800; total time=   0.2s\n",
      "[CV] END colsample_bytree=0.3, learning_rate=0.01, max_depth=5, n_estimators=800; total time=   0.3s\n",
      "[CV] END colsample_bytree=0.3, learning_rate=0.01, max_depth=5, n_estimators=800; total time=   0.2s\n",
      "[CV] END colsample_bytree=0.3, learning_rate=0.01, max_depth=5, n_estimators=800; total time=   0.2s\n",
      "[CV] END colsample_bytree=0.3, learning_rate=0.05, max_depth=3, n_estimators=100; total time=   0.0s\n",
      "[CV] END colsample_bytree=0.3, learning_rate=0.05, max_depth=3, n_estimators=100; total time=   0.0s\n",
      "[CV] END colsample_bytree=0.3, learning_rate=0.05, max_depth=3, n_estimators=100; total time=   0.0s\n",
      "[CV] END colsample_bytree=0.3, learning_rate=0.05, max_depth=3, n_estimators=100; total time=   0.0s\n",
      "[CV] END colsample_bytree=0.3, learning_rate=0.05, max_depth=3, n_estimators=100; total time=   0.0s\n",
      "[CV] END colsample_bytree=0.3, learning_rate=0.05, max_depth=3, n_estimators=400; total time=   0.1s\n",
      "[CV] END colsample_bytree=0.3, learning_rate=0.05, max_depth=3, n_estimators=400; total time=   0.1s\n",
      "[CV] END colsample_bytree=0.3, learning_rate=0.05, max_depth=3, n_estimators=400; total time=   0.1s\n",
      "[CV] END colsample_bytree=0.3, learning_rate=0.05, max_depth=3, n_estimators=400; total time=   0.1s\n",
      "[CV] END colsample_bytree=0.3, learning_rate=0.05, max_depth=3, n_estimators=400; total time=   0.1s\n",
      "[CV] END colsample_bytree=0.3, learning_rate=0.05, max_depth=3, n_estimators=800; total time=   0.1s\n",
      "[CV] END colsample_bytree=0.3, learning_rate=0.05, max_depth=3, n_estimators=800; total time=   0.1s\n",
      "[CV] END colsample_bytree=0.3, learning_rate=0.05, max_depth=3, n_estimators=800; total time=   0.2s\n",
      "[CV] END colsample_bytree=0.3, learning_rate=0.05, max_depth=3, n_estimators=800; total time=   0.2s\n",
      "[CV] END colsample_bytree=0.3, learning_rate=0.05, max_depth=3, n_estimators=800; total time=   0.3s\n",
      "[CV] END colsample_bytree=0.3, learning_rate=0.05, max_depth=4, n_estimators=100; total time=   0.0s\n",
      "[CV] END colsample_bytree=0.3, learning_rate=0.05, max_depth=4, n_estimators=100; total time=   0.1s\n",
      "[CV] END colsample_bytree=0.3, learning_rate=0.05, max_depth=4, n_estimators=100; total time=   0.1s\n",
      "[CV] END colsample_bytree=0.3, learning_rate=0.05, max_depth=4, n_estimators=100; total time=   0.1s\n",
      "[CV] END colsample_bytree=0.3, learning_rate=0.05, max_depth=4, n_estimators=100; total time=   0.0s\n",
      "[CV] END colsample_bytree=0.3, learning_rate=0.05, max_depth=4, n_estimators=400; total time=   0.1s\n",
      "[CV] END colsample_bytree=0.3, learning_rate=0.05, max_depth=4, n_estimators=400; total time=   0.2s\n",
      "[CV] END colsample_bytree=0.3, learning_rate=0.05, max_depth=4, n_estimators=400; total time=   0.1s\n",
      "[CV] END colsample_bytree=0.3, learning_rate=0.05, max_depth=4, n_estimators=400; total time=   0.1s\n",
      "[CV] END colsample_bytree=0.3, learning_rate=0.05, max_depth=4, n_estimators=400; total time=   0.1s\n",
      "[CV] END colsample_bytree=0.3, learning_rate=0.05, max_depth=4, n_estimators=800; total time=   0.2s\n",
      "[CV] END colsample_bytree=0.3, learning_rate=0.05, max_depth=4, n_estimators=800; total time=   0.3s\n",
      "[CV] END colsample_bytree=0.3, learning_rate=0.05, max_depth=4, n_estimators=800; total time=   0.2s\n",
      "[CV] END colsample_bytree=0.3, learning_rate=0.05, max_depth=4, n_estimators=800; total time=   0.2s\n",
      "[CV] END colsample_bytree=0.3, learning_rate=0.05, max_depth=4, n_estimators=800; total time=   0.2s\n",
      "[CV] END colsample_bytree=0.3, learning_rate=0.05, max_depth=5, n_estimators=100; total time=   0.0s\n",
      "[CV] END colsample_bytree=0.3, learning_rate=0.05, max_depth=5, n_estimators=100; total time=   0.0s\n",
      "[CV] END colsample_bytree=0.3, learning_rate=0.05, max_depth=5, n_estimators=100; total time=   0.0s\n",
      "[CV] END colsample_bytree=0.3, learning_rate=0.05, max_depth=5, n_estimators=100; total time=   0.0s\n",
      "[CV] END colsample_bytree=0.3, learning_rate=0.05, max_depth=5, n_estimators=100; total time=   0.0s\n",
      "[CV] END colsample_bytree=0.3, learning_rate=0.05, max_depth=5, n_estimators=400; total time=   0.1s\n",
      "[CV] END colsample_bytree=0.3, learning_rate=0.05, max_depth=5, n_estimators=400; total time=   0.1s\n",
      "[CV] END colsample_bytree=0.3, learning_rate=0.05, max_depth=5, n_estimators=400; total time=   0.1s\n",
      "[CV] END colsample_bytree=0.3, learning_rate=0.05, max_depth=5, n_estimators=400; total time=   0.1s\n",
      "[CV] END colsample_bytree=0.3, learning_rate=0.05, max_depth=5, n_estimators=400; total time=   0.1s\n",
      "[CV] END colsample_bytree=0.3, learning_rate=0.05, max_depth=5, n_estimators=800; total time=   0.2s\n",
      "[CV] END colsample_bytree=0.3, learning_rate=0.05, max_depth=5, n_estimators=800; total time=   0.2s\n",
      "[CV] END colsample_bytree=0.3, learning_rate=0.05, max_depth=5, n_estimators=800; total time=   0.2s\n",
      "[CV] END colsample_bytree=0.3, learning_rate=0.05, max_depth=5, n_estimators=800; total time=   0.2s\n",
      "[CV] END colsample_bytree=0.3, learning_rate=0.05, max_depth=5, n_estimators=800; total time=   0.2s\n",
      "[CV] END colsample_bytree=0.5, learning_rate=0.005, max_depth=3, n_estimators=100; total time=   0.0s\n",
      "[CV] END colsample_bytree=0.5, learning_rate=0.005, max_depth=3, n_estimators=100; total time=   0.0s\n",
      "[CV] END colsample_bytree=0.5, learning_rate=0.005, max_depth=3, n_estimators=100; total time=   0.0s\n",
      "[CV] END colsample_bytree=0.5, learning_rate=0.005, max_depth=3, n_estimators=100; total time=   0.0s\n",
      "[CV] END colsample_bytree=0.5, learning_rate=0.005, max_depth=3, n_estimators=100; total time=   0.0s\n",
      "[CV] END colsample_bytree=0.5, learning_rate=0.005, max_depth=3, n_estimators=400; total time=   0.1s\n",
      "[CV] END colsample_bytree=0.5, learning_rate=0.005, max_depth=3, n_estimators=400; total time=   0.1s\n",
      "[CV] END colsample_bytree=0.5, learning_rate=0.005, max_depth=3, n_estimators=400; total time=   0.1s\n",
      "[CV] END colsample_bytree=0.5, learning_rate=0.005, max_depth=3, n_estimators=400; total time=   0.1s\n",
      "[CV] END colsample_bytree=0.5, learning_rate=0.005, max_depth=3, n_estimators=400; total time=   0.1s\n",
      "[CV] END colsample_bytree=0.5, learning_rate=0.005, max_depth=3, n_estimators=800; total time=   0.2s\n",
      "[CV] END colsample_bytree=0.5, learning_rate=0.005, max_depth=3, n_estimators=800; total time=   0.2s\n",
      "[CV] END colsample_bytree=0.5, learning_rate=0.005, max_depth=3, n_estimators=800; total time=   0.2s\n",
      "[CV] END colsample_bytree=0.5, learning_rate=0.005, max_depth=3, n_estimators=800; total time=   0.1s\n",
      "[CV] END colsample_bytree=0.5, learning_rate=0.005, max_depth=3, n_estimators=800; total time=   0.2s\n",
      "[CV] END colsample_bytree=0.5, learning_rate=0.005, max_depth=4, n_estimators=100; total time=   0.0s\n",
      "[CV] END colsample_bytree=0.5, learning_rate=0.005, max_depth=4, n_estimators=100; total time=   0.0s\n",
      "[CV] END colsample_bytree=0.5, learning_rate=0.005, max_depth=4, n_estimators=100; total time=   0.0s\n",
      "[CV] END colsample_bytree=0.5, learning_rate=0.005, max_depth=4, n_estimators=100; total time=   0.0s\n",
      "[CV] END colsample_bytree=0.5, learning_rate=0.005, max_depth=4, n_estimators=100; total time=   0.0s\n",
      "[CV] END colsample_bytree=0.5, learning_rate=0.005, max_depth=4, n_estimators=400; total time=   0.1s\n",
      "[CV] END colsample_bytree=0.5, learning_rate=0.005, max_depth=4, n_estimators=400; total time=   0.1s\n",
      "[CV] END colsample_bytree=0.5, learning_rate=0.005, max_depth=4, n_estimators=400; total time=   0.1s\n",
      "[CV] END colsample_bytree=0.5, learning_rate=0.005, max_depth=4, n_estimators=400; total time=   0.1s\n",
      "[CV] END colsample_bytree=0.5, learning_rate=0.005, max_depth=4, n_estimators=400; total time=   0.1s\n",
      "[CV] END colsample_bytree=0.5, learning_rate=0.005, max_depth=4, n_estimators=800; total time=   0.2s\n",
      "[CV] END colsample_bytree=0.5, learning_rate=0.005, max_depth=4, n_estimators=800; total time=   0.2s\n"
     ]
    },
    {
     "name": "stdout",
     "output_type": "stream",
     "text": [
      "[CV] END colsample_bytree=0.5, learning_rate=0.005, max_depth=4, n_estimators=800; total time=   0.3s\n",
      "[CV] END colsample_bytree=0.5, learning_rate=0.005, max_depth=4, n_estimators=800; total time=   0.2s\n",
      "[CV] END colsample_bytree=0.5, learning_rate=0.005, max_depth=4, n_estimators=800; total time=   0.3s\n",
      "[CV] END colsample_bytree=0.5, learning_rate=0.005, max_depth=5, n_estimators=100; total time=   0.0s\n",
      "[CV] END colsample_bytree=0.5, learning_rate=0.005, max_depth=5, n_estimators=100; total time=   0.0s\n",
      "[CV] END colsample_bytree=0.5, learning_rate=0.005, max_depth=5, n_estimators=100; total time=   0.0s\n",
      "[CV] END colsample_bytree=0.5, learning_rate=0.005, max_depth=5, n_estimators=100; total time=   0.0s\n",
      "[CV] END colsample_bytree=0.5, learning_rate=0.005, max_depth=5, n_estimators=100; total time=   0.1s\n",
      "[CV] END colsample_bytree=0.5, learning_rate=0.005, max_depth=5, n_estimators=400; total time=   0.1s\n",
      "[CV] END colsample_bytree=0.5, learning_rate=0.005, max_depth=5, n_estimators=400; total time=   0.1s\n",
      "[CV] END colsample_bytree=0.5, learning_rate=0.005, max_depth=5, n_estimators=400; total time=   0.1s\n",
      "[CV] END colsample_bytree=0.5, learning_rate=0.005, max_depth=5, n_estimators=400; total time=   0.1s\n",
      "[CV] END colsample_bytree=0.5, learning_rate=0.005, max_depth=5, n_estimators=400; total time=   0.1s\n",
      "[CV] END colsample_bytree=0.5, learning_rate=0.005, max_depth=5, n_estimators=800; total time=   0.2s\n",
      "[CV] END colsample_bytree=0.5, learning_rate=0.005, max_depth=5, n_estimators=800; total time=   0.3s\n",
      "[CV] END colsample_bytree=0.5, learning_rate=0.005, max_depth=5, n_estimators=800; total time=   0.2s\n",
      "[CV] END colsample_bytree=0.5, learning_rate=0.005, max_depth=5, n_estimators=800; total time=   0.2s\n",
      "[CV] END colsample_bytree=0.5, learning_rate=0.005, max_depth=5, n_estimators=800; total time=   0.2s\n",
      "[CV] END colsample_bytree=0.5, learning_rate=0.01, max_depth=3, n_estimators=100; total time=   0.0s\n",
      "[CV] END colsample_bytree=0.5, learning_rate=0.01, max_depth=3, n_estimators=100; total time=   0.0s\n",
      "[CV] END colsample_bytree=0.5, learning_rate=0.01, max_depth=3, n_estimators=100; total time=   0.0s\n",
      "[CV] END colsample_bytree=0.5, learning_rate=0.01, max_depth=3, n_estimators=100; total time=   0.0s\n",
      "[CV] END colsample_bytree=0.5, learning_rate=0.01, max_depth=3, n_estimators=100; total time=   0.0s\n",
      "[CV] END colsample_bytree=0.5, learning_rate=0.01, max_depth=3, n_estimators=400; total time=   0.1s\n",
      "[CV] END colsample_bytree=0.5, learning_rate=0.01, max_depth=3, n_estimators=400; total time=   0.1s\n",
      "[CV] END colsample_bytree=0.5, learning_rate=0.01, max_depth=3, n_estimators=400; total time=   0.1s\n",
      "[CV] END colsample_bytree=0.5, learning_rate=0.01, max_depth=3, n_estimators=400; total time=   0.1s\n",
      "[CV] END colsample_bytree=0.5, learning_rate=0.01, max_depth=3, n_estimators=400; total time=   0.1s\n",
      "[CV] END colsample_bytree=0.5, learning_rate=0.01, max_depth=3, n_estimators=800; total time=   0.2s\n",
      "[CV] END colsample_bytree=0.5, learning_rate=0.01, max_depth=3, n_estimators=800; total time=   0.2s\n",
      "[CV] END colsample_bytree=0.5, learning_rate=0.01, max_depth=3, n_estimators=800; total time=   0.2s\n",
      "[CV] END colsample_bytree=0.5, learning_rate=0.01, max_depth=3, n_estimators=800; total time=   0.2s\n",
      "[CV] END colsample_bytree=0.5, learning_rate=0.01, max_depth=3, n_estimators=800; total time=   0.2s\n",
      "[CV] END colsample_bytree=0.5, learning_rate=0.01, max_depth=4, n_estimators=100; total time=   0.0s\n",
      "[CV] END colsample_bytree=0.5, learning_rate=0.01, max_depth=4, n_estimators=100; total time=   0.1s\n",
      "[CV] END colsample_bytree=0.5, learning_rate=0.01, max_depth=4, n_estimators=100; total time=   0.1s\n",
      "[CV] END colsample_bytree=0.5, learning_rate=0.01, max_depth=4, n_estimators=100; total time=   0.0s\n",
      "[CV] END colsample_bytree=0.5, learning_rate=0.01, max_depth=4, n_estimators=100; total time=   0.1s\n",
      "[CV] END colsample_bytree=0.5, learning_rate=0.01, max_depth=4, n_estimators=400; total time=   0.2s\n",
      "[CV] END colsample_bytree=0.5, learning_rate=0.01, max_depth=4, n_estimators=400; total time=   0.1s\n",
      "[CV] END colsample_bytree=0.5, learning_rate=0.01, max_depth=4, n_estimators=400; total time=   0.2s\n",
      "[CV] END colsample_bytree=0.5, learning_rate=0.01, max_depth=4, n_estimators=400; total time=   0.1s\n",
      "[CV] END colsample_bytree=0.5, learning_rate=0.01, max_depth=4, n_estimators=400; total time=   0.1s\n",
      "[CV] END colsample_bytree=0.5, learning_rate=0.01, max_depth=4, n_estimators=800; total time=   0.2s\n",
      "[CV] END colsample_bytree=0.5, learning_rate=0.01, max_depth=4, n_estimators=800; total time=   0.2s\n",
      "[CV] END colsample_bytree=0.5, learning_rate=0.01, max_depth=4, n_estimators=800; total time=   0.2s\n",
      "[CV] END colsample_bytree=0.5, learning_rate=0.01, max_depth=4, n_estimators=800; total time=   0.2s\n",
      "[CV] END colsample_bytree=0.5, learning_rate=0.01, max_depth=4, n_estimators=800; total time=   0.2s\n",
      "[CV] END colsample_bytree=0.5, learning_rate=0.01, max_depth=5, n_estimators=100; total time=   0.0s\n",
      "[CV] END colsample_bytree=0.5, learning_rate=0.01, max_depth=5, n_estimators=100; total time=   0.0s\n",
      "[CV] END colsample_bytree=0.5, learning_rate=0.01, max_depth=5, n_estimators=100; total time=   0.0s\n",
      "[CV] END colsample_bytree=0.5, learning_rate=0.01, max_depth=5, n_estimators=100; total time=   0.0s\n",
      "[CV] END colsample_bytree=0.5, learning_rate=0.01, max_depth=5, n_estimators=100; total time=   0.0s\n",
      "[CV] END colsample_bytree=0.5, learning_rate=0.01, max_depth=5, n_estimators=400; total time=   0.1s\n",
      "[CV] END colsample_bytree=0.5, learning_rate=0.01, max_depth=5, n_estimators=400; total time=   0.1s\n",
      "[CV] END colsample_bytree=0.5, learning_rate=0.01, max_depth=5, n_estimators=400; total time=   0.1s\n",
      "[CV] END colsample_bytree=0.5, learning_rate=0.01, max_depth=5, n_estimators=400; total time=   0.1s\n",
      "[CV] END colsample_bytree=0.5, learning_rate=0.01, max_depth=5, n_estimators=400; total time=   0.2s\n",
      "[CV] END colsample_bytree=0.5, learning_rate=0.01, max_depth=5, n_estimators=800; total time=   0.6s\n",
      "[CV] END colsample_bytree=0.5, learning_rate=0.01, max_depth=5, n_estimators=800; total time=   0.5s\n",
      "[CV] END colsample_bytree=0.5, learning_rate=0.01, max_depth=5, n_estimators=800; total time=   0.3s\n",
      "[CV] END colsample_bytree=0.5, learning_rate=0.01, max_depth=5, n_estimators=800; total time=   0.2s\n",
      "[CV] END colsample_bytree=0.5, learning_rate=0.01, max_depth=5, n_estimators=800; total time=   0.4s\n",
      "[CV] END colsample_bytree=0.5, learning_rate=0.05, max_depth=3, n_estimators=100; total time=   0.1s\n",
      "[CV] END colsample_bytree=0.5, learning_rate=0.05, max_depth=3, n_estimators=100; total time=   0.1s\n",
      "[CV] END colsample_bytree=0.5, learning_rate=0.05, max_depth=3, n_estimators=100; total time=   0.1s\n",
      "[CV] END colsample_bytree=0.5, learning_rate=0.05, max_depth=3, n_estimators=100; total time=   0.1s\n",
      "[CV] END colsample_bytree=0.5, learning_rate=0.05, max_depth=3, n_estimators=100; total time=   0.1s\n",
      "[CV] END colsample_bytree=0.5, learning_rate=0.05, max_depth=3, n_estimators=400; total time=   0.3s\n",
      "[CV] END colsample_bytree=0.5, learning_rate=0.05, max_depth=3, n_estimators=400; total time=   0.1s\n",
      "[CV] END colsample_bytree=0.5, learning_rate=0.05, max_depth=3, n_estimators=400; total time=   0.1s\n",
      "[CV] END colsample_bytree=0.5, learning_rate=0.05, max_depth=3, n_estimators=400; total time=   0.1s\n",
      "[CV] END colsample_bytree=0.5, learning_rate=0.05, max_depth=3, n_estimators=400; total time=   0.1s\n",
      "[CV] END colsample_bytree=0.5, learning_rate=0.05, max_depth=3, n_estimators=800; total time=   0.2s\n",
      "[CV] END colsample_bytree=0.5, learning_rate=0.05, max_depth=3, n_estimators=800; total time=   0.2s\n",
      "[CV] END colsample_bytree=0.5, learning_rate=0.05, max_depth=3, n_estimators=800; total time=   0.2s\n",
      "[CV] END colsample_bytree=0.5, learning_rate=0.05, max_depth=3, n_estimators=800; total time=   0.2s\n",
      "[CV] END colsample_bytree=0.5, learning_rate=0.05, max_depth=3, n_estimators=800; total time=   0.2s\n",
      "[CV] END colsample_bytree=0.5, learning_rate=0.05, max_depth=4, n_estimators=100; total time=   0.0s\n",
      "[CV] END colsample_bytree=0.5, learning_rate=0.05, max_depth=4, n_estimators=100; total time=   0.1s\n",
      "[CV] END colsample_bytree=0.5, learning_rate=0.05, max_depth=4, n_estimators=100; total time=   0.0s\n",
      "[CV] END colsample_bytree=0.5, learning_rate=0.05, max_depth=4, n_estimators=100; total time=   0.0s\n",
      "[CV] END colsample_bytree=0.5, learning_rate=0.05, max_depth=4, n_estimators=100; total time=   0.0s\n"
     ]
    },
    {
     "name": "stdout",
     "output_type": "stream",
     "text": [
      "[CV] END colsample_bytree=0.5, learning_rate=0.05, max_depth=4, n_estimators=400; total time=   0.1s\n",
      "[CV] END colsample_bytree=0.5, learning_rate=0.05, max_depth=4, n_estimators=400; total time=   0.1s\n",
      "[CV] END colsample_bytree=0.5, learning_rate=0.05, max_depth=4, n_estimators=400; total time=   0.1s\n",
      "[CV] END colsample_bytree=0.5, learning_rate=0.05, max_depth=4, n_estimators=400; total time=   0.1s\n",
      "[CV] END colsample_bytree=0.5, learning_rate=0.05, max_depth=4, n_estimators=400; total time=   0.1s\n",
      "[CV] END colsample_bytree=0.5, learning_rate=0.05, max_depth=4, n_estimators=800; total time=   0.2s\n",
      "[CV] END colsample_bytree=0.5, learning_rate=0.05, max_depth=4, n_estimators=800; total time=   0.2s\n",
      "[CV] END colsample_bytree=0.5, learning_rate=0.05, max_depth=4, n_estimators=800; total time=   0.2s\n",
      "[CV] END colsample_bytree=0.5, learning_rate=0.05, max_depth=4, n_estimators=800; total time=   0.2s\n",
      "[CV] END colsample_bytree=0.5, learning_rate=0.05, max_depth=4, n_estimators=800; total time=   0.2s\n",
      "[CV] END colsample_bytree=0.5, learning_rate=0.05, max_depth=5, n_estimators=100; total time=   0.0s\n",
      "[CV] END colsample_bytree=0.5, learning_rate=0.05, max_depth=5, n_estimators=100; total time=   0.0s\n",
      "[CV] END colsample_bytree=0.5, learning_rate=0.05, max_depth=5, n_estimators=100; total time=   0.0s\n",
      "[CV] END colsample_bytree=0.5, learning_rate=0.05, max_depth=5, n_estimators=100; total time=   0.0s\n",
      "[CV] END colsample_bytree=0.5, learning_rate=0.05, max_depth=5, n_estimators=100; total time=   0.0s\n",
      "[CV] END colsample_bytree=0.5, learning_rate=0.05, max_depth=5, n_estimators=400; total time=   0.1s\n",
      "[CV] END colsample_bytree=0.5, learning_rate=0.05, max_depth=5, n_estimators=400; total time=   0.1s\n",
      "[CV] END colsample_bytree=0.5, learning_rate=0.05, max_depth=5, n_estimators=400; total time=   0.1s\n",
      "[CV] END colsample_bytree=0.5, learning_rate=0.05, max_depth=5, n_estimators=400; total time=   0.1s\n",
      "[CV] END colsample_bytree=0.5, learning_rate=0.05, max_depth=5, n_estimators=400; total time=   0.1s\n",
      "[CV] END colsample_bytree=0.5, learning_rate=0.05, max_depth=5, n_estimators=800; total time=   0.3s\n",
      "[CV] END colsample_bytree=0.5, learning_rate=0.05, max_depth=5, n_estimators=800; total time=   0.2s\n",
      "[CV] END colsample_bytree=0.5, learning_rate=0.05, max_depth=5, n_estimators=800; total time=   0.2s\n",
      "[CV] END colsample_bytree=0.5, learning_rate=0.05, max_depth=5, n_estimators=800; total time=   0.2s\n",
      "[CV] END colsample_bytree=0.5, learning_rate=0.05, max_depth=5, n_estimators=800; total time=   0.2s\n",
      "[CV] END colsample_bytree=0.7, learning_rate=0.005, max_depth=3, n_estimators=100; total time=   0.0s\n",
      "[CV] END colsample_bytree=0.7, learning_rate=0.005, max_depth=3, n_estimators=100; total time=   0.0s\n",
      "[CV] END colsample_bytree=0.7, learning_rate=0.005, max_depth=3, n_estimators=100; total time=   0.0s\n",
      "[CV] END colsample_bytree=0.7, learning_rate=0.005, max_depth=3, n_estimators=100; total time=   0.0s\n",
      "[CV] END colsample_bytree=0.7, learning_rate=0.005, max_depth=3, n_estimators=100; total time=   0.0s\n",
      "[CV] END colsample_bytree=0.7, learning_rate=0.005, max_depth=3, n_estimators=400; total time=   0.2s\n",
      "[CV] END colsample_bytree=0.7, learning_rate=0.005, max_depth=3, n_estimators=400; total time=   0.1s\n",
      "[CV] END colsample_bytree=0.7, learning_rate=0.005, max_depth=3, n_estimators=400; total time=   0.1s\n",
      "[CV] END colsample_bytree=0.7, learning_rate=0.005, max_depth=3, n_estimators=400; total time=   0.1s\n",
      "[CV] END colsample_bytree=0.7, learning_rate=0.005, max_depth=3, n_estimators=400; total time=   0.1s\n",
      "[CV] END colsample_bytree=0.7, learning_rate=0.005, max_depth=3, n_estimators=800; total time=   0.2s\n",
      "[CV] END colsample_bytree=0.7, learning_rate=0.005, max_depth=3, n_estimators=800; total time=   0.2s\n",
      "[CV] END colsample_bytree=0.7, learning_rate=0.005, max_depth=3, n_estimators=800; total time=   0.2s\n",
      "[CV] END colsample_bytree=0.7, learning_rate=0.005, max_depth=3, n_estimators=800; total time=   0.2s\n",
      "[CV] END colsample_bytree=0.7, learning_rate=0.005, max_depth=3, n_estimators=800; total time=   0.2s\n",
      "[CV] END colsample_bytree=0.7, learning_rate=0.005, max_depth=4, n_estimators=100; total time=   0.0s\n",
      "[CV] END colsample_bytree=0.7, learning_rate=0.005, max_depth=4, n_estimators=100; total time=   0.0s\n",
      "[CV] END colsample_bytree=0.7, learning_rate=0.005, max_depth=4, n_estimators=100; total time=   0.0s\n",
      "[CV] END colsample_bytree=0.7, learning_rate=0.005, max_depth=4, n_estimators=100; total time=   0.0s\n",
      "[CV] END colsample_bytree=0.7, learning_rate=0.005, max_depth=4, n_estimators=100; total time=   0.0s\n",
      "[CV] END colsample_bytree=0.7, learning_rate=0.005, max_depth=4, n_estimators=400; total time=   0.1s\n",
      "[CV] END colsample_bytree=0.7, learning_rate=0.005, max_depth=4, n_estimators=400; total time=   0.1s\n",
      "[CV] END colsample_bytree=0.7, learning_rate=0.005, max_depth=4, n_estimators=400; total time=   0.1s\n",
      "[CV] END colsample_bytree=0.7, learning_rate=0.005, max_depth=4, n_estimators=400; total time=   0.1s\n",
      "[CV] END colsample_bytree=0.7, learning_rate=0.005, max_depth=4, n_estimators=400; total time=   0.1s\n",
      "[CV] END colsample_bytree=0.7, learning_rate=0.005, max_depth=4, n_estimators=800; total time=   0.2s\n",
      "[CV] END colsample_bytree=0.7, learning_rate=0.005, max_depth=4, n_estimators=800; total time=   0.2s\n",
      "[CV] END colsample_bytree=0.7, learning_rate=0.005, max_depth=4, n_estimators=800; total time=   0.2s\n",
      "[CV] END colsample_bytree=0.7, learning_rate=0.005, max_depth=4, n_estimators=800; total time=   0.2s\n",
      "[CV] END colsample_bytree=0.7, learning_rate=0.005, max_depth=4, n_estimators=800; total time=   0.2s\n",
      "[CV] END colsample_bytree=0.7, learning_rate=0.005, max_depth=5, n_estimators=100; total time=   0.1s\n",
      "[CV] END colsample_bytree=0.7, learning_rate=0.005, max_depth=5, n_estimators=100; total time=   0.0s\n",
      "[CV] END colsample_bytree=0.7, learning_rate=0.005, max_depth=5, n_estimators=100; total time=   0.0s\n",
      "[CV] END colsample_bytree=0.7, learning_rate=0.005, max_depth=5, n_estimators=100; total time=   0.0s\n",
      "[CV] END colsample_bytree=0.7, learning_rate=0.005, max_depth=5, n_estimators=100; total time=   0.0s\n",
      "[CV] END colsample_bytree=0.7, learning_rate=0.005, max_depth=5, n_estimators=400; total time=   0.1s\n",
      "[CV] END colsample_bytree=0.7, learning_rate=0.005, max_depth=5, n_estimators=400; total time=   0.1s\n",
      "[CV] END colsample_bytree=0.7, learning_rate=0.005, max_depth=5, n_estimators=400; total time=   0.2s\n",
      "[CV] END colsample_bytree=0.7, learning_rate=0.005, max_depth=5, n_estimators=400; total time=   0.2s\n",
      "[CV] END colsample_bytree=0.7, learning_rate=0.005, max_depth=5, n_estimators=400; total time=   0.2s\n",
      "[CV] END colsample_bytree=0.7, learning_rate=0.005, max_depth=5, n_estimators=800; total time=   0.3s\n",
      "[CV] END colsample_bytree=0.7, learning_rate=0.005, max_depth=5, n_estimators=800; total time=   0.3s\n",
      "[CV] END colsample_bytree=0.7, learning_rate=0.005, max_depth=5, n_estimators=800; total time=   0.4s\n",
      "[CV] END colsample_bytree=0.7, learning_rate=0.005, max_depth=5, n_estimators=800; total time=   0.3s\n",
      "[CV] END colsample_bytree=0.7, learning_rate=0.005, max_depth=5, n_estimators=800; total time=   0.3s\n",
      "[CV] END colsample_bytree=0.7, learning_rate=0.01, max_depth=3, n_estimators=100; total time=   0.1s\n",
      "[CV] END colsample_bytree=0.7, learning_rate=0.01, max_depth=3, n_estimators=100; total time=   0.1s\n",
      "[CV] END colsample_bytree=0.7, learning_rate=0.01, max_depth=3, n_estimators=100; total time=   0.0s\n",
      "[CV] END colsample_bytree=0.7, learning_rate=0.01, max_depth=3, n_estimators=100; total time=   0.1s\n",
      "[CV] END colsample_bytree=0.7, learning_rate=0.01, max_depth=3, n_estimators=100; total time=   0.0s\n",
      "[CV] END colsample_bytree=0.7, learning_rate=0.01, max_depth=3, n_estimators=400; total time=   0.1s\n",
      "[CV] END colsample_bytree=0.7, learning_rate=0.01, max_depth=3, n_estimators=400; total time=   0.2s\n",
      "[CV] END colsample_bytree=0.7, learning_rate=0.01, max_depth=3, n_estimators=400; total time=   0.1s\n",
      "[CV] END colsample_bytree=0.7, learning_rate=0.01, max_depth=3, n_estimators=400; total time=   0.1s\n",
      "[CV] END colsample_bytree=0.7, learning_rate=0.01, max_depth=3, n_estimators=400; total time=   0.1s\n",
      "[CV] END colsample_bytree=0.7, learning_rate=0.01, max_depth=3, n_estimators=800; total time=   0.2s\n"
     ]
    },
    {
     "name": "stdout",
     "output_type": "stream",
     "text": [
      "[CV] END colsample_bytree=0.7, learning_rate=0.01, max_depth=3, n_estimators=800; total time=   0.4s\n",
      "[CV] END colsample_bytree=0.7, learning_rate=0.01, max_depth=3, n_estimators=800; total time=   0.3s\n",
      "[CV] END colsample_bytree=0.7, learning_rate=0.01, max_depth=3, n_estimators=800; total time=   0.2s\n",
      "[CV] END colsample_bytree=0.7, learning_rate=0.01, max_depth=3, n_estimators=800; total time=   0.2s\n",
      "[CV] END colsample_bytree=0.7, learning_rate=0.01, max_depth=4, n_estimators=100; total time=   0.0s\n",
      "[CV] END colsample_bytree=0.7, learning_rate=0.01, max_depth=4, n_estimators=100; total time=   0.0s\n",
      "[CV] END colsample_bytree=0.7, learning_rate=0.01, max_depth=4, n_estimators=100; total time=   0.1s\n",
      "[CV] END colsample_bytree=0.7, learning_rate=0.01, max_depth=4, n_estimators=100; total time=   0.0s\n",
      "[CV] END colsample_bytree=0.7, learning_rate=0.01, max_depth=4, n_estimators=100; total time=   0.0s\n",
      "[CV] END colsample_bytree=0.7, learning_rate=0.01, max_depth=4, n_estimators=400; total time=   0.1s\n",
      "[CV] END colsample_bytree=0.7, learning_rate=0.01, max_depth=4, n_estimators=400; total time=   0.1s\n",
      "[CV] END colsample_bytree=0.7, learning_rate=0.01, max_depth=4, n_estimators=400; total time=   0.1s\n",
      "[CV] END colsample_bytree=0.7, learning_rate=0.01, max_depth=4, n_estimators=400; total time=   0.1s\n",
      "[CV] END colsample_bytree=0.7, learning_rate=0.01, max_depth=4, n_estimators=400; total time=   0.2s\n",
      "[CV] END colsample_bytree=0.7, learning_rate=0.01, max_depth=4, n_estimators=800; total time=   0.3s\n",
      "[CV] END colsample_bytree=0.7, learning_rate=0.01, max_depth=4, n_estimators=800; total time=   0.3s\n",
      "[CV] END colsample_bytree=0.7, learning_rate=0.01, max_depth=4, n_estimators=800; total time=   0.2s\n",
      "[CV] END colsample_bytree=0.7, learning_rate=0.01, max_depth=4, n_estimators=800; total time=   0.2s\n",
      "[CV] END colsample_bytree=0.7, learning_rate=0.01, max_depth=4, n_estimators=800; total time=   0.2s\n",
      "[CV] END colsample_bytree=0.7, learning_rate=0.01, max_depth=5, n_estimators=100; total time=   0.1s\n",
      "[CV] END colsample_bytree=0.7, learning_rate=0.01, max_depth=5, n_estimators=100; total time=   0.0s\n",
      "[CV] END colsample_bytree=0.7, learning_rate=0.01, max_depth=5, n_estimators=100; total time=   0.1s\n",
      "[CV] END colsample_bytree=0.7, learning_rate=0.01, max_depth=5, n_estimators=100; total time=   0.1s\n",
      "[CV] END colsample_bytree=0.7, learning_rate=0.01, max_depth=5, n_estimators=100; total time=   0.1s\n",
      "[CV] END colsample_bytree=0.7, learning_rate=0.01, max_depth=5, n_estimators=400; total time=   0.1s\n",
      "[CV] END colsample_bytree=0.7, learning_rate=0.01, max_depth=5, n_estimators=400; total time=   0.3s\n",
      "[CV] END colsample_bytree=0.7, learning_rate=0.01, max_depth=5, n_estimators=400; total time=   0.6s\n",
      "[CV] END colsample_bytree=0.7, learning_rate=0.01, max_depth=5, n_estimators=400; total time=   0.5s\n",
      "[CV] END colsample_bytree=0.7, learning_rate=0.01, max_depth=5, n_estimators=400; total time=   0.4s\n",
      "[CV] END colsample_bytree=0.7, learning_rate=0.01, max_depth=5, n_estimators=800; total time=   0.2s\n",
      "[CV] END colsample_bytree=0.7, learning_rate=0.01, max_depth=5, n_estimators=800; total time=   0.2s\n",
      "[CV] END colsample_bytree=0.7, learning_rate=0.01, max_depth=5, n_estimators=800; total time=   0.3s\n",
      "[CV] END colsample_bytree=0.7, learning_rate=0.01, max_depth=5, n_estimators=800; total time=   0.2s\n",
      "[CV] END colsample_bytree=0.7, learning_rate=0.01, max_depth=5, n_estimators=800; total time=   0.2s\n",
      "[CV] END colsample_bytree=0.7, learning_rate=0.05, max_depth=3, n_estimators=100; total time=   0.0s\n",
      "[CV] END colsample_bytree=0.7, learning_rate=0.05, max_depth=3, n_estimators=100; total time=   0.0s\n",
      "[CV] END colsample_bytree=0.7, learning_rate=0.05, max_depth=3, n_estimators=100; total time=   0.0s\n",
      "[CV] END colsample_bytree=0.7, learning_rate=0.05, max_depth=3, n_estimators=100; total time=   0.0s\n",
      "[CV] END colsample_bytree=0.7, learning_rate=0.05, max_depth=3, n_estimators=100; total time=   0.0s\n",
      "[CV] END colsample_bytree=0.7, learning_rate=0.05, max_depth=3, n_estimators=400; total time=   0.1s\n",
      "[CV] END colsample_bytree=0.7, learning_rate=0.05, max_depth=3, n_estimators=400; total time=   0.2s\n",
      "[CV] END colsample_bytree=0.7, learning_rate=0.05, max_depth=3, n_estimators=400; total time=   0.1s\n",
      "[CV] END colsample_bytree=0.7, learning_rate=0.05, max_depth=3, n_estimators=400; total time=   0.1s\n",
      "[CV] END colsample_bytree=0.7, learning_rate=0.05, max_depth=3, n_estimators=400; total time=   0.1s\n",
      "[CV] END colsample_bytree=0.7, learning_rate=0.05, max_depth=3, n_estimators=800; total time=   0.2s\n",
      "[CV] END colsample_bytree=0.7, learning_rate=0.05, max_depth=3, n_estimators=800; total time=   0.2s\n",
      "[CV] END colsample_bytree=0.7, learning_rate=0.05, max_depth=3, n_estimators=800; total time=   0.2s\n",
      "[CV] END colsample_bytree=0.7, learning_rate=0.05, max_depth=3, n_estimators=800; total time=   0.2s\n",
      "[CV] END colsample_bytree=0.7, learning_rate=0.05, max_depth=3, n_estimators=800; total time=   0.2s\n",
      "[CV] END colsample_bytree=0.7, learning_rate=0.05, max_depth=4, n_estimators=100; total time=   0.0s\n",
      "[CV] END colsample_bytree=0.7, learning_rate=0.05, max_depth=4, n_estimators=100; total time=   0.0s\n",
      "[CV] END colsample_bytree=0.7, learning_rate=0.05, max_depth=4, n_estimators=100; total time=   0.0s\n",
      "[CV] END colsample_bytree=0.7, learning_rate=0.05, max_depth=4, n_estimators=100; total time=   0.0s\n",
      "[CV] END colsample_bytree=0.7, learning_rate=0.05, max_depth=4, n_estimators=100; total time=   0.0s\n",
      "[CV] END colsample_bytree=0.7, learning_rate=0.05, max_depth=4, n_estimators=400; total time=   0.1s\n",
      "[CV] END colsample_bytree=0.7, learning_rate=0.05, max_depth=4, n_estimators=400; total time=   0.1s\n",
      "[CV] END colsample_bytree=0.7, learning_rate=0.05, max_depth=4, n_estimators=400; total time=   0.1s\n",
      "[CV] END colsample_bytree=0.7, learning_rate=0.05, max_depth=4, n_estimators=400; total time=   0.1s\n",
      "[CV] END colsample_bytree=0.7, learning_rate=0.05, max_depth=4, n_estimators=400; total time=   0.1s\n",
      "[CV] END colsample_bytree=0.7, learning_rate=0.05, max_depth=4, n_estimators=800; total time=   0.2s\n",
      "[CV] END colsample_bytree=0.7, learning_rate=0.05, max_depth=4, n_estimators=800; total time=   0.2s\n",
      "[CV] END colsample_bytree=0.7, learning_rate=0.05, max_depth=4, n_estimators=800; total time=   0.2s\n",
      "[CV] END colsample_bytree=0.7, learning_rate=0.05, max_depth=4, n_estimators=800; total time=   0.2s\n",
      "[CV] END colsample_bytree=0.7, learning_rate=0.05, max_depth=4, n_estimators=800; total time=   0.2s\n",
      "[CV] END colsample_bytree=0.7, learning_rate=0.05, max_depth=5, n_estimators=100; total time=   0.0s\n",
      "[CV] END colsample_bytree=0.7, learning_rate=0.05, max_depth=5, n_estimators=100; total time=   0.0s\n",
      "[CV] END colsample_bytree=0.7, learning_rate=0.05, max_depth=5, n_estimators=100; total time=   0.0s\n",
      "[CV] END colsample_bytree=0.7, learning_rate=0.05, max_depth=5, n_estimators=100; total time=   0.0s\n",
      "[CV] END colsample_bytree=0.7, learning_rate=0.05, max_depth=5, n_estimators=100; total time=   0.0s\n",
      "[CV] END colsample_bytree=0.7, learning_rate=0.05, max_depth=5, n_estimators=400; total time=   0.1s\n",
      "[CV] END colsample_bytree=0.7, learning_rate=0.05, max_depth=5, n_estimators=400; total time=   0.1s\n",
      "[CV] END colsample_bytree=0.7, learning_rate=0.05, max_depth=5, n_estimators=400; total time=   0.1s\n",
      "[CV] END colsample_bytree=0.7, learning_rate=0.05, max_depth=5, n_estimators=400; total time=   0.1s\n",
      "[CV] END colsample_bytree=0.7, learning_rate=0.05, max_depth=5, n_estimators=400; total time=   0.1s\n",
      "[CV] END colsample_bytree=0.7, learning_rate=0.05, max_depth=5, n_estimators=800; total time=   0.2s\n",
      "[CV] END colsample_bytree=0.7, learning_rate=0.05, max_depth=5, n_estimators=800; total time=   0.2s\n",
      "[CV] END colsample_bytree=0.7, learning_rate=0.05, max_depth=5, n_estimators=800; total time=   0.2s\n",
      "[CV] END colsample_bytree=0.7, learning_rate=0.05, max_depth=5, n_estimators=800; total time=   0.2s\n",
      "[CV] END colsample_bytree=0.7, learning_rate=0.05, max_depth=5, n_estimators=800; total time=   0.3s\n"
     ]
    },
    {
     "data": {
      "text/html": [
       "<style>#sk-container-id-8 {color: black;background-color: white;}#sk-container-id-8 pre{padding: 0;}#sk-container-id-8 div.sk-toggleable {background-color: white;}#sk-container-id-8 label.sk-toggleable__label {cursor: pointer;display: block;width: 100%;margin-bottom: 0;padding: 0.3em;box-sizing: border-box;text-align: center;}#sk-container-id-8 label.sk-toggleable__label-arrow:before {content: \"▸\";float: left;margin-right: 0.25em;color: #696969;}#sk-container-id-8 label.sk-toggleable__label-arrow:hover:before {color: black;}#sk-container-id-8 div.sk-estimator:hover label.sk-toggleable__label-arrow:before {color: black;}#sk-container-id-8 div.sk-toggleable__content {max-height: 0;max-width: 0;overflow: hidden;text-align: left;background-color: #f0f8ff;}#sk-container-id-8 div.sk-toggleable__content pre {margin: 0.2em;color: black;border-radius: 0.25em;background-color: #f0f8ff;}#sk-container-id-8 input.sk-toggleable__control:checked~div.sk-toggleable__content {max-height: 200px;max-width: 100%;overflow: auto;}#sk-container-id-8 input.sk-toggleable__control:checked~label.sk-toggleable__label-arrow:before {content: \"▾\";}#sk-container-id-8 div.sk-estimator input.sk-toggleable__control:checked~label.sk-toggleable__label {background-color: #d4ebff;}#sk-container-id-8 div.sk-label input.sk-toggleable__control:checked~label.sk-toggleable__label {background-color: #d4ebff;}#sk-container-id-8 input.sk-hidden--visually {border: 0;clip: rect(1px 1px 1px 1px);clip: rect(1px, 1px, 1px, 1px);height: 1px;margin: -1px;overflow: hidden;padding: 0;position: absolute;width: 1px;}#sk-container-id-8 div.sk-estimator {font-family: monospace;background-color: #f0f8ff;border: 1px dotted black;border-radius: 0.25em;box-sizing: border-box;margin-bottom: 0.5em;}#sk-container-id-8 div.sk-estimator:hover {background-color: #d4ebff;}#sk-container-id-8 div.sk-parallel-item::after {content: \"\";width: 100%;border-bottom: 1px solid gray;flex-grow: 1;}#sk-container-id-8 div.sk-label:hover label.sk-toggleable__label {background-color: #d4ebff;}#sk-container-id-8 div.sk-serial::before {content: \"\";position: absolute;border-left: 1px solid gray;box-sizing: border-box;top: 0;bottom: 0;left: 50%;z-index: 0;}#sk-container-id-8 div.sk-serial {display: flex;flex-direction: column;align-items: center;background-color: white;padding-right: 0.2em;padding-left: 0.2em;position: relative;}#sk-container-id-8 div.sk-item {position: relative;z-index: 1;}#sk-container-id-8 div.sk-parallel {display: flex;align-items: stretch;justify-content: center;background-color: white;position: relative;}#sk-container-id-8 div.sk-item::before, #sk-container-id-8 div.sk-parallel-item::before {content: \"\";position: absolute;border-left: 1px solid gray;box-sizing: border-box;top: 0;bottom: 0;left: 50%;z-index: -1;}#sk-container-id-8 div.sk-parallel-item {display: flex;flex-direction: column;z-index: 1;position: relative;background-color: white;}#sk-container-id-8 div.sk-parallel-item:first-child::after {align-self: flex-end;width: 50%;}#sk-container-id-8 div.sk-parallel-item:last-child::after {align-self: flex-start;width: 50%;}#sk-container-id-8 div.sk-parallel-item:only-child::after {width: 0;}#sk-container-id-8 div.sk-dashed-wrapped {border: 1px dashed gray;margin: 0 0.4em 0.5em 0.4em;box-sizing: border-box;padding-bottom: 0.4em;background-color: white;}#sk-container-id-8 div.sk-label label {font-family: monospace;font-weight: bold;display: inline-block;line-height: 1.2em;}#sk-container-id-8 div.sk-label-container {text-align: center;}#sk-container-id-8 div.sk-container {/* jupyter's `normalize.less` sets `[hidden] { display: none; }` but bootstrap.min.css set `[hidden] { display: none !important; }` so we also need the `!important` here to be able to override the default hidden behavior on the sphinx rendered scikit-learn.org. See: https://github.com/scikit-learn/scikit-learn/issues/21755 */display: inline-block !important;position: relative;}#sk-container-id-8 div.sk-text-repr-fallback {display: none;}</style><div id=\"sk-container-id-8\" class=\"sk-top-container\"><div class=\"sk-text-repr-fallback\"><pre>GridSearchCV(cv=5,\n",
       "             estimator=XGBClassifier(base_score=None, booster=&#x27;gbtree&#x27;,\n",
       "                                     callbacks=None, colsample_bylevel=None,\n",
       "                                     colsample_bynode=None,\n",
       "                                     colsample_bytree=None,\n",
       "                                     early_stopping_rounds=None,\n",
       "                                     enable_categorical=False, eval_metric=None,\n",
       "                                     gamma=None, gpu_id=None, grow_policy=None,\n",
       "                                     importance_type=None,\n",
       "                                     interaction_constraints=None,\n",
       "                                     learning_rate=None, max_bin=None,\n",
       "                                     ma...\n",
       "                                     max_delta_step=None, max_depth=None,\n",
       "                                     max_leaves=None, min_child_weight=None,\n",
       "                                     missing=nan, monotone_constraints=None,\n",
       "                                     n_estimators=100, n_jobs=None,\n",
       "                                     num_parallel_tree=None, predictor=None,\n",
       "                                     random_state=20, reg_alpha=None,\n",
       "                                     reg_lambda=None, ...),\n",
       "             param_grid={&#x27;colsample_bytree&#x27;: [0.3, 0.5, 0.7],\n",
       "                         &#x27;learning_rate&#x27;: [0.005, 0.01, 0.05],\n",
       "                         &#x27;max_depth&#x27;: [3, 4, 5],\n",
       "                         &#x27;n_estimators&#x27;: [100, 400, 800]},\n",
       "             verbose=2)</pre><b>In a Jupyter environment, please rerun this cell to show the HTML representation or trust the notebook. <br />On GitHub, the HTML representation is unable to render, please try loading this page with nbviewer.org.</b></div><div class=\"sk-container\" hidden><div class=\"sk-item sk-dashed-wrapped\"><div class=\"sk-label-container\"><div class=\"sk-label sk-toggleable\"><input class=\"sk-toggleable__control sk-hidden--visually\" id=\"sk-estimator-id-22\" type=\"checkbox\" ><label for=\"sk-estimator-id-22\" class=\"sk-toggleable__label sk-toggleable__label-arrow\">GridSearchCV</label><div class=\"sk-toggleable__content\"><pre>GridSearchCV(cv=5,\n",
       "             estimator=XGBClassifier(base_score=None, booster=&#x27;gbtree&#x27;,\n",
       "                                     callbacks=None, colsample_bylevel=None,\n",
       "                                     colsample_bynode=None,\n",
       "                                     colsample_bytree=None,\n",
       "                                     early_stopping_rounds=None,\n",
       "                                     enable_categorical=False, eval_metric=None,\n",
       "                                     gamma=None, gpu_id=None, grow_policy=None,\n",
       "                                     importance_type=None,\n",
       "                                     interaction_constraints=None,\n",
       "                                     learning_rate=None, max_bin=None,\n",
       "                                     ma...\n",
       "                                     max_delta_step=None, max_depth=None,\n",
       "                                     max_leaves=None, min_child_weight=None,\n",
       "                                     missing=nan, monotone_constraints=None,\n",
       "                                     n_estimators=100, n_jobs=None,\n",
       "                                     num_parallel_tree=None, predictor=None,\n",
       "                                     random_state=20, reg_alpha=None,\n",
       "                                     reg_lambda=None, ...),\n",
       "             param_grid={&#x27;colsample_bytree&#x27;: [0.3, 0.5, 0.7],\n",
       "                         &#x27;learning_rate&#x27;: [0.005, 0.01, 0.05],\n",
       "                         &#x27;max_depth&#x27;: [3, 4, 5],\n",
       "                         &#x27;n_estimators&#x27;: [100, 400, 800]},\n",
       "             verbose=2)</pre></div></div></div><div class=\"sk-parallel\"><div class=\"sk-parallel-item\"><div class=\"sk-item\"><div class=\"sk-label-container\"><div class=\"sk-label sk-toggleable\"><input class=\"sk-toggleable__control sk-hidden--visually\" id=\"sk-estimator-id-23\" type=\"checkbox\" ><label for=\"sk-estimator-id-23\" class=\"sk-toggleable__label sk-toggleable__label-arrow\">estimator: XGBClassifier</label><div class=\"sk-toggleable__content\"><pre>XGBClassifier(base_score=None, booster=&#x27;gbtree&#x27;, callbacks=None,\n",
       "              colsample_bylevel=None, colsample_bynode=None,\n",
       "              colsample_bytree=None, early_stopping_rounds=None,\n",
       "              enable_categorical=False, eval_metric=None, gamma=None,\n",
       "              gpu_id=None, grow_policy=None, importance_type=None,\n",
       "              interaction_constraints=None, learning_rate=None, max_bin=None,\n",
       "              max_cat_to_onehot=None, max_delta_step=None, max_depth=None,\n",
       "              max_leaves=None, min_child_weight=None, missing=nan,\n",
       "              monotone_constraints=None, n_estimators=100, n_jobs=None,\n",
       "              num_parallel_tree=None, predictor=None, random_state=20,\n",
       "              reg_alpha=None, reg_lambda=None, ...)</pre></div></div></div><div class=\"sk-serial\"><div class=\"sk-item\"><div class=\"sk-estimator sk-toggleable\"><input class=\"sk-toggleable__control sk-hidden--visually\" id=\"sk-estimator-id-24\" type=\"checkbox\" ><label for=\"sk-estimator-id-24\" class=\"sk-toggleable__label sk-toggleable__label-arrow\">XGBClassifier</label><div class=\"sk-toggleable__content\"><pre>XGBClassifier(base_score=None, booster=&#x27;gbtree&#x27;, callbacks=None,\n",
       "              colsample_bylevel=None, colsample_bynode=None,\n",
       "              colsample_bytree=None, early_stopping_rounds=None,\n",
       "              enable_categorical=False, eval_metric=None, gamma=None,\n",
       "              gpu_id=None, grow_policy=None, importance_type=None,\n",
       "              interaction_constraints=None, learning_rate=None, max_bin=None,\n",
       "              max_cat_to_onehot=None, max_delta_step=None, max_depth=None,\n",
       "              max_leaves=None, min_child_weight=None, missing=nan,\n",
       "              monotone_constraints=None, n_estimators=100, n_jobs=None,\n",
       "              num_parallel_tree=None, predictor=None, random_state=20,\n",
       "              reg_alpha=None, reg_lambda=None, ...)</pre></div></div></div></div></div></div></div></div></div></div>"
      ],
      "text/plain": [
       "GridSearchCV(cv=5,\n",
       "             estimator=XGBClassifier(base_score=None, booster='gbtree',\n",
       "                                     callbacks=None, colsample_bylevel=None,\n",
       "                                     colsample_bynode=None,\n",
       "                                     colsample_bytree=None,\n",
       "                                     early_stopping_rounds=None,\n",
       "                                     enable_categorical=False, eval_metric=None,\n",
       "                                     gamma=None, gpu_id=None, grow_policy=None,\n",
       "                                     importance_type=None,\n",
       "                                     interaction_constraints=None,\n",
       "                                     learning_rate=None, max_bin=None,\n",
       "                                     ma...\n",
       "                                     max_delta_step=None, max_depth=None,\n",
       "                                     max_leaves=None, min_child_weight=None,\n",
       "                                     missing=nan, monotone_constraints=None,\n",
       "                                     n_estimators=100, n_jobs=None,\n",
       "                                     num_parallel_tree=None, predictor=None,\n",
       "                                     random_state=20, reg_alpha=None,\n",
       "                                     reg_lambda=None, ...),\n",
       "             param_grid={'colsample_bytree': [0.3, 0.5, 0.7],\n",
       "                         'learning_rate': [0.005, 0.01, 0.05],\n",
       "                         'max_depth': [3, 4, 5],\n",
       "                         'n_estimators': [100, 400, 800]},\n",
       "             verbose=2)"
      ]
     },
     "execution_count": 124,
     "metadata": {},
     "output_type": "execute_result"
    }
   ],
   "source": [
    "grid.fit(X_train, y_train)"
   ]
  },
  {
   "cell_type": "markdown",
   "metadata": {},
   "source": [
    "Inspect the best parameters found by ``GridSearchCV`` in the ``best_params_`` attribute:"
   ]
  },
  {
   "cell_type": "code",
   "execution_count": 15,
   "metadata": {},
   "outputs": [
    {
     "data": {
      "text/plain": [
       "{'colsample_bytree': 0.3,\n",
       " 'learning_rate': 0.005,\n",
       " 'max_depth': 4,\n",
       " 'n_estimators': 800}"
      ]
     },
     "execution_count": 15,
     "metadata": {},
     "output_type": "execute_result"
    }
   ],
   "source": [
    "grid.best_params_"
   ]
  },
  {
   "cell_type": "code",
   "execution_count": 16,
   "metadata": {},
   "outputs": [
    {
     "data": {
      "text/plain": [
       "0.8415458937198068"
      ]
     },
     "execution_count": 16,
     "metadata": {},
     "output_type": "execute_result"
    }
   ],
   "source": [
    "grid.best_score_"
   ]
  },
  {
   "cell_type": "markdown",
   "metadata": {},
   "source": [
    "### Evaluation\n",
    "\n",
    "Check out test accuracy:"
   ]
  },
  {
   "cell_type": "code",
   "execution_count": 17,
   "metadata": {},
   "outputs": [
    {
     "data": {
      "text/plain": [
       "0.8421052631578947"
      ]
     },
     "execution_count": 17,
     "metadata": {},
     "output_type": "execute_result"
    }
   ],
   "source": [
    "y_preds = grid.predict(X_test)\n",
    "accuracy_score(y_test, y_preds)"
   ]
  },
  {
   "cell_type": "markdown",
   "metadata": {},
   "source": [
    "Visualize the ``confusion matrix`` using ``heatmap``:"
   ]
  },
  {
   "cell_type": "code",
   "execution_count": 21,
   "metadata": {},
   "outputs": [],
   "source": [
    "import seaborn as sns\n",
    "import matplotlib.pyplot as plt"
   ]
  },
  {
   "cell_type": "code",
   "execution_count": 22,
   "metadata": {},
   "outputs": [
    {
     "data": {
      "image/png": "[encoded data removed]",
      "text/plain": [
       "<Figure size 432x288 with 1 Axes>"
      ]
     },
     "metadata": {
      "needs_background": "light"
     },
     "output_type": "display_data"
    }
   ],
   "source": [
    "from sklearn.metrics import confusion_matrix\n",
    "mat = confusion_matrix(y_test, y_preds)\n",
    "sns.heatmap(mat.T, square=True, annot=True, fmt='d', cbar=False)\n",
    "plt.xlabel('true label')\n",
    "plt.ylabel('predicted label');"
   ]
  },
  {
   "cell_type": "code",
   "execution_count": null,
   "metadata": {},
   "outputs": [],
   "source": []
  }
 ],
 "metadata": {
  "kernelspec": {
   "display_name": "Python 3 (ipykernel)",
   "language": "python",
   "name": "python3"
  },
  "language_info": {
   "codemirror_mode": {
    "name": "ipython",
    "version": 3
   },
   "file_extension": ".py",
   "mimetype": "text/x-python",
   "name": "python",
   "nbconvert_exporter": "python",
   "pygments_lexer": "ipython3",
   "version": "3.9.12"
  }
 },
 "nbformat": 4,
 "nbformat_minor": 2
}
